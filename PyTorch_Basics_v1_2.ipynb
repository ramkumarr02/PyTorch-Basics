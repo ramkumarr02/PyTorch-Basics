{
  "nbformat": 4,
  "nbformat_minor": 0,
  "metadata": {
    "colab": {
      "name": "PyTorch Basics v1.2.ipynb",
      "provenance": [],
      "collapsed_sections": [
        "FR6cAmFhqZPm",
        "ilI3RUUzyoix",
        "5H9_SdxhtUEs",
        "3TanRvmOqbG2",
        "nUJjzTynrpK-",
        "AdshI_rAqUbw",
        "tm4LiK0rz1tQ",
        "zcJKI0IG747_",
        "5ZAmTa75bEqd",
        "-VA_dyGwbLNT",
        "mBDk6hBjGjFg",
        "7SsVhwKRpesk"
      ],
      "toc_visible": true,
      "authorship_tag": "ABX9TyMU9SsZKJaJ4riD+SAhqI6A",
      "include_colab_link": true
    },
    "kernelspec": {
      "name": "python3",
      "display_name": "Python 3"
    },
    "accelerator": "GPU"
  },
  "cells": [
    {
      "cell_type": "markdown",
      "metadata": {
        "id": "view-in-github",
        "colab_type": "text"
      },
      "source": [
        "<a href=\"https://colab.research.google.com/github/ramkumarr02/PyTorch-Basics/blob/master/PyTorch_Basics_v1_2.ipynb\" target=\"_parent\"><img src=\"https://colab.research.google.com/assets/colab-badge.svg\" alt=\"Open In Colab\"/></a>"
      ]
    },
    {
      "cell_type": "markdown",
      "metadata": {
        "id": "FR6cAmFhqZPm",
        "colab_type": "text"
      },
      "source": [
        "## CUDA"
      ]
    },
    {
      "cell_type": "code",
      "metadata": {
        "id": "Z6vW6Y7dcCND",
        "colab_type": "code",
        "outputId": "0107025d-0a2a-4395-edcc-b20af6184f44",
        "colab": {
          "base_uri": "https://localhost:8080/",
          "height": 0
        }
      },
      "source": [
        "import torch\n",
        "if torch.cuda.is_available():\n",
        "    print(torch.cuda)\n",
        "else:\n",
        "    print(\"NO\")"
      ],
      "execution_count": 1,
      "outputs": [
        {
          "output_type": "stream",
          "text": [
            "<module 'torch.cuda' from '/usr/local/lib/python3.6/dist-packages/torch/cuda/__init__.py'>\n"
          ],
          "name": "stdout"
        }
      ]
    },
    {
      "cell_type": "markdown",
      "metadata": {
        "id": "qKI6uefppxLQ",
        "colab_type": "text"
      },
      "source": [
        "# 1D Tensors\n"
      ]
    },
    {
      "cell_type": "markdown",
      "metadata": {
        "id": "ilI3RUUzyoix",
        "colab_type": "text"
      },
      "source": [
        "## Torch"
      ]
    },
    {
      "cell_type": "code",
      "metadata": {
        "id": "5V23s40yIL4S",
        "colab_type": "code",
        "colab": {}
      },
      "source": [
        "import torch"
      ],
      "execution_count": 0,
      "outputs": []
    },
    {
      "cell_type": "code",
      "metadata": {
        "id": "vhJBvWR1IX7T",
        "colab_type": "code",
        "colab": {}
      },
      "source": [
        "x = torch.empty(3,3)"
      ],
      "execution_count": 0,
      "outputs": []
    },
    {
      "cell_type": "code",
      "metadata": {
        "id": "2mJe5qGUIcbP",
        "colab_type": "code",
        "outputId": "0b5de4fa-9956-441f-be2e-c5a7f06aa2a1",
        "colab": {
          "base_uri": "https://localhost:8080/",
          "height": 0
        }
      },
      "source": [
        "torch.tensor(x)"
      ],
      "execution_count": 4,
      "outputs": [
        {
          "output_type": "stream",
          "text": [
            "/usr/local/lib/python3.6/dist-packages/ipykernel_launcher.py:1: UserWarning: To copy construct from a tensor, it is recommended to use sourceTensor.clone().detach() or sourceTensor.clone().detach().requires_grad_(True), rather than torch.tensor(sourceTensor).\n",
            "  \"\"\"Entry point for launching an IPython kernel.\n"
          ],
          "name": "stderr"
        },
        {
          "output_type": "execute_result",
          "data": {
            "text/plain": [
              "tensor([[2.2580e-35, 0.0000e+00, 0.0000e+00],\n",
              "        [0.0000e+00, 0.0000e+00, 0.0000e+00],\n",
              "        [0.0000e+00, 0.0000e+00, 2.8026e-45]])"
            ]
          },
          "metadata": {
            "tags": []
          },
          "execution_count": 4
        }
      ]
    },
    {
      "cell_type": "code",
      "metadata": {
        "id": "TUahpXdBIqTz",
        "colab_type": "code",
        "colab": {}
      },
      "source": [
        "x = torch.ones(5,5)"
      ],
      "execution_count": 0,
      "outputs": []
    },
    {
      "cell_type": "markdown",
      "metadata": {
        "id": "5H9_SdxhtUEs",
        "colab_type": "text"
      },
      "source": [
        "## Numpy & Tensor"
      ]
    },
    {
      "cell_type": "code",
      "metadata": {
        "id": "4iCVx9TLwVN1",
        "colab_type": "code",
        "outputId": "47b47348-cd8b-4867-b27a-21f27b4ddca2",
        "colab": {
          "base_uri": "https://localhost:8080/",
          "height": 0
        }
      },
      "source": [
        "import numpy as np\n",
        "narr = np.array([1,2,3,4])\n",
        "narr"
      ],
      "execution_count": 6,
      "outputs": [
        {
          "output_type": "execute_result",
          "data": {
            "text/plain": [
              "array([1, 2, 3, 4])"
            ]
          },
          "metadata": {
            "tags": []
          },
          "execution_count": 6
        }
      ]
    },
    {
      "cell_type": "code",
      "metadata": {
        "id": "e0E8tWMqwldb",
        "colab_type": "code",
        "outputId": "72dd00dd-4970-4ecf-f69c-1a874e627663",
        "colab": {
          "base_uri": "https://localhost:8080/",
          "height": 0
        }
      },
      "source": [
        "tens = torch.from_numpy(narr)\n",
        "tens"
      ],
      "execution_count": 7,
      "outputs": [
        {
          "output_type": "execute_result",
          "data": {
            "text/plain": [
              "tensor([1, 2, 3, 4])"
            ]
          },
          "metadata": {
            "tags": []
          },
          "execution_count": 7
        }
      ]
    },
    {
      "cell_type": "code",
      "metadata": {
        "id": "5AjnwMJVwqeh",
        "colab_type": "code",
        "outputId": "e459dc21-d29f-4a41-c880-4763e62a79d9",
        "colab": {
          "base_uri": "https://localhost:8080/",
          "height": 0
        }
      },
      "source": [
        "narr1 = tens.numpy()\n",
        "narr1"
      ],
      "execution_count": 8,
      "outputs": [
        {
          "output_type": "execute_result",
          "data": {
            "text/plain": [
              "array([1, 2, 3, 4])"
            ]
          },
          "metadata": {
            "tags": []
          },
          "execution_count": 8
        }
      ]
    },
    {
      "cell_type": "code",
      "metadata": {
        "id": "byAQ1hjXxG-A",
        "colab_type": "code",
        "outputId": "8f2482b3-7740-4c1d-91b0-6ae01ff0aa97",
        "colab": {
          "base_uri": "https://localhost:8080/",
          "height": 0
        }
      },
      "source": [
        "print(tens[0], type(tens[0]))\n",
        "print(tens[0].item(), type(tens[0].item()))"
      ],
      "execution_count": 9,
      "outputs": [
        {
          "output_type": "stream",
          "text": [
            "tensor(1) <class 'torch.Tensor'>\n",
            "1 <class 'int'>\n"
          ],
          "name": "stdout"
        }
      ]
    },
    {
      "cell_type": "markdown",
      "metadata": {
        "id": "afKnkH-5zjbY",
        "colab_type": "text"
      },
      "source": [
        "## Data manipulation"
      ]
    },
    {
      "cell_type": "markdown",
      "metadata": {
        "id": "3TanRvmOqbG2",
        "colab_type": "text"
      },
      "source": [
        "### Data type"
      ]
    },
    {
      "cell_type": "code",
      "metadata": {
        "id": "tugU8k3tp5OX",
        "colab_type": "code",
        "outputId": "eca74b3b-2d43-4584-dce3-ceeb6caa96a1",
        "colab": {
          "base_uri": "https://localhost:8080/",
          "height": 0
        }
      },
      "source": [
        "a = torch.tensor([1,2,3])\n",
        "print(a.dtype)\n",
        "print(a.type())"
      ],
      "execution_count": 10,
      "outputs": [
        {
          "output_type": "stream",
          "text": [
            "torch.int64\n",
            "torch.LongTensor\n"
          ],
          "name": "stdout"
        }
      ]
    },
    {
      "cell_type": "code",
      "metadata": {
        "id": "46nlGU6QqjkO",
        "colab_type": "code",
        "outputId": "a0971bb8-570f-46d8-ac8a-8cff6f5d5480",
        "colab": {
          "base_uri": "https://localhost:8080/",
          "height": 0
        }
      },
      "source": [
        "a = torch.tensor([1,2,3], dtype = torch.float)\n",
        "print(a.dtype)\n",
        "print(a)\n",
        "print(a.type())"
      ],
      "execution_count": 11,
      "outputs": [
        {
          "output_type": "stream",
          "text": [
            "torch.float32\n",
            "tensor([1., 2., 3.])\n",
            "torch.FloatTensor\n"
          ],
          "name": "stdout"
        }
      ]
    },
    {
      "cell_type": "markdown",
      "metadata": {
        "id": "nUJjzTynrpK-",
        "colab_type": "text"
      },
      "source": [
        "### Dimensions\n"
      ]
    },
    {
      "cell_type": "code",
      "metadata": {
        "id": "nOaZfdrbrrgH",
        "colab_type": "code",
        "outputId": "57d716f7-9f5a-4150-e8dd-e44975ab5954",
        "colab": {
          "base_uri": "https://localhost:8080/",
          "height": 0
        }
      },
      "source": [
        "a = torch.tensor([1,2,3,4])\n",
        "print(a.size())\n",
        "print(a.ndimension())"
      ],
      "execution_count": 12,
      "outputs": [
        {
          "output_type": "stream",
          "text": [
            "torch.Size([4])\n",
            "1\n"
          ],
          "name": "stdout"
        }
      ]
    },
    {
      "cell_type": "code",
      "metadata": {
        "id": "yCUvD-ypsgal",
        "colab_type": "code",
        "outputId": "4518a380-42f9-4a14-c775-533cd2158516",
        "colab": {
          "base_uri": "https://localhost:8080/",
          "height": 0
        }
      },
      "source": [
        "a = torch.tensor([1,2,3,4,5,6])\n",
        "#a.view(row_num, col_num)\n",
        "print(a.view(2,-1))\n",
        "print('---------------------------')\n",
        "print(a.view(-1,2))\n",
        "print('---------------------------')\n",
        "print(a.view(1,-1))\n",
        "print('---------------------------')\n",
        "print(a.view(-1,1))"
      ],
      "execution_count": 13,
      "outputs": [
        {
          "output_type": "stream",
          "text": [
            "tensor([[1, 2, 3],\n",
            "        [4, 5, 6]])\n",
            "---------------------------\n",
            "tensor([[1, 2],\n",
            "        [3, 4],\n",
            "        [5, 6]])\n",
            "---------------------------\n",
            "tensor([[1, 2, 3, 4, 5, 6]])\n",
            "---------------------------\n",
            "tensor([[1],\n",
            "        [2],\n",
            "        [3],\n",
            "        [4],\n",
            "        [5],\n",
            "        [6]])\n"
          ],
          "name": "stdout"
        }
      ]
    },
    {
      "cell_type": "markdown",
      "metadata": {
        "id": "AdshI_rAqUbw",
        "colab_type": "text"
      },
      "source": [
        "### Addition & Multiplication"
      ]
    },
    {
      "cell_type": "code",
      "metadata": {
        "id": "OBNCtUWlI9hS",
        "colab_type": "code",
        "outputId": "9dba455b-5d0a-44e5-b533-8211a7868cfe",
        "colab": {
          "base_uri": "https://localhost:8080/",
          "height": 0
        }
      },
      "source": [
        "y =  torch.ones(5,5) * 2\n",
        "y"
      ],
      "execution_count": 14,
      "outputs": [
        {
          "output_type": "execute_result",
          "data": {
            "text/plain": [
              "tensor([[2., 2., 2., 2., 2.],\n",
              "        [2., 2., 2., 2., 2.],\n",
              "        [2., 2., 2., 2., 2.],\n",
              "        [2., 2., 2., 2., 2.],\n",
              "        [2., 2., 2., 2., 2.]])"
            ]
          },
          "metadata": {
            "tags": []
          },
          "execution_count": 14
        }
      ]
    },
    {
      "cell_type": "code",
      "metadata": {
        "id": "1q0F1a2nJJTM",
        "colab_type": "code",
        "outputId": "3fa1527d-e53a-417c-c61d-67120a440dd7",
        "colab": {
          "base_uri": "https://localhost:8080/",
          "height": 0
        }
      },
      "source": [
        "x + y"
      ],
      "execution_count": 15,
      "outputs": [
        {
          "output_type": "execute_result",
          "data": {
            "text/plain": [
              "tensor([[3., 3., 3., 3., 3.],\n",
              "        [3., 3., 3., 3., 3.],\n",
              "        [3., 3., 3., 3., 3.],\n",
              "        [3., 3., 3., 3., 3.],\n",
              "        [3., 3., 3., 3., 3.]])"
            ]
          },
          "metadata": {
            "tags": []
          },
          "execution_count": 15
        }
      ]
    },
    {
      "cell_type": "code",
      "metadata": {
        "id": "YdVH6Qd-J7C2",
        "colab_type": "code",
        "outputId": "a186a714-87e3-428d-9a7a-f1f9db58d07f",
        "colab": {
          "base_uri": "https://localhost:8080/",
          "height": 0
        }
      },
      "source": [
        "y.add(x)"
      ],
      "execution_count": 16,
      "outputs": [
        {
          "output_type": "execute_result",
          "data": {
            "text/plain": [
              "tensor([[3., 3., 3., 3., 3.],\n",
              "        [3., 3., 3., 3., 3.],\n",
              "        [3., 3., 3., 3., 3.],\n",
              "        [3., 3., 3., 3., 3.],\n",
              "        [3., 3., 3., 3., 3.]])"
            ]
          },
          "metadata": {
            "tags": []
          },
          "execution_count": 16
        }
      ]
    },
    {
      "cell_type": "code",
      "metadata": {
        "id": "TuHOOy2hJ9Cv",
        "colab_type": "code",
        "outputId": "c1feeaa5-e479-4831-ead5-726b2025615b",
        "colab": {
          "base_uri": "https://localhost:8080/",
          "height": 0
        }
      },
      "source": [
        "y"
      ],
      "execution_count": 17,
      "outputs": [
        {
          "output_type": "execute_result",
          "data": {
            "text/plain": [
              "tensor([[2., 2., 2., 2., 2.],\n",
              "        [2., 2., 2., 2., 2.],\n",
              "        [2., 2., 2., 2., 2.],\n",
              "        [2., 2., 2., 2., 2.],\n",
              "        [2., 2., 2., 2., 2.]])"
            ]
          },
          "metadata": {
            "tags": []
          },
          "execution_count": 17
        }
      ]
    },
    {
      "cell_type": "code",
      "metadata": {
        "id": "bQ8Fs4qSJ-CZ",
        "colab_type": "code",
        "outputId": "0fa93bf0-577e-4b59-b46e-deed6ad14f36",
        "colab": {
          "base_uri": "https://localhost:8080/",
          "height": 0
        }
      },
      "source": [
        "y.add_(x)"
      ],
      "execution_count": 18,
      "outputs": [
        {
          "output_type": "execute_result",
          "data": {
            "text/plain": [
              "tensor([[3., 3., 3., 3., 3.],\n",
              "        [3., 3., 3., 3., 3.],\n",
              "        [3., 3., 3., 3., 3.],\n",
              "        [3., 3., 3., 3., 3.],\n",
              "        [3., 3., 3., 3., 3.]])"
            ]
          },
          "metadata": {
            "tags": []
          },
          "execution_count": 18
        }
      ]
    },
    {
      "cell_type": "code",
      "metadata": {
        "id": "sXLNVeVFKAwC",
        "colab_type": "code",
        "outputId": "760cbd8d-4f2e-4036-9cd7-624321cc691d",
        "colab": {
          "base_uri": "https://localhost:8080/",
          "height": 0
        }
      },
      "source": [
        "y"
      ],
      "execution_count": 19,
      "outputs": [
        {
          "output_type": "execute_result",
          "data": {
            "text/plain": [
              "tensor([[3., 3., 3., 3., 3.],\n",
              "        [3., 3., 3., 3., 3.],\n",
              "        [3., 3., 3., 3., 3.],\n",
              "        [3., 3., 3., 3., 3.],\n",
              "        [3., 3., 3., 3., 3.]])"
            ]
          },
          "metadata": {
            "tags": []
          },
          "execution_count": 19
        }
      ]
    },
    {
      "cell_type": "code",
      "metadata": {
        "id": "RdUpM6sKPa7E",
        "colab_type": "code",
        "outputId": "66bc1836-fe84-440b-dbba-a171976b5e74",
        "colab": {
          "base_uri": "https://localhost:8080/",
          "height": 0
        }
      },
      "source": [
        "y.view(-1,25)"
      ],
      "execution_count": 20,
      "outputs": [
        {
          "output_type": "execute_result",
          "data": {
            "text/plain": [
              "tensor([[3., 3., 3., 3., 3., 3., 3., 3., 3., 3., 3., 3., 3., 3., 3., 3., 3., 3.,\n",
              "         3., 3., 3., 3., 3., 3., 3.]])"
            ]
          },
          "metadata": {
            "tags": []
          },
          "execution_count": 20
        }
      ]
    },
    {
      "cell_type": "markdown",
      "metadata": {
        "id": "tm4LiK0rz1tQ",
        "colab_type": "text"
      },
      "source": [
        "### Vector manipulation"
      ]
    },
    {
      "cell_type": "code",
      "metadata": {
        "id": "jH6XGEMez37g",
        "colab_type": "code",
        "outputId": "4a53c75b-c4ae-4284-f0d9-0504c692fa1b",
        "colab": {
          "base_uri": "https://localhost:8080/",
          "height": 0
        }
      },
      "source": [
        "u = torch.tensor([1,2,3])\n",
        "v = torch.tensor([1.0,2.0,3.0])\n",
        "\n",
        "z = u + v\n",
        "print(z)\n",
        "\n",
        "z = u * 2\n",
        "print(z)"
      ],
      "execution_count": 21,
      "outputs": [
        {
          "output_type": "stream",
          "text": [
            "tensor([2., 4., 6.])\n",
            "tensor([2, 4, 6])\n"
          ],
          "name": "stdout"
        }
      ]
    },
    {
      "cell_type": "code",
      "metadata": {
        "id": "S33LnFH60Jc1",
        "colab_type": "code",
        "outputId": "e258fe3a-a0fa-4899-e205-3a6c2c25ccc6",
        "colab": {
          "base_uri": "https://localhost:8080/",
          "height": 0
        }
      },
      "source": [
        "# Hadamard Product\n",
        "z = u * v\n",
        "print(z)\n",
        "\n",
        "\n",
        "# Dot Product\n",
        "u = torch.tensor([1,2,3])\n",
        "v = torch.tensor([1,2,3])\n",
        "z = torch.dot(u,v)\n",
        "print(z)"
      ],
      "execution_count": 22,
      "outputs": [
        {
          "output_type": "stream",
          "text": [
            "tensor([1., 4., 9.])\n",
            "tensor(14)\n"
          ],
          "name": "stdout"
        }
      ]
    },
    {
      "cell_type": "markdown",
      "metadata": {
        "id": "zcJKI0IG747_",
        "colab_type": "text"
      },
      "source": [
        "### Tensor functions"
      ]
    },
    {
      "cell_type": "code",
      "metadata": {
        "id": "9xYma9lQ1ASv",
        "colab_type": "code",
        "outputId": "28e88657-3875-44bc-841b-e2b7e154e6ba",
        "colab": {
          "base_uri": "https://localhost:8080/",
          "height": 0
        }
      },
      "source": [
        "print(u.type())\n",
        "u = u.float()\n",
        "print(u.type())\n",
        "\n",
        "print(u.mean()),x.numpy()\n",
        "print(u.max())"
      ],
      "execution_count": 23,
      "outputs": [
        {
          "output_type": "stream",
          "text": [
            "torch.LongTensor\n",
            "torch.FloatTensor\n",
            "tensor(2.)\n",
            "tensor(3.)\n"
          ],
          "name": "stdout"
        }
      ]
    },
    {
      "cell_type": "code",
      "metadata": {
        "id": "vMexQJKo5TNn",
        "colab_type": "code",
        "outputId": "ef533634-5f48-4f48-d3fc-beae42b9343c",
        "colab": {
          "base_uri": "https://localhost:8080/",
          "height": 0
        }
      },
      "source": [
        "torch.linspace(start = 0, end = 10, steps = 6)"
      ],
      "execution_count": 24,
      "outputs": [
        {
          "output_type": "execute_result",
          "data": {
            "text/plain": [
              "tensor([ 0.,  2.,  4.,  6.,  8., 10.])"
            ]
          },
          "metadata": {
            "tags": []
          },
          "execution_count": 24
        }
      ]
    },
    {
      "cell_type": "code",
      "metadata": {
        "id": "g_78Pobg7IgY",
        "colab_type": "code",
        "colab": {}
      },
      "source": [
        "pi_val = np.pi\n",
        "\n",
        "x = torch.linspace(0, 2*np.pi, 100)\n",
        "y = torch.sin(x)"
      ],
      "execution_count": 0,
      "outputs": []
    },
    {
      "cell_type": "code",
      "metadata": {
        "id": "rA5H1QxI7g23",
        "colab_type": "code",
        "colab": {}
      },
      "source": [
        "import matplotlib.pyplot as plt\n",
        "% matplotlib inline"
      ],
      "execution_count": 0,
      "outputs": []
    },
    {
      "cell_type": "code",
      "metadata": {
        "id": "NsRDTr9m7ogW",
        "colab_type": "code",
        "outputId": "8866ca87-1b25-47e2-fc2e-10976a6c9518",
        "colab": {
          "base_uri": "https://localhost:8080/",
          "height": 0
        }
      },
      "source": [
        "plt.plot(x.numpy(), y.numpy())"
      ],
      "execution_count": 27,
      "outputs": [
        {
          "output_type": "execute_result",
          "data": {
            "text/plain": [
              "[<matplotlib.lines.Line2D at 0x7f94b7b6f5f8>]"
            ]
          },
          "metadata": {
            "tags": []
          },
          "execution_count": 27
        },
        {
          "output_type": "display_data",
          "data": {
            "image/png": "[encoded data removed]",
            "text/plain": [
              "<Figure size 432x288 with 1 Axes>"
            ]
          },
          "metadata": {
            "tags": []
          }
        }
      ]
    },
    {
      "cell_type": "markdown",
      "metadata": {
        "id": "5ZAmTa75bEqd",
        "colab_type": "text"
      },
      "source": [
        "# 2D Tensors"
      ]
    },
    {
      "cell_type": "markdown",
      "metadata": {
        "id": "-VA_dyGwbLNT",
        "colab_type": "text"
      },
      "source": [
        "## Create 2D Tensors\n"
      ]
    },
    {
      "cell_type": "code",
      "metadata": {
        "id": "tAV2RXZ1dQvj",
        "colab_type": "code",
        "outputId": "65a840fa-aec2-4fbe-b583-7436e62d5961",
        "colab": {
          "base_uri": "https://localhost:8080/",
          "height": 0
        }
      },
      "source": [
        "a = [[1,2,3],[4,5,6],[7,8,9]]\n",
        "a = torch.tensor(a)\n",
        "a"
      ],
      "execution_count": 28,
      "outputs": [
        {
          "output_type": "execute_result",
          "data": {
            "text/plain": [
              "tensor([[1, 2, 3],\n",
              "        [4, 5, 6],\n",
              "        [7, 8, 9]])"
            ]
          },
          "metadata": {
            "tags": []
          },
          "execution_count": 28
        }
      ]
    },
    {
      "cell_type": "code",
      "metadata": {
        "id": "CTAFJSSRdoT6",
        "colab_type": "code",
        "outputId": "fa237607-2233-45aa-ff51-c8e3ac780027",
        "colab": {
          "base_uri": "https://localhost:8080/",
          "height": 0
        }
      },
      "source": [
        "print(a.size())\n",
        "print(a.shape)\n",
        "print(a.numel())"
      ],
      "execution_count": 29,
      "outputs": [
        {
          "output_type": "stream",
          "text": [
            "torch.Size([3, 3])\n",
            "torch.Size([3, 3])\n",
            "9\n"
          ],
          "name": "stdout"
        }
      ]
    },
    {
      "cell_type": "markdown",
      "metadata": {
        "id": "83fh9zkMbxki",
        "colab_type": "text"
      },
      "source": [
        "## Indexing and Slicing"
      ]
    },
    {
      "cell_type": "code",
      "metadata": {
        "id": "uxkNegUNd92R",
        "colab_type": "code",
        "outputId": "bb6963fa-0fac-4b1c-e725-536d6cd7bf7f",
        "colab": {
          "base_uri": "https://localhost:8080/",
          "height": 0
        }
      },
      "source": [
        "print(a[0][0])\n",
        "print(a[0,0])\n",
        "\n",
        "print(a[0][0:2])\n",
        "print(a[0,0:2])"
      ],
      "execution_count": 30,
      "outputs": [
        {
          "output_type": "stream",
          "text": [
            "tensor(1)\n",
            "tensor(1)\n",
            "tensor([1, 2])\n",
            "tensor([1, 2])\n"
          ],
          "name": "stdout"
        }
      ]
    },
    {
      "cell_type": "code",
      "metadata": {
        "id": "tEUrdlIspyHI",
        "colab_type": "code",
        "outputId": "56c65491-0ae1-4fa1-ebdf-018ef6432290",
        "colab": {
          "base_uri": "https://localhost:8080/",
          "height": 0
        }
      },
      "source": [
        "print(a)\n",
        "\n",
        "print(\"-----------------\")\n",
        "print(\"Print middle row\")\n",
        "print(a[1,0:3])\n",
        "\n",
        "print(\"-----------------\")\n",
        "print(\"Print middle col\")\n",
        "print(a[0:3,1])"
      ],
      "execution_count": 31,
      "outputs": [
        {
          "output_type": "stream",
          "text": [
            "tensor([[1, 2, 3],\n",
            "        [4, 5, 6],\n",
            "        [7, 8, 9]])\n",
            "-----------------\n",
            "Print middle row\n",
            "tensor([4, 5, 6])\n",
            "-----------------\n",
            "Print middle col\n",
            "tensor([2, 5, 8])\n"
          ],
          "name": "stdout"
        }
      ]
    },
    {
      "cell_type": "markdown",
      "metadata": {
        "id": "sZ6mSdk6b1vs",
        "colab_type": "text"
      },
      "source": [
        "## Basic Operations"
      ]
    },
    {
      "cell_type": "code",
      "metadata": {
        "id": "OkGsiN1JefNB",
        "colab_type": "code",
        "outputId": "add4c8a2-4f4d-4f79-b95d-c130e15d8930",
        "colab": {
          "base_uri": "https://localhost:8080/",
          "height": 0
        }
      },
      "source": [
        "b = a * 2\n",
        "b"
      ],
      "execution_count": 32,
      "outputs": [
        {
          "output_type": "execute_result",
          "data": {
            "text/plain": [
              "tensor([[ 2,  4,  6],\n",
              "        [ 8, 10, 12],\n",
              "        [14, 16, 18]])"
            ]
          },
          "metadata": {
            "tags": []
          },
          "execution_count": 32
        }
      ]
    },
    {
      "cell_type": "code",
      "metadata": {
        "id": "2NPrhj-flVKU",
        "colab_type": "code",
        "outputId": "470d286d-03f3-4e09-f032-ecd4b183544f",
        "colab": {
          "base_uri": "https://localhost:8080/",
          "height": 0
        }
      },
      "source": [
        "print(a + b)\n",
        "print(a * b)"
      ],
      "execution_count": 33,
      "outputs": [
        {
          "output_type": "stream",
          "text": [
            "tensor([[ 3,  6,  9],\n",
            "        [12, 15, 18],\n",
            "        [21, 24, 27]])\n",
            "tensor([[  2,   8,  18],\n",
            "        [ 32,  50,  72],\n",
            "        [ 98, 128, 162]])\n"
          ],
          "name": "stdout"
        }
      ]
    },
    {
      "cell_type": "code",
      "metadata": {
        "id": "xPy223wNlpwC",
        "colab_type": "code",
        "outputId": "31b895e2-b1f4-4ec2-f879-fa523b4366ef",
        "colab": {
          "base_uri": "https://localhost:8080/",
          "height": 0
        }
      },
      "source": [
        "try:\n",
        "    c = torch.dot(a,b)\n",
        "    print(c)\n",
        "except:\n",
        "    print(\"torch.dot is only for 1D tensors\")\n",
        "    c = torch.mm(a,b)\n",
        "    print(c)"
      ],
      "execution_count": 34,
      "outputs": [
        {
          "output_type": "stream",
          "text": [
            "torch.dot is only for 1D tensors\n",
            "tensor([[ 60,  72,  84],\n",
            "        [132, 162, 192],\n",
            "        [204, 252, 300]])\n"
          ],
          "name": "stdout"
        }
      ]
    },
    {
      "cell_type": "markdown",
      "metadata": {
        "id": "mBDk6hBjGjFg",
        "colab_type": "text"
      },
      "source": [
        "# Diff Calculus"
      ]
    },
    {
      "cell_type": "markdown",
      "metadata": {
        "id": "WEMA9QCjmFqq",
        "colab_type": "text"
      },
      "source": [
        "## Derivatives in PyTorch"
      ]
    },
    {
      "cell_type": "code",
      "metadata": {
        "id": "o2gEYdSlCu69",
        "colab_type": "code",
        "outputId": "c4516204-840a-4387-fc5c-ce48ca9600a8",
        "colab": {
          "base_uri": "https://localhost:8080/",
          "height": 0
        }
      },
      "source": [
        "# set value of x and enable gradient\n",
        "x = torch.tensor(2.0, requires_grad = True)\n",
        "\n",
        "# Function\n",
        "y = x**2\n",
        "\n",
        "# Calculate derivative equations\n",
        "y.backward()\n",
        "\n",
        "# Find the gradient(dy/dx) at x = 2\n",
        "x.grad"
      ],
      "execution_count": 35,
      "outputs": [
        {
          "output_type": "execute_result",
          "data": {
            "text/plain": [
              "tensor(4.)"
            ]
          },
          "metadata": {
            "tags": []
          },
          "execution_count": 35
        }
      ]
    },
    {
      "cell_type": "code",
      "metadata": {
        "id": "wjImoAA5FBBw",
        "colab_type": "code",
        "outputId": "6d2b36b0-5682-4d13-d3bd-58efb9dd58e9",
        "colab": {
          "base_uri": "https://localhost:8080/",
          "height": 0
        }
      },
      "source": [
        "x = torch.tensor(2.0, requires_grad = True)\n",
        "y = x**2 + 2*x + 1\n",
        "\n",
        "y.backward()\n",
        "\n",
        "x.grad"
      ],
      "execution_count": 36,
      "outputs": [
        {
          "output_type": "execute_result",
          "data": {
            "text/plain": [
              "tensor(6.)"
            ]
          },
          "metadata": {
            "tags": []
          },
          "execution_count": 36
        }
      ]
    },
    {
      "cell_type": "markdown",
      "metadata": {
        "id": "YYbbElSiGy6A",
        "colab_type": "text"
      },
      "source": [
        "## Partial Derivatives in Pytorch"
      ]
    },
    {
      "cell_type": "code",
      "metadata": {
        "id": "PFnWbO9NG2X4",
        "colab_type": "code",
        "outputId": "1958b90f-05dd-4c24-b8cf-84456b8771ca",
        "colab": {
          "base_uri": "https://localhost:8080/",
          "height": 0
        }
      },
      "source": [
        "u = torch.tensor(1.0, requires_grad = True)\n",
        "v = torch.tensor(2.0, requires_grad = True)\n",
        "\n",
        "f = u*v + u**2\n",
        "\n",
        "f.backward()\n",
        "\n",
        "print(u.grad)\n",
        "print(v.grad)"
      ],
      "execution_count": 37,
      "outputs": [
        {
          "output_type": "stream",
          "text": [
            "tensor(4.)\n",
            "tensor(1.)\n"
          ],
          "name": "stdout"
        }
      ]
    },
    {
      "cell_type": "markdown",
      "metadata": {
        "id": "TNF0gea2irA0",
        "colab_type": "text"
      },
      "source": [
        "## Subclass Autograd function"
      ]
    },
    {
      "cell_type": "code",
      "metadata": {
        "id": "bLnrFIefikE2",
        "colab_type": "code",
        "colab": {}
      },
      "source": [
        "class SQ(torch.autograd.Function):\n",
        "\n",
        "\n",
        "    @staticmethod\n",
        "    def forward(ctx,i):\n",
        "        \"\"\"\n",
        "        In the forward pass we receive a Tensor containing the input and return\n",
        "        a Tensor containing the output. ctx is a context object that can be used\n",
        "        to stash information for backward computation. You can cache arbitrary\n",
        "        objects for use in the backward pass using the ctx.save_for_backward method.\n",
        "        \"\"\"\n",
        "        result=i**2\n",
        "        ctx.save_for_backward(i)        \n",
        "        return result\n",
        "\n",
        "    @staticmethod\n",
        "    def backward(ctx, grad_output):\n",
        "        \"\"\"\n",
        "        In the backward pass we receive a Tensor containing the gradient of the loss\n",
        "        with respect to the output, and we need to compute the gradient of the loss\n",
        "        with respect to the input.\n",
        "        \"\"\"\n",
        "        i, = ctx.saved_tensors\n",
        "        grad_output = 2*i\n",
        "        return grad_output"
      ],
      "execution_count": 0,
      "outputs": []
    },
    {
      "cell_type": "code",
      "metadata": {
        "id": "xVOjKE4oik80",
        "colab_type": "code",
        "outputId": "ca9f38b8-cab5-4479-89bc-79d59c3ae312",
        "colab": {
          "base_uri": "https://localhost:8080/",
          "height": 0
        }
      },
      "source": [
        "x=torch.tensor(2.0,requires_grad=True )\n",
        "sq=SQ.apply\n",
        "\n",
        "y=sq(x)\n",
        "y\n",
        "print(y.grad_fn)\n",
        "y.backward()\n",
        "x.grad"
      ],
      "execution_count": 39,
      "outputs": [
        {
          "output_type": "stream",
          "text": [
            "<torch.autograd.function.SQBackward object at 0x7f952a284748>\n"
          ],
          "name": "stdout"
        },
        {
          "output_type": "execute_result",
          "data": {
            "text/plain": [
              "tensor(4.)"
            ]
          },
          "metadata": {
            "tags": []
          },
          "execution_count": 39
        }
      ]
    },
    {
      "cell_type": "markdown",
      "metadata": {
        "id": "I91uVqE1izl8",
        "colab_type": "text"
      },
      "source": [
        "## X**2 graph"
      ]
    },
    {
      "cell_type": "code",
      "metadata": {
        "id": "VJu39p2ti4b7",
        "colab_type": "code",
        "outputId": "d4f8af8d-5158-4318-9147-11b946a0eeb1",
        "colab": {
          "base_uri": "https://localhost:8080/",
          "height": 0
        }
      },
      "source": [
        "# Calculate the derivative with multiple values\n",
        "\n",
        "x = torch.linspace(-10, 10, 10, requires_grad = True)\n",
        "Y = x ** 2\n",
        "y = torch.sum(x ** 2)\n",
        "\n",
        "# Take the derivative with respect to multiple value. Plot out the function and its derivative\n",
        "\n",
        "y.backward()\n",
        "\n",
        "plt.plot(x.detach().numpy(), Y.detach().numpy(), label = 'function')\n",
        "plt.plot(x.detach().numpy(), x.grad.detach().numpy(), label = 'derivative')\n",
        "plt.xlabel('x')\n",
        "plt.legend()\n",
        "plt.show()"
      ],
      "execution_count": 40,
      "outputs": [
        {
          "output_type": "display_data",
          "data": {
            "image/png": "[encoded data removed]",
            "text/plain": [
              "<Figure size 432x288 with 1 Axes>"
            ]
          },
          "metadata": {
            "tags": []
          }
        }
      ]
    },
    {
      "cell_type": "markdown",
      "metadata": {
        "id": "_ZD9FRTxi8Dr",
        "colab_type": "text"
      },
      "source": [
        "## Relu Graph"
      ]
    },
    {
      "cell_type": "code",
      "metadata": {
        "id": "Cp1eSfffjAD2",
        "colab_type": "code",
        "outputId": "9f8c83e3-b880-48d7-afbf-69716f95d686",
        "colab": {
          "base_uri": "https://localhost:8080/",
          "height": 0
        }
      },
      "source": [
        "# Take the derivative of Relu with respect to multiple value. Plot out the function and its derivative\n",
        "\n",
        "x = torch.linspace(-10, 10, 1000, requires_grad = True)\n",
        "Y = torch.relu(x)\n",
        "y = Y.sum()\n",
        "y.backward()\n",
        "plt.plot(x.detach().numpy(), Y.detach().numpy(), label = 'function')\n",
        "plt.plot(x.detach().numpy(), x.grad.detach().numpy(), label = 'derivative')\n",
        "plt.xlabel('x')\n",
        "plt.legend()\n",
        "plt.show()"
      ],
      "execution_count": 41,
      "outputs": [
        {
          "output_type": "display_data",
          "data": {
            "image/png": "[encoded data removed]",
            "text/plain": [
              "<Figure size 432x288 with 1 Axes>"
            ]
          },
          "metadata": {
            "tags": []
          }
        }
      ]
    },
    {
      "cell_type": "markdown",
      "metadata": {
        "id": "I5tL9sW-pYL9",
        "colab_type": "text"
      },
      "source": [
        ""
      ]
    },
    {
      "cell_type": "markdown",
      "metadata": {
        "id": "1oz6SczIpZSD",
        "colab_type": "text"
      },
      "source": [
        "# Simple Dataset"
      ]
    },
    {
      "cell_type": "markdown",
      "metadata": {
        "id": "7SsVhwKRpesk",
        "colab_type": "text"
      },
      "source": [
        "## Dataset class and Object"
      ]
    },
    {
      "cell_type": "code",
      "metadata": {
        "id": "ZYKTnxi3yhCF",
        "colab_type": "code",
        "colab": {}
      },
      "source": [
        "from torch.utils.data import Dataset"
      ],
      "execution_count": 0,
      "outputs": []
    },
    {
      "cell_type": "code",
      "metadata": {
        "id": "fwUGFLfzIYdD",
        "colab_type": "code",
        "colab": {}
      },
      "source": [
        "class toy_set(Dataset):\n",
        "\n",
        "    def __init__(self, length = 100, transform = None):\n",
        "        self.len        =   length\n",
        "        self.transform  =   transform\n",
        "        self.x          =   2 * torch.ones(length, 2)\n",
        "        self.y          =   torch.ones(length, 1)\n",
        "\n",
        "    def __getitem__(self, index):\n",
        "        sample = self.x[index], self.y[index]        \n",
        "        if self.transform:\n",
        "            sample = self.transform(sample)        \n",
        "        return(sample)\n",
        "\n",
        "    def __len__(self):\n",
        "        return(self.len)"
      ],
      "execution_count": 0,
      "outputs": []
    },
    {
      "cell_type": "code",
      "metadata": {
        "id": "3i1VxlZ6S4po",
        "colab_type": "code",
        "colab": {}
      },
      "source": [
        "dataset = toy_set()"
      ],
      "execution_count": 0,
      "outputs": []
    },
    {
      "cell_type": "code",
      "metadata": {
        "id": "uXh4j41OTrFv",
        "colab_type": "code",
        "outputId": "cf0ef407-1c20-4b8d-efa9-b96def1e5084",
        "colab": {
          "base_uri": "https://localhost:8080/",
          "height": 0
        }
      },
      "source": [
        "len(dataset)"
      ],
      "execution_count": 45,
      "outputs": [
        {
          "output_type": "execute_result",
          "data": {
            "text/plain": [
              "100"
            ]
          },
          "metadata": {
            "tags": []
          },
          "execution_count": 45
        }
      ]
    },
    {
      "cell_type": "markdown",
      "metadata": {
        "id": "4P_fgJHqp4aS",
        "colab_type": "text"
      },
      "source": [
        "## Dataset Transform"
      ]
    },
    {
      "cell_type": "code",
      "metadata": {
        "id": "tBX47iLCT9Z7",
        "colab_type": "code",
        "colab": {}
      },
      "source": [
        "class addi(object):\n",
        "    \n",
        "    def __init__(self, add_val = 1):\n",
        "        self.add_val = add_val\n",
        "\n",
        "    def __call__(self, sample):\n",
        "        x = sample[0]\n",
        "        y = sample[1]\n",
        "        x = x + self.add_val\n",
        "        y = y + self.add_val\n",
        "        sample = x,y\n",
        "        return(sample)"
      ],
      "execution_count": 0,
      "outputs": []
    },
    {
      "cell_type": "code",
      "metadata": {
        "id": "ylse4_MeU7u0",
        "colab_type": "code",
        "colab": {}
      },
      "source": [
        "class mult(object):\n",
        "\n",
        "    def __init__(self, mult_val = 1):\n",
        "        self.mult_val = mult_val\n",
        "\n",
        "    def __call__(self, sample):\n",
        "        x = sample[0]\n",
        "        y = sample[1]\n",
        "        x = x * self.mult_val\n",
        "        y = y * self.mult_val\n",
        "        sample = x,y\n",
        "        return(sample)"
      ],
      "execution_count": 0,
      "outputs": []
    },
    {
      "cell_type": "code",
      "metadata": {
        "id": "CQ8jcTBRVyEs",
        "colab_type": "code",
        "outputId": "5dab5cd3-6be5-460d-e18d-1ca718fd1c2f",
        "colab": {
          "base_uri": "https://localhost:8080/",
          "height": 50
        }
      },
      "source": [
        "obj_add = addi(10)\n",
        "\n",
        "print(dataset[0])\n",
        "\n",
        "print(obj_add(dataset[0]))"
      ],
      "execution_count": 48,
      "outputs": [
        {
          "output_type": "stream",
          "text": [
            "(tensor([2., 2.]), tensor([1.]))\n",
            "(tensor([12., 12.]), tensor([11.]))\n"
          ],
          "name": "stdout"
        }
      ]
    },
    {
      "cell_type": "code",
      "metadata": {
        "id": "hPIbjvKsWHI_",
        "colab_type": "code",
        "outputId": "7530e1a1-4ada-4ac3-c9de-e2ff90ae6ee3",
        "colab": {
          "base_uri": "https://localhost:8080/",
          "height": 50
        }
      },
      "source": [
        "obj_mult = mult(5)\n",
        "\n",
        "print(dataset[0])\n",
        "\n",
        "print(obj_mult(dataset[0]))"
      ],
      "execution_count": 49,
      "outputs": [
        {
          "output_type": "stream",
          "text": [
            "(tensor([2., 2.]), tensor([1.]))\n",
            "(tensor([10., 10.]), tensor([5.]))\n"
          ],
          "name": "stdout"
        }
      ]
    },
    {
      "cell_type": "code",
      "metadata": {
        "id": "Qb7xBUx3dPIG",
        "colab_type": "code",
        "outputId": "ace0f736-f2b7-41e0-fac9-15ce9d4869ee",
        "colab": {
          "base_uri": "https://localhost:8080/",
          "height": 33
        }
      },
      "source": [
        "ds1 = toy_set(transform = obj_add)\n",
        "ds1[0]"
      ],
      "execution_count": 50,
      "outputs": [
        {
          "output_type": "execute_result",
          "data": {
            "text/plain": [
              "(tensor([12., 12.]), tensor([11.]))"
            ]
          },
          "metadata": {
            "tags": []
          },
          "execution_count": 50
        }
      ]
    },
    {
      "cell_type": "markdown",
      "metadata": {
        "id": "o8nD1Akqp97S",
        "colab_type": "text"
      },
      "source": [
        "## Compose Transform"
      ]
    },
    {
      "cell_type": "code",
      "metadata": {
        "id": "_IqNRlaLWUbK",
        "colab_type": "code",
        "colab": {}
      },
      "source": [
        "from torchvision import transforms"
      ],
      "execution_count": 0,
      "outputs": []
    },
    {
      "cell_type": "code",
      "metadata": {
        "id": "mlaSw9NCWdGx",
        "colab_type": "code",
        "colab": {}
      },
      "source": [
        "data_tranforms = transforms.Compose([addi(), mult()])"
      ],
      "execution_count": 0,
      "outputs": []
    },
    {
      "cell_type": "code",
      "metadata": {
        "id": "gAs0fxz8fagq",
        "colab_type": "code",
        "colab": {}
      },
      "source": [
        "data_tranforms = transforms.Compose([obj_add, obj_mult])"
      ],
      "execution_count": 0,
      "outputs": []
    },
    {
      "cell_type": "code",
      "metadata": {
        "id": "4sOIDrbcWorR",
        "colab_type": "code",
        "colab": {}
      },
      "source": [
        "dataset1 = toy_set(transform = data_tranforms)"
      ],
      "execution_count": 0,
      "outputs": []
    },
    {
      "cell_type": "code",
      "metadata": {
        "id": "EMmEKiD0X4Xx",
        "colab_type": "code",
        "outputId": "dca6a869-1b8b-4f8d-b6c0-463a827ed071",
        "colab": {
          "base_uri": "https://localhost:8080/",
          "height": 33
        }
      },
      "source": [
        "dataset1[0]"
      ],
      "execution_count": 55,
      "outputs": [
        {
          "output_type": "execute_result",
          "data": {
            "text/plain": [
              "(tensor([60., 60.]), tensor([55.]))"
            ]
          },
          "metadata": {
            "tags": []
          },
          "execution_count": 55
        }
      ]
    },
    {
      "cell_type": "code",
      "metadata": {
        "id": "6gSYjXJmX7mw",
        "colab_type": "code",
        "outputId": "09f14146-6d17-4dce-c5e1-8c9cc45d9747",
        "colab": {
          "base_uri": "https://localhost:8080/",
          "height": 33
        }
      },
      "source": [
        "dataset[0]"
      ],
      "execution_count": 56,
      "outputs": [
        {
          "output_type": "execute_result",
          "data": {
            "text/plain": [
              "(tensor([2., 2.]), tensor([1.]))"
            ]
          },
          "metadata": {
            "tags": []
          },
          "execution_count": 56
        }
      ]
    },
    {
      "cell_type": "markdown",
      "metadata": {
        "id": "kUAERNPuAliT",
        "colab_type": "text"
      },
      "source": [
        "# Dataset"
      ]
    },
    {
      "cell_type": "markdown",
      "metadata": {
        "id": "4zeDloQIAqV2",
        "colab_type": "text"
      },
      "source": [
        "## Dataset class for images"
      ]
    },
    {
      "cell_type": "code",
      "metadata": {
        "id": "_OuhwXhEA03D",
        "colab_type": "code",
        "outputId": "b3c039fc-5777-4d07-bc97-d566ffe43e91",
        "colab": {
          "base_uri": "https://localhost:8080/",
          "height": 375
        }
      },
      "source": [
        "! wget https://s3-api.us-geo.objectstorage.softlayer.net/cf-courses-data/CognitiveClass/DL0110EN/datasets/img.tar.gz -P /resources/data\n",
        "!tar -xf /resources/data/img.tar.gz \n",
        "\n",
        "!wget https://s3-api.us-geo.objectstorage.softlayer.net/cf-courses-data/CognitiveClass/DL0110EN/datasets/index.csv "
      ],
      "execution_count": 57,
      "outputs": [
        {
          "output_type": "stream",
          "text": [
            "--2020-01-31 05:58:24--  https://s3-api.us-geo.objectstorage.softlayer.net/cf-courses-data/CognitiveClass/DL0110EN/datasets/img.tar.gz\n",
            "Resolving s3-api.us-geo.objectstorage.softlayer.net (s3-api.us-geo.objectstorage.softlayer.net)... 67.228.254.196\n",
            "Connecting to s3-api.us-geo.objectstorage.softlayer.net (s3-api.us-geo.objectstorage.softlayer.net)|67.228.254.196|:443... connected.\n",
            "HTTP request sent, awaiting response... 200 OK\n",
            "Length: 50460 (49K) [application/octet-stream]\n",
            "Saving to: ‘/resources/data/img.tar.gz’\n",
            "\n",
            "\rimg.tar.gz            0%[                    ]       0  --.-KB/s               \rimg.tar.gz          100%[===================>]  49.28K  --.-KB/s    in 0.03s   \n",
            "\n",
            "2020-01-31 05:58:24 (1.57 MB/s) - ‘/resources/data/img.tar.gz’ saved [50460/50460]\n",
            "\n",
            "--2020-01-31 05:58:29--  https://s3-api.us-geo.objectstorage.softlayer.net/cf-courses-data/CognitiveClass/DL0110EN/datasets/index.csv\n",
            "Resolving s3-api.us-geo.objectstorage.softlayer.net (s3-api.us-geo.objectstorage.softlayer.net)... 67.228.254.196\n",
            "Connecting to s3-api.us-geo.objectstorage.softlayer.net (s3-api.us-geo.objectstorage.softlayer.net)|67.228.254.196|:443... connected.\n",
            "HTTP request sent, awaiting response... 200 OK\n",
            "Length: 1680905 (1.6M) [text/csv]\n",
            "Saving to: ‘index.csv’\n",
            "\n",
            "index.csv           100%[===================>]   1.60M  1.88MB/s    in 0.9s    \n",
            "\n",
            "2020-01-31 05:58:30 (1.88 MB/s) - ‘index.csv’ saved [1680905/1680905]\n",
            "\n"
          ],
          "name": "stdout"
        }
      ]
    },
    {
      "cell_type": "code",
      "metadata": {
        "id": "kbAgCCEpmZGc",
        "colab_type": "code",
        "outputId": "b79403b6-c6c7-49d0-8a29-8c6e9f6bc639",
        "colab": {
          "base_uri": "https://localhost:8080/",
          "height": 33
        }
      },
      "source": [
        "import torch\n",
        "from torch.utils.data import Dataset, DataLoader\n",
        "torch.manual_seed(0)"
      ],
      "execution_count": 58,
      "outputs": [
        {
          "output_type": "execute_result",
          "data": {
            "text/plain": [
              "<torch._C.Generator at 0x7f94bfcd4150>"
            ]
          },
          "metadata": {
            "tags": []
          },
          "execution_count": 58
        }
      ]
    },
    {
      "cell_type": "code",
      "metadata": {
        "id": "FdogI5eImcSD",
        "colab_type": "code",
        "colab": {}
      },
      "source": [
        "from PIL import Image\n",
        "import pandas as pd\n",
        "import os"
      ],
      "execution_count": 0,
      "outputs": []
    },
    {
      "cell_type": "code",
      "metadata": {
        "id": "6VYTCJJVmfFb",
        "colab_type": "code",
        "colab": {}
      },
      "source": [
        "directory = \"\"\n",
        "csv_file = 'index.csv'"
      ],
      "execution_count": 0,
      "outputs": []
    },
    {
      "cell_type": "code",
      "metadata": {
        "id": "hyIQUV55mhfb",
        "colab_type": "code",
        "colab": {}
      },
      "source": [
        "class Dataset(Dataset):\n",
        "    def __init__(self, csv_file, directory, transform = None):\n",
        "        self.csv_file = csv_file\n",
        "        self.directory = directory\n",
        "        self.transform = transform\n",
        "\n",
        "        file_path = os.path.join(self.directory, self.csv_file)\n",
        "\n",
        "        self.file_data = pd.read_csv(file_path)\n",
        "        self.len = self.file_data.shape[0]\n",
        "\n",
        "    def __len__(self):\n",
        "        return(self.len)\n",
        "\n",
        "    def __getitem__(self, idx):\n",
        "        img_path = os.path.join(self.directory, self.file_data.iloc[idx, 1])\n",
        "        img_data = Image.open(img_path)\n",
        "\n",
        "        y = self.file_data.iloc[idx,0]\n",
        "\n",
        "        if self.transform:\n",
        "            img_data = self.transform(img_data)\n",
        "        return(img_data, y)\n"
      ],
      "execution_count": 0,
      "outputs": []
    },
    {
      "cell_type": "code",
      "metadata": {
        "id": "cxnHGb0IoAep",
        "colab_type": "code",
        "colab": {}
      },
      "source": [
        "df = Dataset(csv_file = csv_file, directory = directory, transform = None)"
      ],
      "execution_count": 0,
      "outputs": []
    },
    {
      "cell_type": "code",
      "metadata": {
        "id": "gv_R2s3NoKgJ",
        "colab_type": "code",
        "outputId": "fa8350e7-4d2f-4183-d1ad-2b9e0217aeb6",
        "colab": {
          "base_uri": "https://localhost:8080/",
          "height": 33
        }
      },
      "source": [
        "len(df)"
      ],
      "execution_count": 63,
      "outputs": [
        {
          "output_type": "execute_result",
          "data": {
            "text/plain": [
              "60000"
            ]
          },
          "metadata": {
            "tags": []
          },
          "execution_count": 63
        }
      ]
    },
    {
      "cell_type": "code",
      "metadata": {
        "id": "5_OMGmGHoPYp",
        "colab_type": "code",
        "outputId": "039fd52e-d60b-481f-a51a-8faaa6d424ab",
        "colab": {
          "base_uri": "https://localhost:8080/",
          "height": 33
        }
      },
      "source": [
        "x = df[0][0]\n",
        "y = df[0][1]\n",
        "\n",
        "y"
      ],
      "execution_count": 64,
      "outputs": [
        {
          "output_type": "execute_result",
          "data": {
            "text/plain": [
              "'Ankle boot'"
            ]
          },
          "metadata": {
            "tags": []
          },
          "execution_count": 64
        }
      ]
    },
    {
      "cell_type": "code",
      "metadata": {
        "id": "f30IrTu8oVXh",
        "colab_type": "code",
        "outputId": "457901fb-7890-4e9d-c148-d006d24862f1",
        "colab": {
          "base_uri": "https://localhost:8080/",
          "height": 45
        }
      },
      "source": [
        "x"
      ],
      "execution_count": 65,
      "outputs": [
        {
          "output_type": "execute_result",
          "data": {
            "image/png": "[encoded data removed]",
            "text/plain": [
              "<PIL.PngImagePlugin.PngImageFile image mode=L size=28x28 at 0x7F94B642DF98>"
            ]
          },
          "metadata": {
            "tags": []
          },
          "execution_count": 65
        }
      ]
    },
    {
      "cell_type": "code",
      "metadata": {
        "id": "7ZYJ83ZloXv4",
        "colab_type": "code",
        "outputId": "aca40a0f-c25a-4209-ef1a-f6e7dadd9da8",
        "colab": {
          "base_uri": "https://localhost:8080/",
          "height": 98
        }
      },
      "source": [
        "for i in range(5):\n",
        "    print(f'x : {df[i][0]} --- y : {df[i][1]}')"
      ],
      "execution_count": 66,
      "outputs": [
        {
          "output_type": "stream",
          "text": [
            "x : <PIL.PngImagePlugin.PngImageFile image mode=L size=28x28 at 0x7F94B579D898> --- y : Ankle boot\n",
            "x : <PIL.PngImagePlugin.PngImageFile image mode=L size=28x28 at 0x7F94B579D8D0> --- y : T-shirt\n",
            "x : <PIL.PngImagePlugin.PngImageFile image mode=L size=28x28 at 0x7F94B579D908> --- y : T-shirt\n",
            "x : <PIL.PngImagePlugin.PngImageFile image mode=L size=28x28 at 0x7F94B579D8D0> --- y : Dress\n",
            "x : <PIL.PngImagePlugin.PngImageFile image mode=L size=28x28 at 0x7F94B579D908> --- y : T-shirt\n"
          ],
          "name": "stdout"
        }
      ]
    },
    {
      "cell_type": "code",
      "metadata": {
        "id": "3QOv5m63L0Bl",
        "colab_type": "code",
        "colab": {
          "base_uri": "https://localhost:8080/",
          "height": 281
        },
        "outputId": "730087d3-248d-40e3-c298-79dca340d4b6"
      },
      "source": [
        "image=df[0][0]\n",
        "y=df[0][1]\n",
        "\n",
        "plt.imshow(image,cmap='gray', vmin=0, vmax=255)\n",
        "plt.title(y)\n",
        "plt.show()"
      ],
      "execution_count": 70,
      "outputs": [
        {
          "output_type": "display_data",
          "data": {
            "image/png": "[encoded data removed]",
            "text/plain": [
              "<Figure size 432x288 with 1 Axes>"
            ]
          },
          "metadata": {
            "tags": []
          }
        }
      ]
    },
    {
      "cell_type": "code",
      "metadata": {
        "id": "7TNE-aZvMA1u",
        "colab_type": "code",
        "colab": {
          "base_uri": "https://localhost:8080/",
          "height": 281
        },
        "outputId": "479907cb-a5e9-4cab-c13b-5088fc06bdcb"
      },
      "source": [
        "image=df[9][0]\n",
        "y=df[9][1]\n",
        "\n",
        "plt.imshow(image,cmap='gray', vmin=0, vmax=255)\n",
        "plt.title(y)\n",
        "plt.show()"
      ],
      "execution_count": 72,
      "outputs": [
        {
          "output_type": "display_data",
          "data": {
            "image/png": "[encoded data removed]",
            "text/plain": [
              "<Figure size 432x288 with 1 Axes>"
            ]
          },
          "metadata": {
            "tags": []
          }
        }
      ]
    },
    {
      "cell_type": "markdown",
      "metadata": {
        "id": "HBFRnndlM191",
        "colab_type": "text"
      },
      "source": [
        "## Torchvision Transforms"
      ]
    },
    {
      "cell_type": "code",
      "metadata": {
        "id": "M4ysihn4M462",
        "colab_type": "code",
        "colab": {}
      },
      "source": [
        "from torchvision import transforms"
      ],
      "execution_count": 0,
      "outputs": []
    },
    {
      "cell_type": "markdown",
      "metadata": {
        "id": "EXrJ_9ITQhxX",
        "colab_type": "text"
      },
      "source": [
        "### Center Crop and To tensor"
      ]
    },
    {
      "cell_type": "code",
      "metadata": {
        "id": "PRh4N9NgM8r0",
        "colab_type": "code",
        "colab": {
          "base_uri": "https://localhost:8080/",
          "height": 33
        },
        "outputId": "14e021e2-604a-4110-c52c-f8068a592e6e"
      },
      "source": [
        "all_transforms = transforms.Compose([transforms.CenterCrop(20), transforms.ToTensor()])\n",
        "dataset = Dataset(csv_file = csv_file, directory = directory, transform = all_transforms)\n",
        "print(dataset[0][0].shape)"
      ],
      "execution_count": 75,
      "outputs": [
        {
          "output_type": "stream",
          "text": [
            "torch.Size([1, 20, 20])\n"
          ],
          "name": "stdout"
        }
      ]
    },
    {
      "cell_type": "code",
      "metadata": {
        "id": "_It3FHuRNd1E",
        "colab_type": "code",
        "colab": {}
      },
      "source": [
        "def show_data(data_sample, shape = (28, 28)):\n",
        "    plt.imshow(data_sample[0].numpy().reshape(shape), cmap='gray')\n",
        "    plt.title('y = ' + data_sample[1])"
      ],
      "execution_count": 0,
      "outputs": []
    },
    {
      "cell_type": "code",
      "metadata": {
        "id": "6fO1b710OIiI",
        "colab_type": "code",
        "colab": {
          "base_uri": "https://localhost:8080/",
          "height": 281
        },
        "outputId": "e32c23be-1b45-4291-d049-3010914b7eba"
      },
      "source": [
        "show_data(dataset[0],shape = (20, 20))"
      ],
      "execution_count": 77,
      "outputs": [
        {
          "output_type": "display_data",
          "data": {
            "image/png": "[encoded data removed]",
            "text/plain": [
              "<Figure size 432x288 with 1 Axes>"
            ]
          },
          "metadata": {
            "tags": []
          }
        }
      ]
    },
    {
      "cell_type": "code",
      "metadata": {
        "id": "21V0hHkMQEuY",
        "colab_type": "code",
        "colab": {
          "base_uri": "https://localhost:8080/",
          "height": 115
        },
        "outputId": "8666f63f-c172-44d3-805b-cab614ecc3a7"
      },
      "source": [
        "# Image converted to Tensors\n",
        "dataset[0][0][0][0:2]"
      ],
      "execution_count": 97,
      "outputs": [
        {
          "output_type": "execute_result",
          "data": {
            "text/plain": [
              "tensor([[0.0000, 0.0000, 0.0000, 0.0000, 0.0000, 0.0000, 0.0000, 0.0000, 0.0118,\n",
              "         0.0000, 0.1412, 0.5333, 0.4980, 0.2431, 0.2118, 0.0000, 0.0000, 0.0000,\n",
              "         0.0039, 0.0118],\n",
              "        [0.0000, 0.0000, 0.0000, 0.0000, 0.0000, 0.0000, 0.0000, 0.0000, 0.0235,\n",
              "         0.0000, 0.4000, 0.8000, 0.6902, 0.5255, 0.5647, 0.4824, 0.0902, 0.0000,\n",
              "         0.0000, 0.0000]])"
            ]
          },
          "metadata": {
            "tags": []
          },
          "execution_count": 97
        }
      ]
    },
    {
      "cell_type": "code",
      "metadata": {
        "id": "32k_Tky6PEMi",
        "colab_type": "code",
        "colab": {
          "base_uri": "https://localhost:8080/",
          "height": 163
        },
        "outputId": "dc7358dc-f083-487f-958c-d785242c7fcc"
      },
      "source": [
        "dataset[0][0].numpy()[0][0:2]"
      ],
      "execution_count": 96,
      "outputs": [
        {
          "output_type": "execute_result",
          "data": {
            "text/plain": [
              "array([[0.        , 0.        , 0.        , 0.        , 0.        ,\n",
              "        0.        , 0.        , 0.        , 0.01176471, 0.        ,\n",
              "        0.14117648, 0.53333336, 0.49803922, 0.24313726, 0.21176471,\n",
              "        0.        , 0.        , 0.        , 0.00392157, 0.01176471],\n",
              "       [0.        , 0.        , 0.        , 0.        , 0.        ,\n",
              "        0.        , 0.        , 0.        , 0.02352941, 0.        ,\n",
              "        0.4       , 0.8       , 0.6901961 , 0.5254902 , 0.5647059 ,\n",
              "        0.48235294, 0.09019608, 0.        , 0.        , 0.        ]],\n",
              "      dtype=float32)"
            ]
          },
          "metadata": {
            "tags": []
          },
          "execution_count": 96
        }
      ]
    },
    {
      "cell_type": "markdown",
      "metadata": {
        "id": "RQQYhNDGQdyH",
        "colab_type": "text"
      },
      "source": [
        "### Random vertical Flip and to tensor"
      ]
    },
    {
      "cell_type": "code",
      "metadata": {
        "id": "5-BPZiFIQqXB",
        "colab_type": "code",
        "colab": {
          "base_uri": "https://localhost:8080/",
          "height": 281
        },
        "outputId": "c3698dd4-ccbc-49d5-cbb8-4d544dcf8036"
      },
      "source": [
        "new_transforms = transforms.Compose([transforms.RandomVerticalFlip(p=1), transforms.ToTensor()])\n",
        "dataset1 = Dataset(csv_file = csv_file, directory = directory, transform=new_transforms)\n",
        "show_data(dataset1[0])"
      ],
      "execution_count": 98,
      "outputs": [
        {
          "output_type": "display_data",
          "data": {
            "image/png": "[encoded data removed]",
            "text/plain": [
              "<Figure size 432x288 with 1 Axes>"
            ]
          },
          "metadata": {
            "tags": []
          }
        }
      ]
    }
  ]
}