{
  "nbformat": 4,
  "nbformat_minor": 0,
  "metadata": {
    "colab": {
      "name": "PyTorch Basics v1.2.ipynb",
      "provenance": [],
      "collapsed_sections": [
        "FR6cAmFhqZPm",
        "ilI3RUUzyoix",
        "5H9_SdxhtUEs",
        "3TanRvmOqbG2",
        "nUJjzTynrpK-",
        "AdshI_rAqUbw",
        "tm4LiK0rz1tQ",
        "zcJKI0IG747_",
        "5ZAmTa75bEqd",
        "-VA_dyGwbLNT",
        "mBDk6hBjGjFg",
        "1oz6SczIpZSD",
        "7SsVhwKRpesk"
      ],
      "toc_visible": true,
      "authorship_tag": "ABX9TyNIHIev6XzROaBC1GQDQsUQ",
      "include_colab_link": true
    },
    "kernelspec": {
      "name": "python3",
      "display_name": "Python 3"
    },
    "accelerator": "GPU"
  },
  "cells": [
    {
      "cell_type": "markdown",
      "metadata": {
        "id": "view-in-github",
        "colab_type": "text"
      },
      "source": [
        "<a href=\"https://colab.research.google.com/github/ramkumarr02/PyTorch-Basics/blob/master/PyTorch_Basics_v1_2.ipynb\" target=\"_parent\"><img src=\"https://colab.research.google.com/assets/colab-badge.svg\" alt=\"Open In Colab\"/></a>"
      ]
    },
    {
      "cell_type": "markdown",
      "metadata": {
        "id": "FR6cAmFhqZPm",
        "colab_type": "text"
      },
      "source": [
        "## CUDA"
      ]
    },
    {
      "cell_type": "code",
      "metadata": {
        "id": "Z6vW6Y7dcCND",
        "colab_type": "code",
        "outputId": "ec61112f-cf4a-409b-9089-11bda6823d24",
        "colab": {
          "base_uri": "https://localhost:8080/",
          "height": 35
        }
      },
      "source": [
        "import torch\n",
        "if torch.cuda.is_available():\n",
        "    print(torch.cuda)\n",
        "else:\n",
        "    print(\"NO\")"
      ],
      "execution_count": 1,
      "outputs": [
        {
          "output_type": "stream",
          "text": [
            "<module 'torch.cuda' from '/usr/local/lib/python3.6/dist-packages/torch/cuda/__init__.py'>\n"
          ],
          "name": "stdout"
        }
      ]
    },
    {
      "cell_type": "markdown",
      "metadata": {
        "id": "qKI6uefppxLQ",
        "colab_type": "text"
      },
      "source": [
        "# 1D Tensors\n"
      ]
    },
    {
      "cell_type": "markdown",
      "metadata": {
        "id": "ilI3RUUzyoix",
        "colab_type": "text"
      },
      "source": [
        "## Torch"
      ]
    },
    {
      "cell_type": "code",
      "metadata": {
        "id": "5V23s40yIL4S",
        "colab_type": "code",
        "colab": {}
      },
      "source": [
        "import torch"
      ],
      "execution_count": 0,
      "outputs": []
    },
    {
      "cell_type": "code",
      "metadata": {
        "id": "vhJBvWR1IX7T",
        "colab_type": "code",
        "colab": {}
      },
      "source": [
        "x = torch.empty(3,3)"
      ],
      "execution_count": 0,
      "outputs": []
    },
    {
      "cell_type": "code",
      "metadata": {
        "id": "2mJe5qGUIcbP",
        "colab_type": "code",
        "outputId": "ed5cf8e1-03be-44f2-86e1-06fcc27dd4fb",
        "colab": {
          "base_uri": "https://localhost:8080/",
          "height": 128
        }
      },
      "source": [
        "torch.tensor(x)"
      ],
      "execution_count": 4,
      "outputs": [
        {
          "output_type": "stream",
          "text": [
            "/usr/local/lib/python3.6/dist-packages/ipykernel_launcher.py:1: UserWarning: To copy construct from a tensor, it is recommended to use sourceTensor.clone().detach() or sourceTensor.clone().detach().requires_grad_(True), rather than torch.tensor(sourceTensor).\n",
            "  \"\"\"Entry point for launching an IPython kernel.\n"
          ],
          "name": "stderr"
        },
        {
          "output_type": "execute_result",
          "data": {
            "text/plain": [
              "tensor([[7.5228e-36, 0.0000e+00, 0.0000e+00],\n",
              "        [0.0000e+00, 0.0000e+00, 0.0000e+00],\n",
              "        [0.0000e+00, 0.0000e+00, 2.8026e-45]])"
            ]
          },
          "metadata": {
            "tags": []
          },
          "execution_count": 4
        }
      ]
    },
    {
      "cell_type": "code",
      "metadata": {
        "id": "TUahpXdBIqTz",
        "colab_type": "code",
        "colab": {}
      },
      "source": [
        "x = torch.ones(5,5)"
      ],
      "execution_count": 0,
      "outputs": []
    },
    {
      "cell_type": "markdown",
      "metadata": {
        "id": "5H9_SdxhtUEs",
        "colab_type": "text"
      },
      "source": [
        "## Numpy & Tensor"
      ]
    },
    {
      "cell_type": "code",
      "metadata": {
        "id": "4iCVx9TLwVN1",
        "colab_type": "code",
        "outputId": "23e75a6d-e106-4a5e-98d4-9ad36a71cc6e",
        "colab": {
          "base_uri": "https://localhost:8080/",
          "height": 35
        }
      },
      "source": [
        "import numpy as np\n",
        "narr = np.array([1,2,3,4])\n",
        "narr"
      ],
      "execution_count": 6,
      "outputs": [
        {
          "output_type": "execute_result",
          "data": {
            "text/plain": [
              "array([1, 2, 3, 4])"
            ]
          },
          "metadata": {
            "tags": []
          },
          "execution_count": 6
        }
      ]
    },
    {
      "cell_type": "code",
      "metadata": {
        "id": "e0E8tWMqwldb",
        "colab_type": "code",
        "outputId": "13e07ac1-f290-4d11-db28-147dd1b43f9c",
        "colab": {
          "base_uri": "https://localhost:8080/",
          "height": 35
        }
      },
      "source": [
        "tens = torch.from_numpy(narr)\n",
        "tens"
      ],
      "execution_count": 7,
      "outputs": [
        {
          "output_type": "execute_result",
          "data": {
            "text/plain": [
              "tensor([1, 2, 3, 4])"
            ]
          },
          "metadata": {
            "tags": []
          },
          "execution_count": 7
        }
      ]
    },
    {
      "cell_type": "code",
      "metadata": {
        "id": "5AjnwMJVwqeh",
        "colab_type": "code",
        "outputId": "9c968617-ab98-4032-a791-c68570f7e80e",
        "colab": {
          "base_uri": "https://localhost:8080/",
          "height": 35
        }
      },
      "source": [
        "narr1 = tens.numpy()\n",
        "narr1"
      ],
      "execution_count": 8,
      "outputs": [
        {
          "output_type": "execute_result",
          "data": {
            "text/plain": [
              "array([1, 2, 3, 4])"
            ]
          },
          "metadata": {
            "tags": []
          },
          "execution_count": 8
        }
      ]
    },
    {
      "cell_type": "code",
      "metadata": {
        "id": "byAQ1hjXxG-A",
        "colab_type": "code",
        "outputId": "cb78e5b6-adf6-4292-f1fa-6721e6976c46",
        "colab": {
          "base_uri": "https://localhost:8080/",
          "height": 54
        }
      },
      "source": [
        "print(tens[0], type(tens[0]))\n",
        "print(tens[0].item(), type(tens[0].item()))"
      ],
      "execution_count": 9,
      "outputs": [
        {
          "output_type": "stream",
          "text": [
            "tensor(1) <class 'torch.Tensor'>\n",
            "1 <class 'int'>\n"
          ],
          "name": "stdout"
        }
      ]
    },
    {
      "cell_type": "markdown",
      "metadata": {
        "id": "afKnkH-5zjbY",
        "colab_type": "text"
      },
      "source": [
        "## Data manipulation"
      ]
    },
    {
      "cell_type": "markdown",
      "metadata": {
        "id": "3TanRvmOqbG2",
        "colab_type": "text"
      },
      "source": [
        "### Data type"
      ]
    },
    {
      "cell_type": "code",
      "metadata": {
        "id": "tugU8k3tp5OX",
        "colab_type": "code",
        "outputId": "a8686ada-737b-402b-b48a-d4464963b011",
        "colab": {
          "base_uri": "https://localhost:8080/",
          "height": 0
        }
      },
      "source": [
        "a = torch.tensor([1,2,3])\n",
        "print(a.dtype)\n",
        "print(a.type())"
      ],
      "execution_count": 10,
      "outputs": [
        {
          "output_type": "stream",
          "text": [
            "torch.int64\n",
            "torch.LongTensor\n"
          ],
          "name": "stdout"
        }
      ]
    },
    {
      "cell_type": "code",
      "metadata": {
        "id": "46nlGU6QqjkO",
        "colab_type": "code",
        "outputId": "af854d0a-68a0-4e61-8290-0a5a6222a970",
        "colab": {
          "base_uri": "https://localhost:8080/",
          "height": 0
        }
      },
      "source": [
        "a = torch.tensor([1,2,3], dtype = torch.float)\n",
        "print(a.dtype)\n",
        "print(a)\n",
        "print(a.type())"
      ],
      "execution_count": 11,
      "outputs": [
        {
          "output_type": "stream",
          "text": [
            "torch.float32\n",
            "tensor([1., 2., 3.])\n",
            "torch.FloatTensor\n"
          ],
          "name": "stdout"
        }
      ]
    },
    {
      "cell_type": "markdown",
      "metadata": {
        "id": "nUJjzTynrpK-",
        "colab_type": "text"
      },
      "source": [
        "### Dimensions\n"
      ]
    },
    {
      "cell_type": "code",
      "metadata": {
        "id": "nOaZfdrbrrgH",
        "colab_type": "code",
        "outputId": "b36327ec-f6cb-47b0-8c6d-b48676247d1d",
        "colab": {
          "base_uri": "https://localhost:8080/",
          "height": 0
        }
      },
      "source": [
        "a = torch.tensor([1,2,3,4])\n",
        "print(a.size())\n",
        "print(a.ndimension())"
      ],
      "execution_count": 12,
      "outputs": [
        {
          "output_type": "stream",
          "text": [
            "torch.Size([4])\n",
            "1\n"
          ],
          "name": "stdout"
        }
      ]
    },
    {
      "cell_type": "code",
      "metadata": {
        "id": "yCUvD-ypsgal",
        "colab_type": "code",
        "outputId": "0cf215ae-cebd-424d-9bda-5e940cf2c1da",
        "colab": {
          "base_uri": "https://localhost:8080/",
          "height": 0
        }
      },
      "source": [
        "a = torch.tensor([1,2,3,4,5,6])\n",
        "#a.view(row_num, col_num)\n",
        "print(a.view(2,-1))\n",
        "print('---------------------------')\n",
        "print(a.view(-1,2))\n",
        "print('---------------------------')\n",
        "print(a.view(1,-1))\n",
        "print('---------------------------')\n",
        "print(a.view(-1,1))"
      ],
      "execution_count": 13,
      "outputs": [
        {
          "output_type": "stream",
          "text": [
            "tensor([[1, 2, 3],\n",
            "        [4, 5, 6]])\n",
            "---------------------------\n",
            "tensor([[1, 2],\n",
            "        [3, 4],\n",
            "        [5, 6]])\n",
            "---------------------------\n",
            "tensor([[1, 2, 3, 4, 5, 6]])\n",
            "---------------------------\n",
            "tensor([[1],\n",
            "        [2],\n",
            "        [3],\n",
            "        [4],\n",
            "        [5],\n",
            "        [6]])\n"
          ],
          "name": "stdout"
        }
      ]
    },
    {
      "cell_type": "markdown",
      "metadata": {
        "id": "AdshI_rAqUbw",
        "colab_type": "text"
      },
      "source": [
        "### Addition & Multiplication"
      ]
    },
    {
      "cell_type": "code",
      "metadata": {
        "id": "OBNCtUWlI9hS",
        "colab_type": "code",
        "outputId": "f4ef661e-1e6b-45a1-a475-5a730496e801",
        "colab": {
          "base_uri": "https://localhost:8080/",
          "height": 0
        }
      },
      "source": [
        "y =  torch.ones(5,5) * 2\n",
        "y"
      ],
      "execution_count": 14,
      "outputs": [
        {
          "output_type": "execute_result",
          "data": {
            "text/plain": [
              "tensor([[2., 2., 2., 2., 2.],\n",
              "        [2., 2., 2., 2., 2.],\n",
              "        [2., 2., 2., 2., 2.],\n",
              "        [2., 2., 2., 2., 2.],\n",
              "        [2., 2., 2., 2., 2.]])"
            ]
          },
          "metadata": {
            "tags": []
          },
          "execution_count": 14
        }
      ]
    },
    {
      "cell_type": "code",
      "metadata": {
        "id": "1q0F1a2nJJTM",
        "colab_type": "code",
        "outputId": "2ddcf5f3-4c00-448d-b9f4-94e4934c1287",
        "colab": {
          "base_uri": "https://localhost:8080/",
          "height": 0
        }
      },
      "source": [
        "x + y"
      ],
      "execution_count": 15,
      "outputs": [
        {
          "output_type": "execute_result",
          "data": {
            "text/plain": [
              "tensor([[3., 3., 3., 3., 3.],\n",
              "        [3., 3., 3., 3., 3.],\n",
              "        [3., 3., 3., 3., 3.],\n",
              "        [3., 3., 3., 3., 3.],\n",
              "        [3., 3., 3., 3., 3.]])"
            ]
          },
          "metadata": {
            "tags": []
          },
          "execution_count": 15
        }
      ]
    },
    {
      "cell_type": "code",
      "metadata": {
        "id": "YdVH6Qd-J7C2",
        "colab_type": "code",
        "outputId": "aada38fc-f5a4-44b9-e515-1f6a5b19b0ee",
        "colab": {
          "base_uri": "https://localhost:8080/",
          "height": 0
        }
      },
      "source": [
        "y.add(x)"
      ],
      "execution_count": 16,
      "outputs": [
        {
          "output_type": "execute_result",
          "data": {
            "text/plain": [
              "tensor([[3., 3., 3., 3., 3.],\n",
              "        [3., 3., 3., 3., 3.],\n",
              "        [3., 3., 3., 3., 3.],\n",
              "        [3., 3., 3., 3., 3.],\n",
              "        [3., 3., 3., 3., 3.]])"
            ]
          },
          "metadata": {
            "tags": []
          },
          "execution_count": 16
        }
      ]
    },
    {
      "cell_type": "code",
      "metadata": {
        "id": "TuHOOy2hJ9Cv",
        "colab_type": "code",
        "outputId": "d62a0c42-3e9d-4dd0-8264-9ba40188cb9b",
        "colab": {
          "base_uri": "https://localhost:8080/",
          "height": 0
        }
      },
      "source": [
        "y"
      ],
      "execution_count": 17,
      "outputs": [
        {
          "output_type": "execute_result",
          "data": {
            "text/plain": [
              "tensor([[2., 2., 2., 2., 2.],\n",
              "        [2., 2., 2., 2., 2.],\n",
              "        [2., 2., 2., 2., 2.],\n",
              "        [2., 2., 2., 2., 2.],\n",
              "        [2., 2., 2., 2., 2.]])"
            ]
          },
          "metadata": {
            "tags": []
          },
          "execution_count": 17
        }
      ]
    },
    {
      "cell_type": "code",
      "metadata": {
        "id": "bQ8Fs4qSJ-CZ",
        "colab_type": "code",
        "outputId": "1b7a3a51-41e9-4054-8e14-77ffb3600e3b",
        "colab": {
          "base_uri": "https://localhost:8080/",
          "height": 0
        }
      },
      "source": [
        "y.add_(x)"
      ],
      "execution_count": 18,
      "outputs": [
        {
          "output_type": "execute_result",
          "data": {
            "text/plain": [
              "tensor([[3., 3., 3., 3., 3.],\n",
              "        [3., 3., 3., 3., 3.],\n",
              "        [3., 3., 3., 3., 3.],\n",
              "        [3., 3., 3., 3., 3.],\n",
              "        [3., 3., 3., 3., 3.]])"
            ]
          },
          "metadata": {
            "tags": []
          },
          "execution_count": 18
        }
      ]
    },
    {
      "cell_type": "code",
      "metadata": {
        "id": "sXLNVeVFKAwC",
        "colab_type": "code",
        "outputId": "0bc87117-0083-4255-e182-9ea15e649a5a",
        "colab": {
          "base_uri": "https://localhost:8080/",
          "height": 0
        }
      },
      "source": [
        "y"
      ],
      "execution_count": 19,
      "outputs": [
        {
          "output_type": "execute_result",
          "data": {
            "text/plain": [
              "tensor([[3., 3., 3., 3., 3.],\n",
              "        [3., 3., 3., 3., 3.],\n",
              "        [3., 3., 3., 3., 3.],\n",
              "        [3., 3., 3., 3., 3.],\n",
              "        [3., 3., 3., 3., 3.]])"
            ]
          },
          "metadata": {
            "tags": []
          },
          "execution_count": 19
        }
      ]
    },
    {
      "cell_type": "code",
      "metadata": {
        "id": "RdUpM6sKPa7E",
        "colab_type": "code",
        "outputId": "a2ed8030-85af-4117-d82e-2421c0594d55",
        "colab": {
          "base_uri": "https://localhost:8080/",
          "height": 0
        }
      },
      "source": [
        "y.view(-1,25)"
      ],
      "execution_count": 20,
      "outputs": [
        {
          "output_type": "execute_result",
          "data": {
            "text/plain": [
              "tensor([[3., 3., 3., 3., 3., 3., 3., 3., 3., 3., 3., 3., 3., 3., 3., 3., 3., 3.,\n",
              "         3., 3., 3., 3., 3., 3., 3.]])"
            ]
          },
          "metadata": {
            "tags": []
          },
          "execution_count": 20
        }
      ]
    },
    {
      "cell_type": "markdown",
      "metadata": {
        "id": "tm4LiK0rz1tQ",
        "colab_type": "text"
      },
      "source": [
        "### Vector manipulation"
      ]
    },
    {
      "cell_type": "code",
      "metadata": {
        "id": "jH6XGEMez37g",
        "colab_type": "code",
        "outputId": "6615c3ad-232d-453d-ee7c-3c61a6ed3a26",
        "colab": {
          "base_uri": "https://localhost:8080/",
          "height": 0
        }
      },
      "source": [
        "u = torch.tensor([1,2,3])\n",
        "v = torch.tensor([1.0,2.0,3.0])\n",
        "\n",
        "z = u + v\n",
        "print(z)\n",
        "\n",
        "z = u * 2\n",
        "print(z)"
      ],
      "execution_count": 21,
      "outputs": [
        {
          "output_type": "stream",
          "text": [
            "tensor([2., 4., 6.])\n",
            "tensor([2, 4, 6])\n"
          ],
          "name": "stdout"
        }
      ]
    },
    {
      "cell_type": "code",
      "metadata": {
        "id": "S33LnFH60Jc1",
        "colab_type": "code",
        "outputId": "3b8409ee-1a5e-4766-8568-15583f9627df",
        "colab": {
          "base_uri": "https://localhost:8080/",
          "height": 0
        }
      },
      "source": [
        "# Hadamard Product\n",
        "z = u * v\n",
        "print(z)\n",
        "\n",
        "\n",
        "# Dot Product\n",
        "u = torch.tensor([1,2,3])\n",
        "v = torch.tensor([1,2,3])\n",
        "z = torch.dot(u,v)\n",
        "print(z)"
      ],
      "execution_count": 22,
      "outputs": [
        {
          "output_type": "stream",
          "text": [
            "tensor([1., 4., 9.])\n",
            "tensor(14)\n"
          ],
          "name": "stdout"
        }
      ]
    },
    {
      "cell_type": "markdown",
      "metadata": {
        "id": "zcJKI0IG747_",
        "colab_type": "text"
      },
      "source": [
        "### Tensor functions"
      ]
    },
    {
      "cell_type": "code",
      "metadata": {
        "id": "9xYma9lQ1ASv",
        "colab_type": "code",
        "outputId": "b0e7ac07-e9d8-4bc5-962d-510e7b623063",
        "colab": {
          "base_uri": "https://localhost:8080/",
          "height": 0
        }
      },
      "source": [
        "print(u.type())\n",
        "u = u.float()\n",
        "print(u.type())\n",
        "\n",
        "print(u.mean()),x.numpy()\n",
        "print(u.max())"
      ],
      "execution_count": 23,
      "outputs": [
        {
          "output_type": "stream",
          "text": [
            "torch.LongTensor\n",
            "torch.FloatTensor\n",
            "tensor(2.)\n",
            "tensor(3.)\n"
          ],
          "name": "stdout"
        }
      ]
    },
    {
      "cell_type": "code",
      "metadata": {
        "id": "vMexQJKo5TNn",
        "colab_type": "code",
        "outputId": "8356b3f4-51d7-4754-80c8-fb24f13c4a44",
        "colab": {
          "base_uri": "https://localhost:8080/",
          "height": 0
        }
      },
      "source": [
        "torch.linspace(start = 0, end = 10, steps = 6)"
      ],
      "execution_count": 24,
      "outputs": [
        {
          "output_type": "execute_result",
          "data": {
            "text/plain": [
              "tensor([ 0.,  2.,  4.,  6.,  8., 10.])"
            ]
          },
          "metadata": {
            "tags": []
          },
          "execution_count": 24
        }
      ]
    },
    {
      "cell_type": "code",
      "metadata": {
        "id": "g_78Pobg7IgY",
        "colab_type": "code",
        "colab": {}
      },
      "source": [
        "pi_val = np.pi\n",
        "\n",
        "x = torch.linspace(0, 2*np.pi, 100)\n",
        "y = torch.sin(x)"
      ],
      "execution_count": 0,
      "outputs": []
    },
    {
      "cell_type": "code",
      "metadata": {
        "id": "rA5H1QxI7g23",
        "colab_type": "code",
        "colab": {}
      },
      "source": [
        "import matplotlib.pyplot as plt\n",
        "% matplotlib inline"
      ],
      "execution_count": 0,
      "outputs": []
    },
    {
      "cell_type": "code",
      "metadata": {
        "id": "NsRDTr9m7ogW",
        "colab_type": "code",
        "outputId": "2bf3f9d0-3b3b-4dc0-910f-8fc78c199243",
        "colab": {
          "base_uri": "https://localhost:8080/",
          "height": 0
        }
      },
      "source": [
        "plt.plot(x.numpy(), y.numpy())"
      ],
      "execution_count": 27,
      "outputs": [
        {
          "output_type": "execute_result",
          "data": {
            "text/plain": [
              "[<matplotlib.lines.Line2D at 0x7f15bceed550>]"
            ]
          },
          "metadata": {
            "tags": []
          },
          "execution_count": 27
        },
        {
          "output_type": "display_data",
          "data": {
            "image/png": "[encoded data removed]",
            "text/plain": [
              "<Figure size 432x288 with 1 Axes>"
            ]
          },
          "metadata": {
            "tags": []
          }
        }
      ]
    },
    {
      "cell_type": "markdown",
      "metadata": {
        "id": "5ZAmTa75bEqd",
        "colab_type": "text"
      },
      "source": [
        "# 2D Tensors"
      ]
    },
    {
      "cell_type": "markdown",
      "metadata": {
        "id": "-VA_dyGwbLNT",
        "colab_type": "text"
      },
      "source": [
        "## Create 2D Tensors\n"
      ]
    },
    {
      "cell_type": "code",
      "metadata": {
        "id": "tAV2RXZ1dQvj",
        "colab_type": "code",
        "outputId": "099840b5-a955-4c8e-bb96-adc908e4aa54",
        "colab": {
          "base_uri": "https://localhost:8080/",
          "height": 0
        }
      },
      "source": [
        "a = [[1,2,3],[4,5,6],[7,8,9]]\n",
        "a = torch.tensor(a)\n",
        "a"
      ],
      "execution_count": 28,
      "outputs": [
        {
          "output_type": "execute_result",
          "data": {
            "text/plain": [
              "tensor([[1, 2, 3],\n",
              "        [4, 5, 6],\n",
              "        [7, 8, 9]])"
            ]
          },
          "metadata": {
            "tags": []
          },
          "execution_count": 28
        }
      ]
    },
    {
      "cell_type": "code",
      "metadata": {
        "id": "CTAFJSSRdoT6",
        "colab_type": "code",
        "outputId": "21fe0e54-f494-4956-fc89-1a7259010c72",
        "colab": {
          "base_uri": "https://localhost:8080/",
          "height": 0
        }
      },
      "source": [
        "print(a.size())\n",
        "print(a.shape)\n",
        "print(a.numel())"
      ],
      "execution_count": 29,
      "outputs": [
        {
          "output_type": "stream",
          "text": [
            "torch.Size([3, 3])\n",
            "torch.Size([3, 3])\n",
            "9\n"
          ],
          "name": "stdout"
        }
      ]
    },
    {
      "cell_type": "markdown",
      "metadata": {
        "id": "83fh9zkMbxki",
        "colab_type": "text"
      },
      "source": [
        "## Indexing and Slicing"
      ]
    },
    {
      "cell_type": "code",
      "metadata": {
        "id": "uxkNegUNd92R",
        "colab_type": "code",
        "outputId": "bc965b4a-a6ba-4d7a-e85d-9458057b2b61",
        "colab": {
          "base_uri": "https://localhost:8080/",
          "height": 0
        }
      },
      "source": [
        "print(a[0][0])\n",
        "print(a[0,0])\n",
        "\n",
        "print(a[0][0:2])\n",
        "print(a[0,0:2])"
      ],
      "execution_count": 30,
      "outputs": [
        {
          "output_type": "stream",
          "text": [
            "tensor(1)\n",
            "tensor(1)\n",
            "tensor([1, 2])\n",
            "tensor([1, 2])\n"
          ],
          "name": "stdout"
        }
      ]
    },
    {
      "cell_type": "code",
      "metadata": {
        "id": "tEUrdlIspyHI",
        "colab_type": "code",
        "outputId": "58e46695-181c-4ec0-d5ff-05ae34a63b45",
        "colab": {
          "base_uri": "https://localhost:8080/",
          "height": 0
        }
      },
      "source": [
        "print(a)\n",
        "\n",
        "print(\"-----------------\")\n",
        "print(\"Print middle row\")\n",
        "print(a[1,0:3])\n",
        "\n",
        "print(\"-----------------\")\n",
        "print(\"Print middle col\")\n",
        "print(a[0:3,1])"
      ],
      "execution_count": 31,
      "outputs": [
        {
          "output_type": "stream",
          "text": [
            "tensor([[1, 2, 3],\n",
            "        [4, 5, 6],\n",
            "        [7, 8, 9]])\n",
            "-----------------\n",
            "Print middle row\n",
            "tensor([4, 5, 6])\n",
            "-----------------\n",
            "Print middle col\n",
            "tensor([2, 5, 8])\n"
          ],
          "name": "stdout"
        }
      ]
    },
    {
      "cell_type": "markdown",
      "metadata": {
        "id": "sZ6mSdk6b1vs",
        "colab_type": "text"
      },
      "source": [
        "## Basic Operations"
      ]
    },
    {
      "cell_type": "code",
      "metadata": {
        "id": "OkGsiN1JefNB",
        "colab_type": "code",
        "outputId": "6c373a61-a32d-4411-bfc5-29964a992cdf",
        "colab": {
          "base_uri": "https://localhost:8080/",
          "height": 0
        }
      },
      "source": [
        "b = a * 2\n",
        "b"
      ],
      "execution_count": 32,
      "outputs": [
        {
          "output_type": "execute_result",
          "data": {
            "text/plain": [
              "tensor([[ 2,  4,  6],\n",
              "        [ 8, 10, 12],\n",
              "        [14, 16, 18]])"
            ]
          },
          "metadata": {
            "tags": []
          },
          "execution_count": 32
        }
      ]
    },
    {
      "cell_type": "code",
      "metadata": {
        "id": "2NPrhj-flVKU",
        "colab_type": "code",
        "outputId": "0ee97020-7298-4c05-cfe7-8ce960139cd1",
        "colab": {
          "base_uri": "https://localhost:8080/",
          "height": 0
        }
      },
      "source": [
        "print(a + b)\n",
        "print(a * b)"
      ],
      "execution_count": 33,
      "outputs": [
        {
          "output_type": "stream",
          "text": [
            "tensor([[ 3,  6,  9],\n",
            "        [12, 15, 18],\n",
            "        [21, 24, 27]])\n",
            "tensor([[  2,   8,  18],\n",
            "        [ 32,  50,  72],\n",
            "        [ 98, 128, 162]])\n"
          ],
          "name": "stdout"
        }
      ]
    },
    {
      "cell_type": "code",
      "metadata": {
        "id": "xPy223wNlpwC",
        "colab_type": "code",
        "outputId": "2b460356-a300-4681-d89e-3af46c180844",
        "colab": {
          "base_uri": "https://localhost:8080/",
          "height": 0
        }
      },
      "source": [
        "try:\n",
        "    c = torch.dot(a,b)\n",
        "    print(c)\n",
        "except:\n",
        "    print(\"torch.dot is only for 1D tensors\")\n",
        "    c = torch.mm(a,b)\n",
        "    print(c)"
      ],
      "execution_count": 34,
      "outputs": [
        {
          "output_type": "stream",
          "text": [
            "torch.dot is only for 1D tensors\n",
            "tensor([[ 60,  72,  84],\n",
            "        [132, 162, 192],\n",
            "        [204, 252, 300]])\n"
          ],
          "name": "stdout"
        }
      ]
    },
    {
      "cell_type": "markdown",
      "metadata": {
        "id": "mBDk6hBjGjFg",
        "colab_type": "text"
      },
      "source": [
        "# Diff Calculus"
      ]
    },
    {
      "cell_type": "markdown",
      "metadata": {
        "id": "WEMA9QCjmFqq",
        "colab_type": "text"
      },
      "source": [
        "## Derivatives in PyTorch"
      ]
    },
    {
      "cell_type": "code",
      "metadata": {
        "id": "o2gEYdSlCu69",
        "colab_type": "code",
        "outputId": "db07dc1c-2024-4221-9b18-ae5558180c62",
        "colab": {
          "base_uri": "https://localhost:8080/",
          "height": 0
        }
      },
      "source": [
        "# set value of x and enable gradient\n",
        "x = torch.tensor(2.0, requires_grad = True)\n",
        "\n",
        "# Function\n",
        "y = x**2\n",
        "\n",
        "# Calculate derivative equations\n",
        "y.backward()\n",
        "\n",
        "# Find the gradient(dy/dx) at x = 2\n",
        "x.grad"
      ],
      "execution_count": 35,
      "outputs": [
        {
          "output_type": "execute_result",
          "data": {
            "text/plain": [
              "tensor(4.)"
            ]
          },
          "metadata": {
            "tags": []
          },
          "execution_count": 35
        }
      ]
    },
    {
      "cell_type": "code",
      "metadata": {
        "id": "wjImoAA5FBBw",
        "colab_type": "code",
        "outputId": "ebaeb1c3-af7e-4263-8fde-bfb8afec049a",
        "colab": {
          "base_uri": "https://localhost:8080/",
          "height": 0
        }
      },
      "source": [
        "x = torch.tensor(2.0, requires_grad = True)\n",
        "y = x**2 + 2*x + 1\n",
        "\n",
        "y.backward()\n",
        "\n",
        "x.grad"
      ],
      "execution_count": 36,
      "outputs": [
        {
          "output_type": "execute_result",
          "data": {
            "text/plain": [
              "tensor(6.)"
            ]
          },
          "metadata": {
            "tags": []
          },
          "execution_count": 36
        }
      ]
    },
    {
      "cell_type": "markdown",
      "metadata": {
        "id": "YYbbElSiGy6A",
        "colab_type": "text"
      },
      "source": [
        "## Partial Derivatives in Pytorch"
      ]
    },
    {
      "cell_type": "code",
      "metadata": {
        "id": "PFnWbO9NG2X4",
        "colab_type": "code",
        "outputId": "4a6c620c-228b-4823-9329-cd2ec31c7b3c",
        "colab": {
          "base_uri": "https://localhost:8080/",
          "height": 0
        }
      },
      "source": [
        "u = torch.tensor(1.0, requires_grad = True)\n",
        "v = torch.tensor(2.0, requires_grad = True)\n",
        "\n",
        "f = u*v + u**2\n",
        "\n",
        "f.backward()\n",
        "\n",
        "print(u.grad)\n",
        "print(v.grad)"
      ],
      "execution_count": 37,
      "outputs": [
        {
          "output_type": "stream",
          "text": [
            "tensor(4.)\n",
            "tensor(1.)\n"
          ],
          "name": "stdout"
        }
      ]
    },
    {
      "cell_type": "markdown",
      "metadata": {
        "id": "TNF0gea2irA0",
        "colab_type": "text"
      },
      "source": [
        "## Subclass Autograd function"
      ]
    },
    {
      "cell_type": "code",
      "metadata": {
        "id": "bLnrFIefikE2",
        "colab_type": "code",
        "colab": {}
      },
      "source": [
        "class SQ(torch.autograd.Function):\n",
        "\n",
        "\n",
        "    @staticmethod\n",
        "    def forward(ctx,i):\n",
        "        \"\"\"\n",
        "        In the forward pass we receive a Tensor containing the input and return\n",
        "        a Tensor containing the output. ctx is a context object that can be used\n",
        "        to stash information for backward computation. You can cache arbitrary\n",
        "        objects for use in the backward pass using the ctx.save_for_backward method.\n",
        "        \"\"\"\n",
        "        result=i**2\n",
        "        ctx.save_for_backward(i)        \n",
        "        return result\n",
        "\n",
        "    @staticmethod\n",
        "    def backward(ctx, grad_output):\n",
        "        \"\"\"\n",
        "        In the backward pass we receive a Tensor containing the gradient of the loss\n",
        "        with respect to the output, and we need to compute the gradient of the loss\n",
        "        with respect to the input.\n",
        "        \"\"\"\n",
        "        i, = ctx.saved_tensors\n",
        "        grad_output = 2*i\n",
        "        return grad_output"
      ],
      "execution_count": 0,
      "outputs": []
    },
    {
      "cell_type": "code",
      "metadata": {
        "id": "xVOjKE4oik80",
        "colab_type": "code",
        "outputId": "6959467d-7932-443b-978e-fc3c5f737a50",
        "colab": {
          "base_uri": "https://localhost:8080/",
          "height": 0
        }
      },
      "source": [
        "x=torch.tensor(2.0,requires_grad=True )\n",
        "sq=SQ.apply\n",
        "\n",
        "y=sq(x)\n",
        "y\n",
        "print(y.grad_fn)\n",
        "y.backward()\n",
        "x.grad"
      ],
      "execution_count": 39,
      "outputs": [
        {
          "output_type": "stream",
          "text": [
            "<torch.autograd.function.SQBackward object at 0x7f162f61ff28>\n"
          ],
          "name": "stdout"
        },
        {
          "output_type": "execute_result",
          "data": {
            "text/plain": [
              "tensor(4.)"
            ]
          },
          "metadata": {
            "tags": []
          },
          "execution_count": 39
        }
      ]
    },
    {
      "cell_type": "markdown",
      "metadata": {
        "id": "I91uVqE1izl8",
        "colab_type": "text"
      },
      "source": [
        "## X**2 graph"
      ]
    },
    {
      "cell_type": "code",
      "metadata": {
        "id": "VJu39p2ti4b7",
        "colab_type": "code",
        "outputId": "f4ec2c13-8778-4869-f76a-a8de39eb8146",
        "colab": {
          "base_uri": "https://localhost:8080/",
          "height": 0
        }
      },
      "source": [
        "# Calculate the derivative with multiple values\n",
        "\n",
        "x = torch.linspace(-10, 10, 10, requires_grad = True)\n",
        "Y = x ** 2\n",
        "y = torch.sum(x ** 2)\n",
        "\n",
        "# Take the derivative with respect to multiple value. Plot out the function and its derivative\n",
        "\n",
        "y.backward()\n",
        "\n",
        "plt.plot(x.detach().numpy(), Y.detach().numpy(), label = 'function')\n",
        "plt.plot(x.detach().numpy(), x.grad.detach().numpy(), label = 'derivative')\n",
        "plt.xlabel('x')\n",
        "plt.legend()\n",
        "plt.show()"
      ],
      "execution_count": 40,
      "outputs": [
        {
          "output_type": "display_data",
          "data": {
            "image/png": "[encoded data removed]",
            "text/plain": [
              "<Figure size 432x288 with 1 Axes>"
            ]
          },
          "metadata": {
            "tags": []
          }
        }
      ]
    },
    {
      "cell_type": "markdown",
      "metadata": {
        "id": "_ZD9FRTxi8Dr",
        "colab_type": "text"
      },
      "source": [
        "## Relu Graph"
      ]
    },
    {
      "cell_type": "code",
      "metadata": {
        "id": "Cp1eSfffjAD2",
        "colab_type": "code",
        "outputId": "3d005ac3-05fc-4487-b0c6-e96b96264778",
        "colab": {
          "base_uri": "https://localhost:8080/",
          "height": 0
        }
      },
      "source": [
        "# Take the derivative of Relu with respect to multiple value. Plot out the function and its derivative\n",
        "\n",
        "x = torch.linspace(-10, 10, 1000, requires_grad = True)\n",
        "Y = torch.relu(x)\n",
        "y = Y.sum()\n",
        "y.backward()\n",
        "plt.plot(x.detach().numpy(), Y.detach().numpy(), label = 'function')\n",
        "plt.plot(x.detach().numpy(), x.grad.detach().numpy(), label = 'derivative')\n",
        "plt.xlabel('x')\n",
        "plt.legend()\n",
        "plt.show()"
      ],
      "execution_count": 41,
      "outputs": [
        {
          "output_type": "display_data",
          "data": {
            "image/png": "[encoded data removed]",
            "text/plain": [
              "<Figure size 432x288 with 1 Axes>"
            ]
          },
          "metadata": {
            "tags": []
          }
        }
      ]
    },
    {
      "cell_type": "markdown",
      "metadata": {
        "id": "I5tL9sW-pYL9",
        "colab_type": "text"
      },
      "source": [
        ""
      ]
    },
    {
      "cell_type": "markdown",
      "metadata": {
        "id": "1oz6SczIpZSD",
        "colab_type": "text"
      },
      "source": [
        "# Simple Dataset"
      ]
    },
    {
      "cell_type": "markdown",
      "metadata": {
        "id": "7SsVhwKRpesk",
        "colab_type": "text"
      },
      "source": [
        "## Dataset class and Object"
      ]
    },
    {
      "cell_type": "code",
      "metadata": {
        "id": "ZYKTnxi3yhCF",
        "colab_type": "code",
        "colab": {}
      },
      "source": [
        "from torch.utils.data import Dataset"
      ],
      "execution_count": 0,
      "outputs": []
    },
    {
      "cell_type": "code",
      "metadata": {
        "id": "fwUGFLfzIYdD",
        "colab_type": "code",
        "colab": {}
      },
      "source": [
        "class toy_set(Dataset):\n",
        "\n",
        "    def __init__(self, length = 100, transform = None):\n",
        "        self.len        =   length\n",
        "        self.transform  =   transform\n",
        "        self.x          =   2 * torch.ones(length, 2)\n",
        "        self.y          =   torch.ones(length, 1)\n",
        "\n",
        "    def __getitem__(self, index):\n",
        "        sample = self.x[index], self.y[index]        \n",
        "        if self.transform:\n",
        "            sample = self.transform(sample)        \n",
        "        return(sample)\n",
        "\n",
        "    def __len__(self):\n",
        "        return(self.len)"
      ],
      "execution_count": 0,
      "outputs": []
    },
    {
      "cell_type": "code",
      "metadata": {
        "id": "3i1VxlZ6S4po",
        "colab_type": "code",
        "colab": {}
      },
      "source": [
        "dataset = toy_set()"
      ],
      "execution_count": 0,
      "outputs": []
    },
    {
      "cell_type": "code",
      "metadata": {
        "id": "uXh4j41OTrFv",
        "colab_type": "code",
        "outputId": "27cba3e1-da9a-4555-b600-a1fe547cdf76",
        "colab": {
          "base_uri": "https://localhost:8080/",
          "height": 35
        }
      },
      "source": [
        "len(dataset)"
      ],
      "execution_count": 45,
      "outputs": [
        {
          "output_type": "execute_result",
          "data": {
            "text/plain": [
              "100"
            ]
          },
          "metadata": {
            "tags": []
          },
          "execution_count": 45
        }
      ]
    },
    {
      "cell_type": "markdown",
      "metadata": {
        "id": "4P_fgJHqp4aS",
        "colab_type": "text"
      },
      "source": [
        "## Dataset Transform"
      ]
    },
    {
      "cell_type": "code",
      "metadata": {
        "id": "tBX47iLCT9Z7",
        "colab_type": "code",
        "colab": {}
      },
      "source": [
        "class addi(object):\n",
        "    \n",
        "    def __init__(self, add_val = 1):\n",
        "        self.add_val = add_val\n",
        "\n",
        "    def __call__(self, sample):\n",
        "        x = sample[0]\n",
        "        y = sample[1]\n",
        "        x = x + self.add_val\n",
        "        y = y + self.add_val\n",
        "        sample = x,y\n",
        "        return(sample)"
      ],
      "execution_count": 0,
      "outputs": []
    },
    {
      "cell_type": "code",
      "metadata": {
        "id": "ylse4_MeU7u0",
        "colab_type": "code",
        "colab": {}
      },
      "source": [
        "class mult(object):\n",
        "\n",
        "    def __init__(self, mult_val = 1):\n",
        "        self.mult_val = mult_val\n",
        "\n",
        "    def __call__(self, sample):\n",
        "        x = sample[0]\n",
        "        y = sample[1]\n",
        "        x = x * self.mult_val\n",
        "        y = y * self.mult_val\n",
        "        sample = x,y\n",
        "        return(sample)"
      ],
      "execution_count": 0,
      "outputs": []
    },
    {
      "cell_type": "code",
      "metadata": {
        "id": "CQ8jcTBRVyEs",
        "colab_type": "code",
        "outputId": "d363a707-2838-42a0-9d1d-ac466c0d5ae4",
        "colab": {
          "base_uri": "https://localhost:8080/",
          "height": 54
        }
      },
      "source": [
        "obj_add = addi(10)\n",
        "\n",
        "print(dataset[0])\n",
        "\n",
        "print(obj_add(dataset[0]))"
      ],
      "execution_count": 48,
      "outputs": [
        {
          "output_type": "stream",
          "text": [
            "(tensor([2., 2.]), tensor([1.]))\n",
            "(tensor([12., 12.]), tensor([11.]))\n"
          ],
          "name": "stdout"
        }
      ]
    },
    {
      "cell_type": "code",
      "metadata": {
        "id": "hPIbjvKsWHI_",
        "colab_type": "code",
        "outputId": "e053a3af-643d-4c68-b867-261af8d6b9d3",
        "colab": {
          "base_uri": "https://localhost:8080/",
          "height": 54
        }
      },
      "source": [
        "obj_mult = mult(5)\n",
        "\n",
        "print(dataset[0])\n",
        "\n",
        "print(obj_mult(dataset[0]))"
      ],
      "execution_count": 49,
      "outputs": [
        {
          "output_type": "stream",
          "text": [
            "(tensor([2., 2.]), tensor([1.]))\n",
            "(tensor([10., 10.]), tensor([5.]))\n"
          ],
          "name": "stdout"
        }
      ]
    },
    {
      "cell_type": "code",
      "metadata": {
        "id": "Qb7xBUx3dPIG",
        "colab_type": "code",
        "outputId": "44dcb329-f03f-4450-ec90-c97015a0dbef",
        "colab": {
          "base_uri": "https://localhost:8080/",
          "height": 35
        }
      },
      "source": [
        "ds1 = toy_set(transform = obj_add)\n",
        "ds1[0]"
      ],
      "execution_count": 50,
      "outputs": [
        {
          "output_type": "execute_result",
          "data": {
            "text/plain": [
              "(tensor([12., 12.]), tensor([11.]))"
            ]
          },
          "metadata": {
            "tags": []
          },
          "execution_count": 50
        }
      ]
    },
    {
      "cell_type": "markdown",
      "metadata": {
        "id": "o8nD1Akqp97S",
        "colab_type": "text"
      },
      "source": [
        "## Compose Transform"
      ]
    },
    {
      "cell_type": "code",
      "metadata": {
        "id": "_IqNRlaLWUbK",
        "colab_type": "code",
        "colab": {}
      },
      "source": [
        "from torchvision import transforms"
      ],
      "execution_count": 0,
      "outputs": []
    },
    {
      "cell_type": "code",
      "metadata": {
        "id": "mlaSw9NCWdGx",
        "colab_type": "code",
        "colab": {}
      },
      "source": [
        "data_tranforms = transforms.Compose([addi(), mult()])"
      ],
      "execution_count": 0,
      "outputs": []
    },
    {
      "cell_type": "code",
      "metadata": {
        "id": "gAs0fxz8fagq",
        "colab_type": "code",
        "colab": {}
      },
      "source": [
        "data_tranforms = transforms.Compose([obj_add, obj_mult])"
      ],
      "execution_count": 0,
      "outputs": []
    },
    {
      "cell_type": "code",
      "metadata": {
        "id": "4sOIDrbcWorR",
        "colab_type": "code",
        "colab": {}
      },
      "source": [
        "dataset1 = toy_set(transform = data_tranforms)"
      ],
      "execution_count": 0,
      "outputs": []
    },
    {
      "cell_type": "code",
      "metadata": {
        "id": "EMmEKiD0X4Xx",
        "colab_type": "code",
        "outputId": "17766e3f-9a3d-4e90-82a5-aeb6187689a9",
        "colab": {
          "base_uri": "https://localhost:8080/",
          "height": 35
        }
      },
      "source": [
        "dataset1[0]"
      ],
      "execution_count": 55,
      "outputs": [
        {
          "output_type": "execute_result",
          "data": {
            "text/plain": [
              "(tensor([60., 60.]), tensor([55.]))"
            ]
          },
          "metadata": {
            "tags": []
          },
          "execution_count": 55
        }
      ]
    },
    {
      "cell_type": "code",
      "metadata": {
        "id": "6gSYjXJmX7mw",
        "colab_type": "code",
        "outputId": "698807ea-29a8-408d-ccaf-d19967fbae1f",
        "colab": {
          "base_uri": "https://localhost:8080/",
          "height": 35
        }
      },
      "source": [
        "dataset[0]"
      ],
      "execution_count": 56,
      "outputs": [
        {
          "output_type": "execute_result",
          "data": {
            "text/plain": [
              "(tensor([2., 2.]), tensor([1.]))"
            ]
          },
          "metadata": {
            "tags": []
          },
          "execution_count": 56
        }
      ]
    },
    {
      "cell_type": "markdown",
      "metadata": {
        "id": "kUAERNPuAliT",
        "colab_type": "text"
      },
      "source": [
        "# Dataset"
      ]
    },
    {
      "cell_type": "markdown",
      "metadata": {
        "id": "4zeDloQIAqV2",
        "colab_type": "text"
      },
      "source": [
        "## Dataset class for images"
      ]
    },
    {
      "cell_type": "code",
      "metadata": {
        "id": "_OuhwXhEA03D",
        "colab_type": "code",
        "colab": {
          "base_uri": "https://localhost:8080/",
          "height": 417
        },
        "outputId": "38e6416e-0c3c-4f08-db62-e8ff28ed52a6"
      },
      "source": [
        "! wget https://s3-api.us-geo.objectstorage.softlayer.net/cf-courses-data/CognitiveClass/DL0110EN/datasets/img.tar.gz -P /resources/data\n",
        "!tar -xf /resources/data/img.tar.gz \n",
        "\n",
        "!wget https://s3-api.us-geo.objectstorage.softlayer.net/cf-courses-data/CognitiveClass/DL0110EN/datasets/index.csv "
      ],
      "execution_count": 58,
      "outputs": [
        {
          "output_type": "stream",
          "text": [
            "--2020-01-31 03:16:30--  https://s3-api.us-geo.objectstorage.softlayer.net/cf-courses-data/CognitiveClass/DL0110EN/datasets/img.tar.gz\n",
            "Resolving s3-api.us-geo.objectstorage.softlayer.net (s3-api.us-geo.objectstorage.softlayer.net)... 67.228.254.196\n",
            "Connecting to s3-api.us-geo.objectstorage.softlayer.net (s3-api.us-geo.objectstorage.softlayer.net)|67.228.254.196|:443... connected.\n",
            "HTTP request sent, awaiting response... 200 OK\n",
            "Length: 50460 (49K) [application/octet-stream]\n",
            "Saving to: ‘/resources/data/img.tar.gz’\n",
            "\n",
            "img.tar.gz          100%[===================>]  49.28K   282KB/s    in 0.2s    \n",
            "\n",
            "2020-01-31 03:16:31 (282 KB/s) - ‘/resources/data/img.tar.gz’ saved [50460/50460]\n",
            "\n",
            "--2020-01-31 03:16:36--  https://s3-api.us-geo.objectstorage.softlayer.net/cf-courses-data/CognitiveClass/DL0110EN/datasets/index.csv\n",
            "Resolving s3-api.us-geo.objectstorage.softlayer.net (s3-api.us-geo.objectstorage.softlayer.net)... 67.228.254.196\n",
            "Connecting to s3-api.us-geo.objectstorage.softlayer.net (s3-api.us-geo.objectstorage.softlayer.net)|67.228.254.196|:443... connected.\n",
            "HTTP request sent, awaiting response... 200 OK\n",
            "Length: 1680905 (1.6M) [text/csv]\n",
            "Saving to: ‘index.csv’\n",
            "\n",
            "index.csv           100%[===================>]   1.60M   204KB/s    in 9.0s    \n",
            "\n",
            "2020-01-31 03:16:46 (181 KB/s) - ‘index.csv’ saved [1680905/1680905]\n",
            "\n"
          ],
          "name": "stdout"
        }
      ]
    },
    {
      "cell_type": "code",
      "metadata": {
        "id": "kbAgCCEpmZGc",
        "colab_type": "code",
        "colab": {
          "base_uri": "https://localhost:8080/",
          "height": 35
        },
        "outputId": "445ec19a-d24d-4c09-c346-cab425789abd"
      },
      "source": [
        "import torch\n",
        "from torch.utils.data import Dataset, DataLoader\n",
        "torch.manual_seed(0)"
      ],
      "execution_count": 59,
      "outputs": [
        {
          "output_type": "execute_result",
          "data": {
            "text/plain": [
              "<torch._C.Generator at 0x7f15c5058070>"
            ]
          },
          "metadata": {
            "tags": []
          },
          "execution_count": 59
        }
      ]
    },
    {
      "cell_type": "code",
      "metadata": {
        "id": "FdogI5eImcSD",
        "colab_type": "code",
        "colab": {}
      },
      "source": [
        "from PIL import Image\n",
        "import pandas as pd\n",
        "import os"
      ],
      "execution_count": 0,
      "outputs": []
    },
    {
      "cell_type": "code",
      "metadata": {
        "id": "6VYTCJJVmfFb",
        "colab_type": "code",
        "colab": {}
      },
      "source": [
        "directory = \"\"\n",
        "csv_file = 'index.csv'"
      ],
      "execution_count": 0,
      "outputs": []
    },
    {
      "cell_type": "code",
      "metadata": {
        "id": "hyIQUV55mhfb",
        "colab_type": "code",
        "colab": {}
      },
      "source": [
        "class Dataset(Dataset):\n",
        "    def __init__(self, csv_file, directory, transform = None):\n",
        "        self.csv_file = csv_file\n",
        "        self.directory = directory\n",
        "        self.transform = transform\n",
        "\n",
        "        file_path = os.path.join(self.directory, self.csv_file)\n",
        "\n",
        "        self.file_data = pd.read_csv(file_path)\n",
        "        self.len = self.file_data.shape[0]\n",
        "\n",
        "    def __len__(self):\n",
        "        return(self.len)\n",
        "\n",
        "    def __getitem__(self, idx):\n",
        "        img_path = os.path.join(self.directory, self.file_data.iloc[idx, 1])\n",
        "        img_data = Image.open(img_path)\n",
        "\n",
        "        y = self.file_data.iloc[idx,0]\n",
        "\n",
        "        if self.transform:\n",
        "            img_data = self.transform(img_data)\n",
        "        return(img_data, y)\n"
      ],
      "execution_count": 0,
      "outputs": []
    },
    {
      "cell_type": "code",
      "metadata": {
        "id": "cxnHGb0IoAep",
        "colab_type": "code",
        "colab": {}
      },
      "source": [
        "df = Dataset(csv_file = csv_file, directory = directory, transform = None)"
      ],
      "execution_count": 0,
      "outputs": []
    },
    {
      "cell_type": "code",
      "metadata": {
        "id": "gv_R2s3NoKgJ",
        "colab_type": "code",
        "colab": {
          "base_uri": "https://localhost:8080/",
          "height": 35
        },
        "outputId": "67decca0-a65a-497c-f78b-3616f0cc0477"
      },
      "source": [
        "len(df)"
      ],
      "execution_count": 66,
      "outputs": [
        {
          "output_type": "execute_result",
          "data": {
            "text/plain": [
              "60000"
            ]
          },
          "metadata": {
            "tags": []
          },
          "execution_count": 66
        }
      ]
    },
    {
      "cell_type": "code",
      "metadata": {
        "id": "5_OMGmGHoPYp",
        "colab_type": "code",
        "colab": {
          "base_uri": "https://localhost:8080/",
          "height": 35
        },
        "outputId": "38b8c782-9fa1-47df-8e0b-99917f98e5ee"
      },
      "source": [
        "x = df[0][0]\n",
        "y = df[0][1]\n",
        "\n",
        "y"
      ],
      "execution_count": 67,
      "outputs": [
        {
          "output_type": "execute_result",
          "data": {
            "text/plain": [
              "'Ankle boot'"
            ]
          },
          "metadata": {
            "tags": []
          },
          "execution_count": 67
        }
      ]
    },
    {
      "cell_type": "code",
      "metadata": {
        "id": "f30IrTu8oVXh",
        "colab_type": "code",
        "colab": {
          "base_uri": "https://localhost:8080/",
          "height": 45
        },
        "outputId": "1b1cb297-383f-42b0-9c0b-c515af69fed5"
      },
      "source": [
        "x"
      ],
      "execution_count": 68,
      "outputs": [
        {
          "output_type": "execute_result",
          "data": {
            "image/png": "[encoded data removed]",
            "text/plain": [
              "<PIL.PngImagePlugin.PngImageFile image mode=L size=28x28 at 0x7F15BB9D6940>"
            ]
          },
          "metadata": {
            "tags": []
          },
          "execution_count": 68
        }
      ]
    },
    {
      "cell_type": "code",
      "metadata": {
        "id": "7ZYJ83ZloXv4",
        "colab_type": "code",
        "colab": {
          "base_uri": "https://localhost:8080/",
          "height": 108
        },
        "outputId": "2250324a-5970-4ddb-b68c-a3a8512580b0"
      },
      "source": [
        "for i in range(5):\n",
        "    print(f'x : {df[i][0]} --- y : {df[i][1]}')"
      ],
      "execution_count": 73,
      "outputs": [
        {
          "output_type": "stream",
          "text": [
            "x : <PIL.PngImagePlugin.PngImageFile image mode=L size=28x28 at 0x7F15BA82C898> --- y : Ankle boot\n",
            "x : <PIL.PngImagePlugin.PngImageFile image mode=L size=28x28 at 0x7F15BA82CF28> --- y : T-shirt\n",
            "x : <PIL.PngImagePlugin.PngImageFile image mode=L size=28x28 at 0x7F15BA82C898> --- y : T-shirt\n",
            "x : <PIL.PngImagePlugin.PngImageFile image mode=L size=28x28 at 0x7F15BA82CF28> --- y : Dress\n",
            "x : <PIL.PngImagePlugin.PngImageFile image mode=L size=28x28 at 0x7F15BA82C898> --- y : T-shirt\n"
          ],
          "name": "stdout"
        }
      ]
    },
    {
      "cell_type": "markdown",
      "metadata": {
        "id": "3gUfecWeqYJU",
        "colab_type": "text"
      },
      "source": [
        "# Linear Regression"
      ]
    }
  ]
}