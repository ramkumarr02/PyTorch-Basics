{
  "nbformat": 4,
  "nbformat_minor": 0,
  "metadata": {
    "colab": {
      "name": "PyTorch Basics.ipynb",
      "provenance": [],
      "collapsed_sections": [
        "6ch1lBvT1alm",
        "FR6cAmFhqZPm",
        "ilI3RUUzyoix",
        "5H9_SdxhtUEs",
        "3TanRvmOqbG2",
        "nUJjzTynrpK-",
        "AdshI_rAqUbw",
        "tm4LiK0rz1tQ",
        "zcJKI0IG747_",
        "5ZAmTa75bEqd",
        "-VA_dyGwbLNT",
        "mBDk6hBjGjFg",
        "1oz6SczIpZSD",
        "7SsVhwKRpesk",
        "kUAERNPuAliT",
        "4zeDloQIAqV2",
        "hTg-YBhO1mue",
        "-BQ2fUm0OEsk"
      ],
      "toc_visible": true,
      "authorship_tag": "ABX9TyMJu1eTiIfwXsEaWkPLk09c",
      "include_colab_link": true
    },
    "kernelspec": {
      "name": "python3",
      "display_name": "Python 3"
    },
    "accelerator": "GPU",
    "widgets": {
      "application/vnd.jupyter.widget-state+json": {
        "d6f9f5c4827146fda3ac2d67cec02de5": {
          "model_module": "@jupyter-widgets/controls",
          "model_name": "HBoxModel",
          "state": {
            "_view_name": "HBoxView",
            "_dom_classes": [],
            "_model_name": "HBoxModel",
            "_view_module": "@jupyter-widgets/controls",
            "_model_module_version": "1.5.0",
            "_view_count": null,
            "_view_module_version": "1.5.0",
            "box_style": "",
            "layout": "IPY_MODEL_7b7de2f55c2b49f38b6d8422d752f4ce",
            "_model_module": "@jupyter-widgets/controls",
            "children": [
              "IPY_MODEL_96febd2f82e84813b9788d0a702bee66",
              "IPY_MODEL_f4f14833035b4f87b22993a6981b2129"
            ]
          }
        },
        "7b7de2f55c2b49f38b6d8422d752f4ce": {
          "model_module": "@jupyter-widgets/base",
          "model_name": "LayoutModel",
          "state": {
            "_view_name": "LayoutView",
            "grid_template_rows": null,
            "right": null,
            "justify_content": null,
            "_view_module": "@jupyter-widgets/base",
            "overflow": null,
            "_model_module_version": "1.2.0",
            "_view_count": null,
            "flex_flow": null,
            "width": null,
            "min_width": null,
            "border": null,
            "align_items": null,
            "bottom": null,
            "_model_module": "@jupyter-widgets/base",
            "top": null,
            "grid_column": null,
            "overflow_y": null,
            "overflow_x": null,
            "grid_auto_flow": null,
            "grid_area": null,
            "grid_template_columns": null,
            "flex": null,
            "_model_name": "LayoutModel",
            "justify_items": null,
            "grid_row": null,
            "max_height": null,
            "align_content": null,
            "visibility": null,
            "align_self": null,
            "height": null,
            "min_height": null,
            "padding": null,
            "grid_auto_rows": null,
            "grid_gap": null,
            "max_width": null,
            "order": null,
            "_view_module_version": "1.2.0",
            "grid_template_areas": null,
            "object_position": null,
            "object_fit": null,
            "grid_auto_columns": null,
            "margin": null,
            "display": null,
            "left": null
          }
        },
        "96febd2f82e84813b9788d0a702bee66": {
          "model_module": "@jupyter-widgets/controls",
          "model_name": "IntProgressModel",
          "state": {
            "_view_name": "ProgressView",
            "style": "IPY_MODEL_5ecb870e954f47dca3cec0127dd4a02a",
            "_dom_classes": [],
            "description": "",
            "_model_name": "IntProgressModel",
            "bar_style": "success",
            "max": 1,
            "_view_module": "@jupyter-widgets/controls",
            "_model_module_version": "1.5.0",
            "value": 1,
            "_view_count": null,
            "_view_module_version": "1.5.0",
            "orientation": "horizontal",
            "min": 0,
            "description_tooltip": null,
            "_model_module": "@jupyter-widgets/controls",
            "layout": "IPY_MODEL_f18d044189a34fb497e4bf14595c279d"
          }
        },
        "f4f14833035b4f87b22993a6981b2129": {
          "model_module": "@jupyter-widgets/controls",
          "model_name": "HTMLModel",
          "state": {
            "_view_name": "HTMLView",
            "style": "IPY_MODEL_bf834007e851439ea3f7c8940990dadc",
            "_dom_classes": [],
            "description": "",
            "_model_name": "HTMLModel",
            "placeholder": "​",
            "_view_module": "@jupyter-widgets/controls",
            "_model_module_version": "1.5.0",
            "value": "9920512it [00:00, 10484171.60it/s]",
            "_view_count": null,
            "_view_module_version": "1.5.0",
            "description_tooltip": null,
            "_model_module": "@jupyter-widgets/controls",
            "layout": "IPY_MODEL_6757c78687ff4e19b36ca66ab9dee42e"
          }
        },
        "5ecb870e954f47dca3cec0127dd4a02a": {
          "model_module": "@jupyter-widgets/controls",
          "model_name": "ProgressStyleModel",
          "state": {
            "_view_name": "StyleView",
            "_model_name": "ProgressStyleModel",
            "description_width": "",
            "_view_module": "@jupyter-widgets/base",
            "_model_module_version": "1.5.0",
            "_view_count": null,
            "_view_module_version": "1.2.0",
            "bar_color": null,
            "_model_module": "@jupyter-widgets/controls"
          }
        },
        "f18d044189a34fb497e4bf14595c279d": {
          "model_module": "@jupyter-widgets/base",
          "model_name": "LayoutModel",
          "state": {
            "_view_name": "LayoutView",
            "grid_template_rows": null,
            "right": null,
            "justify_content": null,
            "_view_module": "@jupyter-widgets/base",
            "overflow": null,
            "_model_module_version": "1.2.0",
            "_view_count": null,
            "flex_flow": null,
            "width": null,
            "min_width": null,
            "border": null,
            "align_items": null,
            "bottom": null,
            "_model_module": "@jupyter-widgets/base",
            "top": null,
            "grid_column": null,
            "overflow_y": null,
            "overflow_x": null,
            "grid_auto_flow": null,
            "grid_area": null,
            "grid_template_columns": null,
            "flex": null,
            "_model_name": "LayoutModel",
            "justify_items": null,
            "grid_row": null,
            "max_height": null,
            "align_content": null,
            "visibility": null,
            "align_self": null,
            "height": null,
            "min_height": null,
            "padding": null,
            "grid_auto_rows": null,
            "grid_gap": null,
            "max_width": null,
            "order": null,
            "_view_module_version": "1.2.0",
            "grid_template_areas": null,
            "object_position": null,
            "object_fit": null,
            "grid_auto_columns": null,
            "margin": null,
            "display": null,
            "left": null
          }
        },
        "bf834007e851439ea3f7c8940990dadc": {
          "model_module": "@jupyter-widgets/controls",
          "model_name": "DescriptionStyleModel",
          "state": {
            "_view_name": "StyleView",
            "_model_name": "DescriptionStyleModel",
            "description_width": "",
            "_view_module": "@jupyter-widgets/base",
            "_model_module_version": "1.5.0",
            "_view_count": null,
            "_view_module_version": "1.2.0",
            "_model_module": "@jupyter-widgets/controls"
          }
        },
        "6757c78687ff4e19b36ca66ab9dee42e": {
          "model_module": "@jupyter-widgets/base",
          "model_name": "LayoutModel",
          "state": {
            "_view_name": "LayoutView",
            "grid_template_rows": null,
            "right": null,
            "justify_content": null,
            "_view_module": "@jupyter-widgets/base",
            "overflow": null,
            "_model_module_version": "1.2.0",
            "_view_count": null,
            "flex_flow": null,
            "width": null,
            "min_width": null,
            "border": null,
            "align_items": null,
            "bottom": null,
            "_model_module": "@jupyter-widgets/base",
            "top": null,
            "grid_column": null,
            "overflow_y": null,
            "overflow_x": null,
            "grid_auto_flow": null,
            "grid_area": null,
            "grid_template_columns": null,
            "flex": null,
            "_model_name": "LayoutModel",
            "justify_items": null,
            "grid_row": null,
            "max_height": null,
            "align_content": null,
            "visibility": null,
            "align_self": null,
            "height": null,
            "min_height": null,
            "padding": null,
            "grid_auto_rows": null,
            "grid_gap": null,
            "max_width": null,
            "order": null,
            "_view_module_version": "1.2.0",
            "grid_template_areas": null,
            "object_position": null,
            "object_fit": null,
            "grid_auto_columns": null,
            "margin": null,
            "display": null,
            "left": null
          }
        },
        "a54a9977b4c94a74ae04c6eb50eeb5b0": {
          "model_module": "@jupyter-widgets/controls",
          "model_name": "HBoxModel",
          "state": {
            "_view_name": "HBoxView",
            "_dom_classes": [],
            "_model_name": "HBoxModel",
            "_view_module": "@jupyter-widgets/controls",
            "_model_module_version": "1.5.0",
            "_view_count": null,
            "_view_module_version": "1.5.0",
            "box_style": "",
            "layout": "IPY_MODEL_68d13217fbcc4b7dbaea68563047390e",
            "_model_module": "@jupyter-widgets/controls",
            "children": [
              "IPY_MODEL_e0e74fe91f8d47aa900b972bab768e52",
              "IPY_MODEL_413341ea144e43098c3ed2dfaf671f40"
            ]
          }
        },
        "68d13217fbcc4b7dbaea68563047390e": {
          "model_module": "@jupyter-widgets/base",
          "model_name": "LayoutModel",
          "state": {
            "_view_name": "LayoutView",
            "grid_template_rows": null,
            "right": null,
            "justify_content": null,
            "_view_module": "@jupyter-widgets/base",
            "overflow": null,
            "_model_module_version": "1.2.0",
            "_view_count": null,
            "flex_flow": null,
            "width": null,
            "min_width": null,
            "border": null,
            "align_items": null,
            "bottom": null,
            "_model_module": "@jupyter-widgets/base",
            "top": null,
            "grid_column": null,
            "overflow_y": null,
            "overflow_x": null,
            "grid_auto_flow": null,
            "grid_area": null,
            "grid_template_columns": null,
            "flex": null,
            "_model_name": "LayoutModel",
            "justify_items": null,
            "grid_row": null,
            "max_height": null,
            "align_content": null,
            "visibility": null,
            "align_self": null,
            "height": null,
            "min_height": null,
            "padding": null,
            "grid_auto_rows": null,
            "grid_gap": null,
            "max_width": null,
            "order": null,
            "_view_module_version": "1.2.0",
            "grid_template_areas": null,
            "object_position": null,
            "object_fit": null,
            "grid_auto_columns": null,
            "margin": null,
            "display": null,
            "left": null
          }
        },
        "e0e74fe91f8d47aa900b972bab768e52": {
          "model_module": "@jupyter-widgets/controls",
          "model_name": "IntProgressModel",
          "state": {
            "_view_name": "ProgressView",
            "style": "IPY_MODEL_96f458540bce45e18dae637f94f4039a",
            "_dom_classes": [],
            "description": "",
            "_model_name": "IntProgressModel",
            "bar_style": "success",
            "max": 1,
            "_view_module": "@jupyter-widgets/controls",
            "_model_module_version": "1.5.0",
            "value": 1,
            "_view_count": null,
            "_view_module_version": "1.5.0",
            "orientation": "horizontal",
            "min": 0,
            "description_tooltip": null,
            "_model_module": "@jupyter-widgets/controls",
            "layout": "IPY_MODEL_60483674ea8d46e7bd7424d5f6d56dcc"
          }
        },
        "413341ea144e43098c3ed2dfaf671f40": {
          "model_module": "@jupyter-widgets/controls",
          "model_name": "HTMLModel",
          "state": {
            "_view_name": "HTMLView",
            "style": "IPY_MODEL_ab032fef05b04fbf8b2759ba41374c9e",
            "_dom_classes": [],
            "description": "",
            "_model_name": "HTMLModel",
            "placeholder": "​",
            "_view_module": "@jupyter-widgets/controls",
            "_model_module_version": "1.5.0",
            "value": "32768it [00:00, 141159.35it/s]",
            "_view_count": null,
            "_view_module_version": "1.5.0",
            "description_tooltip": null,
            "_model_module": "@jupyter-widgets/controls",
            "layout": "IPY_MODEL_2971f9c418c4473db8639d52dca0d1f4"
          }
        },
        "96f458540bce45e18dae637f94f4039a": {
          "model_module": "@jupyter-widgets/controls",
          "model_name": "ProgressStyleModel",
          "state": {
            "_view_name": "StyleView",
            "_model_name": "ProgressStyleModel",
            "description_width": "",
            "_view_module": "@jupyter-widgets/base",
            "_model_module_version": "1.5.0",
            "_view_count": null,
            "_view_module_version": "1.2.0",
            "bar_color": null,
            "_model_module": "@jupyter-widgets/controls"
          }
        },
        "60483674ea8d46e7bd7424d5f6d56dcc": {
          "model_module": "@jupyter-widgets/base",
          "model_name": "LayoutModel",
          "state": {
            "_view_name": "LayoutView",
            "grid_template_rows": null,
            "right": null,
            "justify_content": null,
            "_view_module": "@jupyter-widgets/base",
            "overflow": null,
            "_model_module_version": "1.2.0",
            "_view_count": null,
            "flex_flow": null,
            "width": null,
            "min_width": null,
            "border": null,
            "align_items": null,
            "bottom": null,
            "_model_module": "@jupyter-widgets/base",
            "top": null,
            "grid_column": null,
            "overflow_y": null,
            "overflow_x": null,
            "grid_auto_flow": null,
            "grid_area": null,
            "grid_template_columns": null,
            "flex": null,
            "_model_name": "LayoutModel",
            "justify_items": null,
            "grid_row": null,
            "max_height": null,
            "align_content": null,
            "visibility": null,
            "align_self": null,
            "height": null,
            "min_height": null,
            "padding": null,
            "grid_auto_rows": null,
            "grid_gap": null,
            "max_width": null,
            "order": null,
            "_view_module_version": "1.2.0",
            "grid_template_areas": null,
            "object_position": null,
            "object_fit": null,
            "grid_auto_columns": null,
            "margin": null,
            "display": null,
            "left": null
          }
        },
        "ab032fef05b04fbf8b2759ba41374c9e": {
          "model_module": "@jupyter-widgets/controls",
          "model_name": "DescriptionStyleModel",
          "state": {
            "_view_name": "StyleView",
            "_model_name": "DescriptionStyleModel",
            "description_width": "",
            "_view_module": "@jupyter-widgets/base",
            "_model_module_version": "1.5.0",
            "_view_count": null,
            "_view_module_version": "1.2.0",
            "_model_module": "@jupyter-widgets/controls"
          }
        },
        "2971f9c418c4473db8639d52dca0d1f4": {
          "model_module": "@jupyter-widgets/base",
          "model_name": "LayoutModel",
          "state": {
            "_view_name": "LayoutView",
            "grid_template_rows": null,
            "right": null,
            "justify_content": null,
            "_view_module": "@jupyter-widgets/base",
            "overflow": null,
            "_model_module_version": "1.2.0",
            "_view_count": null,
            "flex_flow": null,
            "width": null,
            "min_width": null,
            "border": null,
            "align_items": null,
            "bottom": null,
            "_model_module": "@jupyter-widgets/base",
            "top": null,
            "grid_column": null,
            "overflow_y": null,
            "overflow_x": null,
            "grid_auto_flow": null,
            "grid_area": null,
            "grid_template_columns": null,
            "flex": null,
            "_model_name": "LayoutModel",
            "justify_items": null,
            "grid_row": null,
            "max_height": null,
            "align_content": null,
            "visibility": null,
            "align_self": null,
            "height": null,
            "min_height": null,
            "padding": null,
            "grid_auto_rows": null,
            "grid_gap": null,
            "max_width": null,
            "order": null,
            "_view_module_version": "1.2.0",
            "grid_template_areas": null,
            "object_position": null,
            "object_fit": null,
            "grid_auto_columns": null,
            "margin": null,
            "display": null,
            "left": null
          }
        },
        "607d206a22734000885494297432dedf": {
          "model_module": "@jupyter-widgets/controls",
          "model_name": "HBoxModel",
          "state": {
            "_view_name": "HBoxView",
            "_dom_classes": [],
            "_model_name": "HBoxModel",
            "_view_module": "@jupyter-widgets/controls",
            "_model_module_version": "1.5.0",
            "_view_count": null,
            "_view_module_version": "1.5.0",
            "box_style": "",
            "layout": "IPY_MODEL_4e507474bbca4534a371d754ffce742d",
            "_model_module": "@jupyter-widgets/controls",
            "children": [
              "IPY_MODEL_c79cc5da6ba44c468b6535a4ca8f9abe",
              "IPY_MODEL_10d5b853b75b43c8a458bfb4b1808037"
            ]
          }
        },
        "4e507474bbca4534a371d754ffce742d": {
          "model_module": "@jupyter-widgets/base",
          "model_name": "LayoutModel",
          "state": {
            "_view_name": "LayoutView",
            "grid_template_rows": null,
            "right": null,
            "justify_content": null,
            "_view_module": "@jupyter-widgets/base",
            "overflow": null,
            "_model_module_version": "1.2.0",
            "_view_count": null,
            "flex_flow": null,
            "width": null,
            "min_width": null,
            "border": null,
            "align_items": null,
            "bottom": null,
            "_model_module": "@jupyter-widgets/base",
            "top": null,
            "grid_column": null,
            "overflow_y": null,
            "overflow_x": null,
            "grid_auto_flow": null,
            "grid_area": null,
            "grid_template_columns": null,
            "flex": null,
            "_model_name": "LayoutModel",
            "justify_items": null,
            "grid_row": null,
            "max_height": null,
            "align_content": null,
            "visibility": null,
            "align_self": null,
            "height": null,
            "min_height": null,
            "padding": null,
            "grid_auto_rows": null,
            "grid_gap": null,
            "max_width": null,
            "order": null,
            "_view_module_version": "1.2.0",
            "grid_template_areas": null,
            "object_position": null,
            "object_fit": null,
            "grid_auto_columns": null,
            "margin": null,
            "display": null,
            "left": null
          }
        },
        "c79cc5da6ba44c468b6535a4ca8f9abe": {
          "model_module": "@jupyter-widgets/controls",
          "model_name": "IntProgressModel",
          "state": {
            "_view_name": "ProgressView",
            "style": "IPY_MODEL_e908ab0286eb46db8c6eff1fc90f5348",
            "_dom_classes": [],
            "description": "",
            "_model_name": "IntProgressModel",
            "bar_style": "success",
            "max": 1,
            "_view_module": "@jupyter-widgets/controls",
            "_model_module_version": "1.5.0",
            "value": 1,
            "_view_count": null,
            "_view_module_version": "1.5.0",
            "orientation": "horizontal",
            "min": 0,
            "description_tooltip": null,
            "_model_module": "@jupyter-widgets/controls",
            "layout": "IPY_MODEL_de04c17b4cc14a04980b63de20afd045"
          }
        },
        "10d5b853b75b43c8a458bfb4b1808037": {
          "model_module": "@jupyter-widgets/controls",
          "model_name": "HTMLModel",
          "state": {
            "_view_name": "HTMLView",
            "style": "IPY_MODEL_4ae716188e844ab4b57726a42efbc109",
            "_dom_classes": [],
            "description": "",
            "_model_name": "HTMLModel",
            "placeholder": "​",
            "_view_module": "@jupyter-widgets/controls",
            "_model_module_version": "1.5.0",
            "value": "1654784it [00:00, 2492894.55it/s]",
            "_view_count": null,
            "_view_module_version": "1.5.0",
            "description_tooltip": null,
            "_model_module": "@jupyter-widgets/controls",
            "layout": "IPY_MODEL_62721b98768e47d5999e8b018df12e59"
          }
        },
        "e908ab0286eb46db8c6eff1fc90f5348": {
          "model_module": "@jupyter-widgets/controls",
          "model_name": "ProgressStyleModel",
          "state": {
            "_view_name": "StyleView",
            "_model_name": "ProgressStyleModel",
            "description_width": "",
            "_view_module": "@jupyter-widgets/base",
            "_model_module_version": "1.5.0",
            "_view_count": null,
            "_view_module_version": "1.2.0",
            "bar_color": null,
            "_model_module": "@jupyter-widgets/controls"
          }
        },
        "de04c17b4cc14a04980b63de20afd045": {
          "model_module": "@jupyter-widgets/base",
          "model_name": "LayoutModel",
          "state": {
            "_view_name": "LayoutView",
            "grid_template_rows": null,
            "right": null,
            "justify_content": null,
            "_view_module": "@jupyter-widgets/base",
            "overflow": null,
            "_model_module_version": "1.2.0",
            "_view_count": null,
            "flex_flow": null,
            "width": null,
            "min_width": null,
            "border": null,
            "align_items": null,
            "bottom": null,
            "_model_module": "@jupyter-widgets/base",
            "top": null,
            "grid_column": null,
            "overflow_y": null,
            "overflow_x": null,
            "grid_auto_flow": null,
            "grid_area": null,
            "grid_template_columns": null,
            "flex": null,
            "_model_name": "LayoutModel",
            "justify_items": null,
            "grid_row": null,
            "max_height": null,
            "align_content": null,
            "visibility": null,
            "align_self": null,
            "height": null,
            "min_height": null,
            "padding": null,
            "grid_auto_rows": null,
            "grid_gap": null,
            "max_width": null,
            "order": null,
            "_view_module_version": "1.2.0",
            "grid_template_areas": null,
            "object_position": null,
            "object_fit": null,
            "grid_auto_columns": null,
            "margin": null,
            "display": null,
            "left": null
          }
        },
        "4ae716188e844ab4b57726a42efbc109": {
          "model_module": "@jupyter-widgets/controls",
          "model_name": "DescriptionStyleModel",
          "state": {
            "_view_name": "StyleView",
            "_model_name": "DescriptionStyleModel",
            "description_width": "",
            "_view_module": "@jupyter-widgets/base",
            "_model_module_version": "1.5.0",
            "_view_count": null,
            "_view_module_version": "1.2.0",
            "_model_module": "@jupyter-widgets/controls"
          }
        },
        "62721b98768e47d5999e8b018df12e59": {
          "model_module": "@jupyter-widgets/base",
          "model_name": "LayoutModel",
          "state": {
            "_view_name": "LayoutView",
            "grid_template_rows": null,
            "right": null,
            "justify_content": null,
            "_view_module": "@jupyter-widgets/base",
            "overflow": null,
            "_model_module_version": "1.2.0",
            "_view_count": null,
            "flex_flow": null,
            "width": null,
            "min_width": null,
            "border": null,
            "align_items": null,
            "bottom": null,
            "_model_module": "@jupyter-widgets/base",
            "top": null,
            "grid_column": null,
            "overflow_y": null,
            "overflow_x": null,
            "grid_auto_flow": null,
            "grid_area": null,
            "grid_template_columns": null,
            "flex": null,
            "_model_name": "LayoutModel",
            "justify_items": null,
            "grid_row": null,
            "max_height": null,
            "align_content": null,
            "visibility": null,
            "align_self": null,
            "height": null,
            "min_height": null,
            "padding": null,
            "grid_auto_rows": null,
            "grid_gap": null,
            "max_width": null,
            "order": null,
            "_view_module_version": "1.2.0",
            "grid_template_areas": null,
            "object_position": null,
            "object_fit": null,
            "grid_auto_columns": null,
            "margin": null,
            "display": null,
            "left": null
          }
        },
        "649ccdc53d7b401a8f3a0196de6664fd": {
          "model_module": "@jupyter-widgets/controls",
          "model_name": "HBoxModel",
          "state": {
            "_view_name": "HBoxView",
            "_dom_classes": [],
            "_model_name": "HBoxModel",
            "_view_module": "@jupyter-widgets/controls",
            "_model_module_version": "1.5.0",
            "_view_count": null,
            "_view_module_version": "1.5.0",
            "box_style": "",
            "layout": "IPY_MODEL_48c77133be49472293b14b24a08df94d",
            "_model_module": "@jupyter-widgets/controls",
            "children": [
              "IPY_MODEL_ef8db367b70b4e5a9a791c91138d90f8",
              "IPY_MODEL_0e356a9c4ebd42e2a8f7da0ce4490f56"
            ]
          }
        },
        "48c77133be49472293b14b24a08df94d": {
          "model_module": "@jupyter-widgets/base",
          "model_name": "LayoutModel",
          "state": {
            "_view_name": "LayoutView",
            "grid_template_rows": null,
            "right": null,
            "justify_content": null,
            "_view_module": "@jupyter-widgets/base",
            "overflow": null,
            "_model_module_version": "1.2.0",
            "_view_count": null,
            "flex_flow": null,
            "width": null,
            "min_width": null,
            "border": null,
            "align_items": null,
            "bottom": null,
            "_model_module": "@jupyter-widgets/base",
            "top": null,
            "grid_column": null,
            "overflow_y": null,
            "overflow_x": null,
            "grid_auto_flow": null,
            "grid_area": null,
            "grid_template_columns": null,
            "flex": null,
            "_model_name": "LayoutModel",
            "justify_items": null,
            "grid_row": null,
            "max_height": null,
            "align_content": null,
            "visibility": null,
            "align_self": null,
            "height": null,
            "min_height": null,
            "padding": null,
            "grid_auto_rows": null,
            "grid_gap": null,
            "max_width": null,
            "order": null,
            "_view_module_version": "1.2.0",
            "grid_template_areas": null,
            "object_position": null,
            "object_fit": null,
            "grid_auto_columns": null,
            "margin": null,
            "display": null,
            "left": null
          }
        },
        "ef8db367b70b4e5a9a791c91138d90f8": {
          "model_module": "@jupyter-widgets/controls",
          "model_name": "IntProgressModel",
          "state": {
            "_view_name": "ProgressView",
            "style": "IPY_MODEL_9f47bc48eb80490783dae91ae0a48c9d",
            "_dom_classes": [],
            "description": "",
            "_model_name": "IntProgressModel",
            "bar_style": "success",
            "max": 1,
            "_view_module": "@jupyter-widgets/controls",
            "_model_module_version": "1.5.0",
            "value": 1,
            "_view_count": null,
            "_view_module_version": "1.5.0",
            "orientation": "horizontal",
            "min": 0,
            "description_tooltip": null,
            "_model_module": "@jupyter-widgets/controls",
            "layout": "IPY_MODEL_f8886e98f5d14a54b4dc58dc13ef4f7b"
          }
        },
        "0e356a9c4ebd42e2a8f7da0ce4490f56": {
          "model_module": "@jupyter-widgets/controls",
          "model_name": "HTMLModel",
          "state": {
            "_view_name": "HTMLView",
            "style": "IPY_MODEL_9beca1b6b33d4e1b83397d1ddc78fe1b",
            "_dom_classes": [],
            "description": "",
            "_model_name": "HTMLModel",
            "placeholder": "​",
            "_view_module": "@jupyter-widgets/controls",
            "_model_module_version": "1.5.0",
            "value": "8192it [00:00, 52898.98it/s]",
            "_view_count": null,
            "_view_module_version": "1.5.0",
            "description_tooltip": null,
            "_model_module": "@jupyter-widgets/controls",
            "layout": "IPY_MODEL_44914e978ebe43e0a7d2a1f4a78db280"
          }
        },
        "9f47bc48eb80490783dae91ae0a48c9d": {
          "model_module": "@jupyter-widgets/controls",
          "model_name": "ProgressStyleModel",
          "state": {
            "_view_name": "StyleView",
            "_model_name": "ProgressStyleModel",
            "description_width": "",
            "_view_module": "@jupyter-widgets/base",
            "_model_module_version": "1.5.0",
            "_view_count": null,
            "_view_module_version": "1.2.0",
            "bar_color": null,
            "_model_module": "@jupyter-widgets/controls"
          }
        },
        "f8886e98f5d14a54b4dc58dc13ef4f7b": {
          "model_module": "@jupyter-widgets/base",
          "model_name": "LayoutModel",
          "state": {
            "_view_name": "LayoutView",
            "grid_template_rows": null,
            "right": null,
            "justify_content": null,
            "_view_module": "@jupyter-widgets/base",
            "overflow": null,
            "_model_module_version": "1.2.0",
            "_view_count": null,
            "flex_flow": null,
            "width": null,
            "min_width": null,
            "border": null,
            "align_items": null,
            "bottom": null,
            "_model_module": "@jupyter-widgets/base",
            "top": null,
            "grid_column": null,
            "overflow_y": null,
            "overflow_x": null,
            "grid_auto_flow": null,
            "grid_area": null,
            "grid_template_columns": null,
            "flex": null,
            "_model_name": "LayoutModel",
            "justify_items": null,
            "grid_row": null,
            "max_height": null,
            "align_content": null,
            "visibility": null,
            "align_self": null,
            "height": null,
            "min_height": null,
            "padding": null,
            "grid_auto_rows": null,
            "grid_gap": null,
            "max_width": null,
            "order": null,
            "_view_module_version": "1.2.0",
            "grid_template_areas": null,
            "object_position": null,
            "object_fit": null,
            "grid_auto_columns": null,
            "margin": null,
            "display": null,
            "left": null
          }
        },
        "9beca1b6b33d4e1b83397d1ddc78fe1b": {
          "model_module": "@jupyter-widgets/controls",
          "model_name": "DescriptionStyleModel",
          "state": {
            "_view_name": "StyleView",
            "_model_name": "DescriptionStyleModel",
            "description_width": "",
            "_view_module": "@jupyter-widgets/base",
            "_model_module_version": "1.5.0",
            "_view_count": null,
            "_view_module_version": "1.2.0",
            "_model_module": "@jupyter-widgets/controls"
          }
        },
        "44914e978ebe43e0a7d2a1f4a78db280": {
          "model_module": "@jupyter-widgets/base",
          "model_name": "LayoutModel",
          "state": {
            "_view_name": "LayoutView",
            "grid_template_rows": null,
            "right": null,
            "justify_content": null,
            "_view_module": "@jupyter-widgets/base",
            "overflow": null,
            "_model_module_version": "1.2.0",
            "_view_count": null,
            "flex_flow": null,
            "width": null,
            "min_width": null,
            "border": null,
            "align_items": null,
            "bottom": null,
            "_model_module": "@jupyter-widgets/base",
            "top": null,
            "grid_column": null,
            "overflow_y": null,
            "overflow_x": null,
            "grid_auto_flow": null,
            "grid_area": null,
            "grid_template_columns": null,
            "flex": null,
            "_model_name": "LayoutModel",
            "justify_items": null,
            "grid_row": null,
            "max_height": null,
            "align_content": null,
            "visibility": null,
            "align_self": null,
            "height": null,
            "min_height": null,
            "padding": null,
            "grid_auto_rows": null,
            "grid_gap": null,
            "max_width": null,
            "order": null,
            "_view_module_version": "1.2.0",
            "grid_template_areas": null,
            "object_position": null,
            "object_fit": null,
            "grid_auto_columns": null,
            "margin": null,
            "display": null,
            "left": null
          }
        }
      }
    }
  },
  "cells": [
    {
      "cell_type": "markdown",
      "metadata": {
        "id": "view-in-github",
        "colab_type": "text"
      },
      "source": [
        "<a href=\"https://colab.research.google.com/github/ramkumarr02/PyTorch-Basics/blob/master/PyTorch_Basics.ipynb\" target=\"_parent\"><img src=\"https://colab.research.google.com/assets/colab-badge.svg\" alt=\"Open In Colab\"/></a>"
      ]
    },
    {
      "cell_type": "markdown",
      "metadata": {
        "id": "6ch1lBvT1alm",
        "colab_type": "text"
      },
      "source": [
        "# Tensor and datasets\n"
      ]
    },
    {
      "cell_type": "markdown",
      "metadata": {
        "id": "FR6cAmFhqZPm",
        "colab_type": "text"
      },
      "source": [
        "## CUDA"
      ]
    },
    {
      "cell_type": "code",
      "metadata": {
        "id": "Z6vW6Y7dcCND",
        "colab_type": "code",
        "outputId": "c022b119-81f0-4233-c278-f0012f972c68",
        "colab": {
          "base_uri": "https://localhost:8080/",
          "height": 0
        }
      },
      "source": [
        "import torch\n",
        "if torch.cuda.is_available():\n",
        "    print(torch.cuda)\n",
        "else:\n",
        "    print(\"NO\")"
      ],
      "execution_count": 1,
      "outputs": [
        {
          "output_type": "stream",
          "text": [
            "<module 'torch.cuda' from '/usr/local/lib/python3.6/dist-packages/torch/cuda/__init__.py'>\n"
          ],
          "name": "stdout"
        }
      ]
    },
    {
      "cell_type": "markdown",
      "metadata": {
        "id": "qKI6uefppxLQ",
        "colab_type": "text"
      },
      "source": [
        "## 1D Tensors\n"
      ]
    },
    {
      "cell_type": "markdown",
      "metadata": {
        "id": "ilI3RUUzyoix",
        "colab_type": "text"
      },
      "source": [
        "### Torch"
      ]
    },
    {
      "cell_type": "code",
      "metadata": {
        "id": "5V23s40yIL4S",
        "colab_type": "code",
        "colab": {}
      },
      "source": [
        "import torch"
      ],
      "execution_count": 0,
      "outputs": []
    },
    {
      "cell_type": "code",
      "metadata": {
        "id": "vhJBvWR1IX7T",
        "colab_type": "code",
        "colab": {}
      },
      "source": [
        "x = torch.empty(3,3)"
      ],
      "execution_count": 0,
      "outputs": []
    },
    {
      "cell_type": "code",
      "metadata": {
        "id": "2mJe5qGUIcbP",
        "colab_type": "code",
        "outputId": "fdd3b6df-d864-4757-d457-0bec22a0e1e0",
        "colab": {
          "base_uri": "https://localhost:8080/",
          "height": 0
        }
      },
      "source": [
        "torch.tensor(x)"
      ],
      "execution_count": 4,
      "outputs": [
        {
          "output_type": "stream",
          "text": [
            "/usr/local/lib/python3.6/dist-packages/ipykernel_launcher.py:1: UserWarning: To copy construct from a tensor, it is recommended to use sourceTensor.clone().detach() or sourceTensor.clone().detach().requires_grad_(True), rather than torch.tensor(sourceTensor).\n",
            "  \"\"\"Entry point for launching an IPython kernel.\n"
          ],
          "name": "stderr"
        },
        {
          "output_type": "execute_result",
          "data": {
            "text/plain": [
              "tensor([[1.0414e-35, 0.0000e+00, 0.0000e+00],\n",
              "        [0.0000e+00, 0.0000e+00, 0.0000e+00],\n",
              "        [0.0000e+00, 0.0000e+00, 2.8026e-45]])"
            ]
          },
          "metadata": {
            "tags": []
          },
          "execution_count": 4
        }
      ]
    },
    {
      "cell_type": "code",
      "metadata": {
        "id": "TUahpXdBIqTz",
        "colab_type": "code",
        "colab": {}
      },
      "source": [
        "x = torch.ones(5,5)"
      ],
      "execution_count": 0,
      "outputs": []
    },
    {
      "cell_type": "markdown",
      "metadata": {
        "id": "5H9_SdxhtUEs",
        "colab_type": "text"
      },
      "source": [
        "### Numpy & Tensor\n"
      ]
    },
    {
      "cell_type": "code",
      "metadata": {
        "id": "4iCVx9TLwVN1",
        "colab_type": "code",
        "outputId": "9b3a1320-4955-4b6a-9820-95246635a7a0",
        "colab": {
          "base_uri": "https://localhost:8080/",
          "height": 0
        }
      },
      "source": [
        "import numpy as np\n",
        "narr = np.array([1,2,3,4])\n",
        "narr"
      ],
      "execution_count": 6,
      "outputs": [
        {
          "output_type": "execute_result",
          "data": {
            "text/plain": [
              "array([1, 2, 3, 4])"
            ]
          },
          "metadata": {
            "tags": []
          },
          "execution_count": 6
        }
      ]
    },
    {
      "cell_type": "code",
      "metadata": {
        "id": "e0E8tWMqwldb",
        "colab_type": "code",
        "outputId": "4485f96c-ee74-407c-a6a7-33bbc5dc5fc1",
        "colab": {
          "base_uri": "https://localhost:8080/",
          "height": 0
        }
      },
      "source": [
        "tens = torch.from_numpy(narr)\n",
        "tens"
      ],
      "execution_count": 7,
      "outputs": [
        {
          "output_type": "execute_result",
          "data": {
            "text/plain": [
              "tensor([1, 2, 3, 4])"
            ]
          },
          "metadata": {
            "tags": []
          },
          "execution_count": 7
        }
      ]
    },
    {
      "cell_type": "code",
      "metadata": {
        "id": "5AjnwMJVwqeh",
        "colab_type": "code",
        "outputId": "1c387dc8-fe7f-4b12-cf38-df36e5400b8c",
        "colab": {
          "base_uri": "https://localhost:8080/",
          "height": 0
        }
      },
      "source": [
        "narr1 = tens.numpy()\n",
        "narr1"
      ],
      "execution_count": 8,
      "outputs": [
        {
          "output_type": "execute_result",
          "data": {
            "text/plain": [
              "array([1, 2, 3, 4])"
            ]
          },
          "metadata": {
            "tags": []
          },
          "execution_count": 8
        }
      ]
    },
    {
      "cell_type": "code",
      "metadata": {
        "id": "byAQ1hjXxG-A",
        "colab_type": "code",
        "outputId": "68174894-01fa-421b-ebe5-c2dc0ae5ce54",
        "colab": {
          "base_uri": "https://localhost:8080/",
          "height": 0
        }
      },
      "source": [
        "print(tens[0], type(tens[0]))\n",
        "print(tens[0].item(), type(tens[0].item()))"
      ],
      "execution_count": 9,
      "outputs": [
        {
          "output_type": "stream",
          "text": [
            "tensor(1) <class 'torch.Tensor'>\n",
            "1 <class 'int'>\n"
          ],
          "name": "stdout"
        }
      ]
    },
    {
      "cell_type": "markdown",
      "metadata": {
        "id": "afKnkH-5zjbY",
        "colab_type": "text"
      },
      "source": [
        "### Data manipulation"
      ]
    },
    {
      "cell_type": "markdown",
      "metadata": {
        "id": "3TanRvmOqbG2",
        "colab_type": "text"
      },
      "source": [
        "#### Data type"
      ]
    },
    {
      "cell_type": "code",
      "metadata": {
        "id": "tugU8k3tp5OX",
        "colab_type": "code",
        "outputId": "16401cfc-2b9b-477b-c21d-76e8960bfafb",
        "colab": {
          "base_uri": "https://localhost:8080/",
          "height": 0
        }
      },
      "source": [
        "a = torch.tensor([1,2,3])\n",
        "print(a.dtype)\n",
        "print(a.type())"
      ],
      "execution_count": 10,
      "outputs": [
        {
          "output_type": "stream",
          "text": [
            "torch.int64\n",
            "torch.LongTensor\n"
          ],
          "name": "stdout"
        }
      ]
    },
    {
      "cell_type": "code",
      "metadata": {
        "id": "46nlGU6QqjkO",
        "colab_type": "code",
        "outputId": "59d0de9a-d6ea-4aa0-eb39-079187cc7aa5",
        "colab": {
          "base_uri": "https://localhost:8080/",
          "height": 0
        }
      },
      "source": [
        "a = torch.tensor([1,2,3], dtype = torch.float)\n",
        "print(a.dtype)\n",
        "print(a)\n",
        "print(a.type())"
      ],
      "execution_count": 11,
      "outputs": [
        {
          "output_type": "stream",
          "text": [
            "torch.float32\n",
            "tensor([1., 2., 3.])\n",
            "torch.FloatTensor\n"
          ],
          "name": "stdout"
        }
      ]
    },
    {
      "cell_type": "markdown",
      "metadata": {
        "id": "nUJjzTynrpK-",
        "colab_type": "text"
      },
      "source": [
        "#### Dimensions\n"
      ]
    },
    {
      "cell_type": "code",
      "metadata": {
        "id": "nOaZfdrbrrgH",
        "colab_type": "code",
        "outputId": "27750afd-2a61-4b37-ad3a-d21ac05fd7aa",
        "colab": {
          "base_uri": "https://localhost:8080/",
          "height": 0
        }
      },
      "source": [
        "a = torch.tensor([1,2,3,4])\n",
        "print(a.size())\n",
        "print(a.ndimension())"
      ],
      "execution_count": 12,
      "outputs": [
        {
          "output_type": "stream",
          "text": [
            "torch.Size([4])\n",
            "1\n"
          ],
          "name": "stdout"
        }
      ]
    },
    {
      "cell_type": "code",
      "metadata": {
        "id": "yCUvD-ypsgal",
        "colab_type": "code",
        "outputId": "601a2c15-a291-4708-b43e-7120bd9fb63b",
        "colab": {
          "base_uri": "https://localhost:8080/",
          "height": 0
        }
      },
      "source": [
        "a = torch.tensor([1,2,3,4,5,6])\n",
        "#a.view(row_num, col_num)\n",
        "print(a.view(2,-1))\n",
        "print('---------------------------')\n",
        "print(a.view(-1,2))\n",
        "print('---------------------------')\n",
        "print(a.view(1,-1))\n",
        "print('---------------------------')\n",
        "print(a.view(-1,1))"
      ],
      "execution_count": 13,
      "outputs": [
        {
          "output_type": "stream",
          "text": [
            "tensor([[1, 2, 3],\n",
            "        [4, 5, 6]])\n",
            "---------------------------\n",
            "tensor([[1, 2],\n",
            "        [3, 4],\n",
            "        [5, 6]])\n",
            "---------------------------\n",
            "tensor([[1, 2, 3, 4, 5, 6]])\n",
            "---------------------------\n",
            "tensor([[1],\n",
            "        [2],\n",
            "        [3],\n",
            "        [4],\n",
            "        [5],\n",
            "        [6]])\n"
          ],
          "name": "stdout"
        }
      ]
    },
    {
      "cell_type": "markdown",
      "metadata": {
        "id": "AdshI_rAqUbw",
        "colab_type": "text"
      },
      "source": [
        "#### Addition & Multiplication"
      ]
    },
    {
      "cell_type": "code",
      "metadata": {
        "id": "OBNCtUWlI9hS",
        "colab_type": "code",
        "outputId": "2c1bd284-7a38-42f5-d11d-b1e4bae7daf1",
        "colab": {
          "base_uri": "https://localhost:8080/",
          "height": 0
        }
      },
      "source": [
        "y =  torch.ones(5,5) * 2\n",
        "y"
      ],
      "execution_count": 14,
      "outputs": [
        {
          "output_type": "execute_result",
          "data": {
            "text/plain": [
              "tensor([[2., 2., 2., 2., 2.],\n",
              "        [2., 2., 2., 2., 2.],\n",
              "        [2., 2., 2., 2., 2.],\n",
              "        [2., 2., 2., 2., 2.],\n",
              "        [2., 2., 2., 2., 2.]])"
            ]
          },
          "metadata": {
            "tags": []
          },
          "execution_count": 14
        }
      ]
    },
    {
      "cell_type": "code",
      "metadata": {
        "id": "1q0F1a2nJJTM",
        "colab_type": "code",
        "outputId": "4092b1b6-26c9-42c1-c8e6-4f4f407557d1",
        "colab": {
          "base_uri": "https://localhost:8080/",
          "height": 0
        }
      },
      "source": [
        "x + y"
      ],
      "execution_count": 15,
      "outputs": [
        {
          "output_type": "execute_result",
          "data": {
            "text/plain": [
              "tensor([[3., 3., 3., 3., 3.],\n",
              "        [3., 3., 3., 3., 3.],\n",
              "        [3., 3., 3., 3., 3.],\n",
              "        [3., 3., 3., 3., 3.],\n",
              "        [3., 3., 3., 3., 3.]])"
            ]
          },
          "metadata": {
            "tags": []
          },
          "execution_count": 15
        }
      ]
    },
    {
      "cell_type": "code",
      "metadata": {
        "id": "YdVH6Qd-J7C2",
        "colab_type": "code",
        "outputId": "5d1e4ada-ab2a-437c-b4cc-5eeca69cf9c8",
        "colab": {
          "base_uri": "https://localhost:8080/",
          "height": 0
        }
      },
      "source": [
        "y.add(x)"
      ],
      "execution_count": 16,
      "outputs": [
        {
          "output_type": "execute_result",
          "data": {
            "text/plain": [
              "tensor([[3., 3., 3., 3., 3.],\n",
              "        [3., 3., 3., 3., 3.],\n",
              "        [3., 3., 3., 3., 3.],\n",
              "        [3., 3., 3., 3., 3.],\n",
              "        [3., 3., 3., 3., 3.]])"
            ]
          },
          "metadata": {
            "tags": []
          },
          "execution_count": 16
        }
      ]
    },
    {
      "cell_type": "code",
      "metadata": {
        "id": "TuHOOy2hJ9Cv",
        "colab_type": "code",
        "outputId": "b5194b99-c469-4bb8-ed75-3d907874bd03",
        "colab": {
          "base_uri": "https://localhost:8080/",
          "height": 0
        }
      },
      "source": [
        "y"
      ],
      "execution_count": 17,
      "outputs": [
        {
          "output_type": "execute_result",
          "data": {
            "text/plain": [
              "tensor([[2., 2., 2., 2., 2.],\n",
              "        [2., 2., 2., 2., 2.],\n",
              "        [2., 2., 2., 2., 2.],\n",
              "        [2., 2., 2., 2., 2.],\n",
              "        [2., 2., 2., 2., 2.]])"
            ]
          },
          "metadata": {
            "tags": []
          },
          "execution_count": 17
        }
      ]
    },
    {
      "cell_type": "code",
      "metadata": {
        "id": "bQ8Fs4qSJ-CZ",
        "colab_type": "code",
        "outputId": "5fe536eb-0479-4f65-f451-ea213da76c9f",
        "colab": {
          "base_uri": "https://localhost:8080/",
          "height": 0
        }
      },
      "source": [
        "y.add_(x)"
      ],
      "execution_count": 18,
      "outputs": [
        {
          "output_type": "execute_result",
          "data": {
            "text/plain": [
              "tensor([[3., 3., 3., 3., 3.],\n",
              "        [3., 3., 3., 3., 3.],\n",
              "        [3., 3., 3., 3., 3.],\n",
              "        [3., 3., 3., 3., 3.],\n",
              "        [3., 3., 3., 3., 3.]])"
            ]
          },
          "metadata": {
            "tags": []
          },
          "execution_count": 18
        }
      ]
    },
    {
      "cell_type": "code",
      "metadata": {
        "id": "sXLNVeVFKAwC",
        "colab_type": "code",
        "outputId": "de3e456b-a0da-434e-dbd6-b97a563141c1",
        "colab": {
          "base_uri": "https://localhost:8080/",
          "height": 0
        }
      },
      "source": [
        "y"
      ],
      "execution_count": 19,
      "outputs": [
        {
          "output_type": "execute_result",
          "data": {
            "text/plain": [
              "tensor([[3., 3., 3., 3., 3.],\n",
              "        [3., 3., 3., 3., 3.],\n",
              "        [3., 3., 3., 3., 3.],\n",
              "        [3., 3., 3., 3., 3.],\n",
              "        [3., 3., 3., 3., 3.]])"
            ]
          },
          "metadata": {
            "tags": []
          },
          "execution_count": 19
        }
      ]
    },
    {
      "cell_type": "code",
      "metadata": {
        "id": "RdUpM6sKPa7E",
        "colab_type": "code",
        "outputId": "8ddf5c7b-e272-4207-83db-0d3717d717e3",
        "colab": {
          "base_uri": "https://localhost:8080/",
          "height": 0
        }
      },
      "source": [
        "y.view(-1,25)"
      ],
      "execution_count": 20,
      "outputs": [
        {
          "output_type": "execute_result",
          "data": {
            "text/plain": [
              "tensor([[3., 3., 3., 3., 3., 3., 3., 3., 3., 3., 3., 3., 3., 3., 3., 3., 3., 3.,\n",
              "         3., 3., 3., 3., 3., 3., 3.]])"
            ]
          },
          "metadata": {
            "tags": []
          },
          "execution_count": 20
        }
      ]
    },
    {
      "cell_type": "markdown",
      "metadata": {
        "id": "tm4LiK0rz1tQ",
        "colab_type": "text"
      },
      "source": [
        "#### Vector manipulation"
      ]
    },
    {
      "cell_type": "code",
      "metadata": {
        "id": "jH6XGEMez37g",
        "colab_type": "code",
        "outputId": "a21ae6b5-e1e9-4f3c-cebe-36c673a4dd64",
        "colab": {
          "base_uri": "https://localhost:8080/",
          "height": 0
        }
      },
      "source": [
        "u = torch.tensor([1,2,3])\n",
        "v = torch.tensor([1.0,2.0,3.0])\n",
        "\n",
        "z = u + v\n",
        "print(z)\n",
        "\n",
        "z = u * 2\n",
        "print(z)"
      ],
      "execution_count": 21,
      "outputs": [
        {
          "output_type": "stream",
          "text": [
            "tensor([2., 4., 6.])\n",
            "tensor([2, 4, 6])\n"
          ],
          "name": "stdout"
        }
      ]
    },
    {
      "cell_type": "code",
      "metadata": {
        "id": "S33LnFH60Jc1",
        "colab_type": "code",
        "outputId": "7b31448c-210d-4cd7-d9c5-02586b719259",
        "colab": {
          "base_uri": "https://localhost:8080/",
          "height": 0
        }
      },
      "source": [
        "# Hadamard Product\n",
        "z = u * v\n",
        "print(z)\n",
        "\n",
        "\n",
        "# Dot Product\n",
        "u = torch.tensor([1,2,3])\n",
        "v = torch.tensor([1,2,3])\n",
        "z = torch.dot(u,v)\n",
        "print(z)"
      ],
      "execution_count": 22,
      "outputs": [
        {
          "output_type": "stream",
          "text": [
            "tensor([1., 4., 9.])\n",
            "tensor(14)\n"
          ],
          "name": "stdout"
        }
      ]
    },
    {
      "cell_type": "markdown",
      "metadata": {
        "id": "zcJKI0IG747_",
        "colab_type": "text"
      },
      "source": [
        "#### Tensor functions"
      ]
    },
    {
      "cell_type": "code",
      "metadata": {
        "id": "9xYma9lQ1ASv",
        "colab_type": "code",
        "outputId": "0fd40534-354e-4df9-ee51-28598bbe9014",
        "colab": {
          "base_uri": "https://localhost:8080/",
          "height": 0
        }
      },
      "source": [
        "print(u.type())\n",
        "u = u.float()\n",
        "print(u.type())\n",
        "\n",
        "print(u.mean()),x.numpy()\n",
        "print(u.max())"
      ],
      "execution_count": 23,
      "outputs": [
        {
          "output_type": "stream",
          "text": [
            "torch.LongTensor\n",
            "torch.FloatTensor\n",
            "tensor(2.)\n",
            "tensor(3.)\n"
          ],
          "name": "stdout"
        }
      ]
    },
    {
      "cell_type": "code",
      "metadata": {
        "id": "vMexQJKo5TNn",
        "colab_type": "code",
        "outputId": "88606dbd-4503-4e2f-cce3-e3d35fb39a53",
        "colab": {
          "base_uri": "https://localhost:8080/",
          "height": 0
        }
      },
      "source": [
        "torch.linspace(start = 0, end = 10, steps = 6)"
      ],
      "execution_count": 24,
      "outputs": [
        {
          "output_type": "execute_result",
          "data": {
            "text/plain": [
              "tensor([ 0.,  2.,  4.,  6.,  8., 10.])"
            ]
          },
          "metadata": {
            "tags": []
          },
          "execution_count": 24
        }
      ]
    },
    {
      "cell_type": "code",
      "metadata": {
        "id": "g_78Pobg7IgY",
        "colab_type": "code",
        "colab": {}
      },
      "source": [
        "pi_val = np.pi\n",
        "\n",
        "x = torch.linspace(0, 2*np.pi, 100)\n",
        "y = torch.sin(x)"
      ],
      "execution_count": 0,
      "outputs": []
    },
    {
      "cell_type": "code",
      "metadata": {
        "id": "rA5H1QxI7g23",
        "colab_type": "code",
        "colab": {}
      },
      "source": [
        "import matplotlib.pyplot as plt\n",
        "% matplotlib inline"
      ],
      "execution_count": 0,
      "outputs": []
    },
    {
      "cell_type": "code",
      "metadata": {
        "id": "NsRDTr9m7ogW",
        "colab_type": "code",
        "outputId": "995d5969-1cda-4ebc-a676-bdd2d7312a27",
        "colab": {
          "base_uri": "https://localhost:8080/",
          "height": 0
        }
      },
      "source": [
        "plt.plot(x.numpy(), y.numpy())"
      ],
      "execution_count": 27,
      "outputs": [
        {
          "output_type": "execute_result",
          "data": {
            "text/plain": [
              "[<matplotlib.lines.Line2D at 0x7fa62f3eb710>]"
            ]
          },
          "metadata": {
            "tags": []
          },
          "execution_count": 27
        },
        {
          "output_type": "display_data",
          "data": {
            "image/png": "[encoded data removed]",
            "text/plain": [
              "<Figure size 432x288 with 1 Axes>"
            ]
          },
          "metadata": {
            "tags": []
          }
        }
      ]
    },
    {
      "cell_type": "markdown",
      "metadata": {
        "id": "5ZAmTa75bEqd",
        "colab_type": "text"
      },
      "source": [
        "## 2D Tensors"
      ]
    },
    {
      "cell_type": "markdown",
      "metadata": {
        "id": "-VA_dyGwbLNT",
        "colab_type": "text"
      },
      "source": [
        "### Create 2D Tensors\n"
      ]
    },
    {
      "cell_type": "code",
      "metadata": {
        "id": "tAV2RXZ1dQvj",
        "colab_type": "code",
        "outputId": "e3663eea-89ca-4d91-8ce6-a29e0042204b",
        "colab": {
          "base_uri": "https://localhost:8080/",
          "height": 0
        }
      },
      "source": [
        "a = [[1,2,3],[4,5,6],[7,8,9]]\n",
        "a = torch.tensor(a)\n",
        "a"
      ],
      "execution_count": 28,
      "outputs": [
        {
          "output_type": "execute_result",
          "data": {
            "text/plain": [
              "tensor([[1, 2, 3],\n",
              "        [4, 5, 6],\n",
              "        [7, 8, 9]])"
            ]
          },
          "metadata": {
            "tags": []
          },
          "execution_count": 28
        }
      ]
    },
    {
      "cell_type": "code",
      "metadata": {
        "id": "CTAFJSSRdoT6",
        "colab_type": "code",
        "outputId": "5c8b7a92-0aaa-4a95-8bb7-83eed070e05f",
        "colab": {
          "base_uri": "https://localhost:8080/",
          "height": 0
        }
      },
      "source": [
        "print(a.size())\n",
        "print(a.shape)\n",
        "print(a.numel())"
      ],
      "execution_count": 29,
      "outputs": [
        {
          "output_type": "stream",
          "text": [
            "torch.Size([3, 3])\n",
            "torch.Size([3, 3])\n",
            "9\n"
          ],
          "name": "stdout"
        }
      ]
    },
    {
      "cell_type": "markdown",
      "metadata": {
        "id": "83fh9zkMbxki",
        "colab_type": "text"
      },
      "source": [
        "### Indexing and Slicing"
      ]
    },
    {
      "cell_type": "code",
      "metadata": {
        "id": "uxkNegUNd92R",
        "colab_type": "code",
        "outputId": "c3c2690d-0ccb-4a57-b145-dc84841185a5",
        "colab": {
          "base_uri": "https://localhost:8080/",
          "height": 0
        }
      },
      "source": [
        "print(a[0][0])\n",
        "print(a[0,0])\n",
        "\n",
        "print(a[0][0:2])\n",
        "print(a[0,0:2])"
      ],
      "execution_count": 30,
      "outputs": [
        {
          "output_type": "stream",
          "text": [
            "tensor(1)\n",
            "tensor(1)\n",
            "tensor([1, 2])\n",
            "tensor([1, 2])\n"
          ],
          "name": "stdout"
        }
      ]
    },
    {
      "cell_type": "code",
      "metadata": {
        "id": "tEUrdlIspyHI",
        "colab_type": "code",
        "outputId": "31a20296-6b5c-41f3-be97-060256335fff",
        "colab": {
          "base_uri": "https://localhost:8080/",
          "height": 0
        }
      },
      "source": [
        "print(a)\n",
        "\n",
        "print(\"-----------------\")\n",
        "print(\"Print middle row\")\n",
        "print(a[1,0:3])\n",
        "\n",
        "print(\"-----------------\")\n",
        "print(\"Print middle col\")\n",
        "print(a[0:3,1])"
      ],
      "execution_count": 31,
      "outputs": [
        {
          "output_type": "stream",
          "text": [
            "tensor([[1, 2, 3],\n",
            "        [4, 5, 6],\n",
            "        [7, 8, 9]])\n",
            "-----------------\n",
            "Print middle row\n",
            "tensor([4, 5, 6])\n",
            "-----------------\n",
            "Print middle col\n",
            "tensor([2, 5, 8])\n"
          ],
          "name": "stdout"
        }
      ]
    },
    {
      "cell_type": "markdown",
      "metadata": {
        "id": "sZ6mSdk6b1vs",
        "colab_type": "text"
      },
      "source": [
        "### Basic Operations"
      ]
    },
    {
      "cell_type": "code",
      "metadata": {
        "id": "OkGsiN1JefNB",
        "colab_type": "code",
        "outputId": "f8854535-6208-4b1f-ac90-86e38d315a00",
        "colab": {
          "base_uri": "https://localhost:8080/",
          "height": 0
        }
      },
      "source": [
        "b = a * 2\n",
        "b"
      ],
      "execution_count": 32,
      "outputs": [
        {
          "output_type": "execute_result",
          "data": {
            "text/plain": [
              "tensor([[ 2,  4,  6],\n",
              "        [ 8, 10, 12],\n",
              "        [14, 16, 18]])"
            ]
          },
          "metadata": {
            "tags": []
          },
          "execution_count": 32
        }
      ]
    },
    {
      "cell_type": "code",
      "metadata": {
        "id": "2NPrhj-flVKU",
        "colab_type": "code",
        "outputId": "7310b0da-2fe8-44a0-cd1c-5292c1a70e6f",
        "colab": {
          "base_uri": "https://localhost:8080/",
          "height": 0
        }
      },
      "source": [
        "print(a + b)\n",
        "print(a * b)"
      ],
      "execution_count": 33,
      "outputs": [
        {
          "output_type": "stream",
          "text": [
            "tensor([[ 3,  6,  9],\n",
            "        [12, 15, 18],\n",
            "        [21, 24, 27]])\n",
            "tensor([[  2,   8,  18],\n",
            "        [ 32,  50,  72],\n",
            "        [ 98, 128, 162]])\n"
          ],
          "name": "stdout"
        }
      ]
    },
    {
      "cell_type": "code",
      "metadata": {
        "id": "xPy223wNlpwC",
        "colab_type": "code",
        "outputId": "3795d247-fa39-4eca-b43b-414b91055b28",
        "colab": {
          "base_uri": "https://localhost:8080/",
          "height": 0
        }
      },
      "source": [
        "try:\n",
        "    c = torch.dot(a,b)\n",
        "    print(c)\n",
        "except:\n",
        "    print(\"torch.dot is only for 1D tensors\")\n",
        "    c = torch.mm(a,b)\n",
        "    print(c)"
      ],
      "execution_count": 34,
      "outputs": [
        {
          "output_type": "stream",
          "text": [
            "torch.dot is only for 1D tensors\n",
            "tensor([[ 60,  72,  84],\n",
            "        [132, 162, 192],\n",
            "        [204, 252, 300]])\n"
          ],
          "name": "stdout"
        }
      ]
    },
    {
      "cell_type": "markdown",
      "metadata": {
        "id": "mBDk6hBjGjFg",
        "colab_type": "text"
      },
      "source": [
        "## Diff Calculus"
      ]
    },
    {
      "cell_type": "markdown",
      "metadata": {
        "id": "WEMA9QCjmFqq",
        "colab_type": "text"
      },
      "source": [
        "### Derivatives in PyTorch"
      ]
    },
    {
      "cell_type": "code",
      "metadata": {
        "id": "o2gEYdSlCu69",
        "colab_type": "code",
        "outputId": "3b2ffd22-93e9-4620-f654-d6f6c1cde6c5",
        "colab": {
          "base_uri": "https://localhost:8080/",
          "height": 0
        }
      },
      "source": [
        "# set value of x and enable gradient\n",
        "x = torch.tensor(2.0, requires_grad = True)\n",
        "\n",
        "# Function\n",
        "y = x**2\n",
        "\n",
        "# Calculate derivative equations\n",
        "y.backward()\n",
        "\n",
        "# Find the gradient(dy/dx) at x = 2\n",
        "x.grad"
      ],
      "execution_count": 35,
      "outputs": [
        {
          "output_type": "execute_result",
          "data": {
            "text/plain": [
              "tensor(4.)"
            ]
          },
          "metadata": {
            "tags": []
          },
          "execution_count": 35
        }
      ]
    },
    {
      "cell_type": "code",
      "metadata": {
        "id": "wjImoAA5FBBw",
        "colab_type": "code",
        "outputId": "e711d345-1346-4ea7-8843-f96eef2860b6",
        "colab": {
          "base_uri": "https://localhost:8080/",
          "height": 0
        }
      },
      "source": [
        "x = torch.tensor(2.0, requires_grad = True)\n",
        "y = x**2 + 2*x + 1\n",
        "\n",
        "y.backward()\n",
        "\n",
        "x.grad"
      ],
      "execution_count": 36,
      "outputs": [
        {
          "output_type": "execute_result",
          "data": {
            "text/plain": [
              "tensor(6.)"
            ]
          },
          "metadata": {
            "tags": []
          },
          "execution_count": 36
        }
      ]
    },
    {
      "cell_type": "markdown",
      "metadata": {
        "id": "YYbbElSiGy6A",
        "colab_type": "text"
      },
      "source": [
        "### Partial Derivatives in Pytorch"
      ]
    },
    {
      "cell_type": "code",
      "metadata": {
        "id": "PFnWbO9NG2X4",
        "colab_type": "code",
        "outputId": "3c96ee8f-f4d9-40cf-e3ea-5f9ece947854",
        "colab": {
          "base_uri": "https://localhost:8080/",
          "height": 0
        }
      },
      "source": [
        "u = torch.tensor(1.0, requires_grad = True)\n",
        "v = torch.tensor(2.0, requires_grad = True)\n",
        "\n",
        "f = u*v + u**2\n",
        "\n",
        "f.backward()\n",
        "\n",
        "print(u.grad)\n",
        "print(v.grad)"
      ],
      "execution_count": 37,
      "outputs": [
        {
          "output_type": "stream",
          "text": [
            "tensor(4.)\n",
            "tensor(1.)\n"
          ],
          "name": "stdout"
        }
      ]
    },
    {
      "cell_type": "markdown",
      "metadata": {
        "id": "TNF0gea2irA0",
        "colab_type": "text"
      },
      "source": [
        "### Subclass Autograd function"
      ]
    },
    {
      "cell_type": "code",
      "metadata": {
        "id": "bLnrFIefikE2",
        "colab_type": "code",
        "colab": {}
      },
      "source": [
        "class SQ(torch.autograd.Function):\n",
        "\n",
        "\n",
        "    @staticmethod\n",
        "    def forward(ctx,i):\n",
        "        \"\"\"\n",
        "        In the forward pass we receive a Tensor containing the input and return\n",
        "        a Tensor containing the output. ctx is a context object that can be used\n",
        "        to stash information for backward computation. You can cache arbitrary\n",
        "        objects for use in the backward pass using the ctx.save_for_backward method.\n",
        "        \"\"\"\n",
        "        result=i**2\n",
        "        ctx.save_for_backward(i)        \n",
        "        return result\n",
        "\n",
        "    @staticmethod\n",
        "    def backward(ctx, grad_output):\n",
        "        \"\"\"\n",
        "        In the backward pass we receive a Tensor containing the gradient of the loss\n",
        "        with respect to the output, and we need to compute the gradient of the loss\n",
        "        with respect to the input.\n",
        "        \"\"\"\n",
        "        i, = ctx.saved_tensors\n",
        "        grad_output = 2*i\n",
        "        return grad_output"
      ],
      "execution_count": 0,
      "outputs": []
    },
    {
      "cell_type": "code",
      "metadata": {
        "id": "xVOjKE4oik80",
        "colab_type": "code",
        "outputId": "690fb5d0-f59a-4ee9-b091-e764bd1ceb87",
        "colab": {
          "base_uri": "https://localhost:8080/",
          "height": 0
        }
      },
      "source": [
        "x=torch.tensor(2.0,requires_grad=True )\n",
        "sq=SQ.apply\n",
        "\n",
        "y=sq(x)\n",
        "y\n",
        "print(y.grad_fn)\n",
        "y.backward()\n",
        "x.grad"
      ],
      "execution_count": 39,
      "outputs": [
        {
          "output_type": "stream",
          "text": [
            "<torch.autograd.function.SQBackward object at 0x7fa6a5031828>\n"
          ],
          "name": "stdout"
        },
        {
          "output_type": "execute_result",
          "data": {
            "text/plain": [
              "tensor(4.)"
            ]
          },
          "metadata": {
            "tags": []
          },
          "execution_count": 39
        }
      ]
    },
    {
      "cell_type": "markdown",
      "metadata": {
        "id": "I91uVqE1izl8",
        "colab_type": "text"
      },
      "source": [
        "### X**2 graph"
      ]
    },
    {
      "cell_type": "code",
      "metadata": {
        "id": "VJu39p2ti4b7",
        "colab_type": "code",
        "outputId": "6ff8ac3b-badc-4b8f-f38e-b1f1b9d9b8cc",
        "colab": {
          "base_uri": "https://localhost:8080/",
          "height": 0
        }
      },
      "source": [
        "# Calculate the derivative with multiple values\n",
        "\n",
        "x = torch.linspace(-10, 10, 10, requires_grad = True)\n",
        "Y = x ** 2\n",
        "y = torch.sum(x ** 2)\n",
        "\n",
        "# Take the derivative with respect to multiple value. Plot out the function and its derivative\n",
        "\n",
        "y.backward()\n",
        "\n",
        "plt.plot(x.detach().numpy(), Y.detach().numpy(), label = 'function')\n",
        "plt.plot(x.detach().numpy(), x.grad.detach().numpy(), label = 'derivative')\n",
        "plt.xlabel('x')\n",
        "plt.legend()\n",
        "plt.show()"
      ],
      "execution_count": 40,
      "outputs": [
        {
          "output_type": "display_data",
          "data": {
            "image/png": "[encoded data removed]",
            "text/plain": [
              "<Figure size 432x288 with 1 Axes>"
            ]
          },
          "metadata": {
            "tags": []
          }
        }
      ]
    },
    {
      "cell_type": "markdown",
      "metadata": {
        "id": "_ZD9FRTxi8Dr",
        "colab_type": "text"
      },
      "source": [
        "### Relu Graph"
      ]
    },
    {
      "cell_type": "code",
      "metadata": {
        "id": "Cp1eSfffjAD2",
        "colab_type": "code",
        "outputId": "da344750-f23c-4b29-9389-acc6ea23de60",
        "colab": {
          "base_uri": "https://localhost:8080/",
          "height": 0
        }
      },
      "source": [
        "# Take the derivative of Relu with respect to multiple value. Plot out the function and its derivative\n",
        "\n",
        "x = torch.linspace(-10, 10, 1000, requires_grad = True)\n",
        "Y = torch.relu(x)\n",
        "y = Y.sum()\n",
        "y.backward()\n",
        "plt.plot(x.detach().numpy(), Y.detach().numpy(), label = 'function')\n",
        "plt.plot(x.detach().numpy(), x.grad.detach().numpy(), label = 'derivative')\n",
        "plt.xlabel('x')\n",
        "plt.legend()\n",
        "plt.show()"
      ],
      "execution_count": 41,
      "outputs": [
        {
          "output_type": "display_data",
          "data": {
            "image/png": "[encoded data removed]",
            "text/plain": [
              "<Figure size 432x288 with 1 Axes>"
            ]
          },
          "metadata": {
            "tags": []
          }
        }
      ]
    },
    {
      "cell_type": "markdown",
      "metadata": {
        "id": "I5tL9sW-pYL9",
        "colab_type": "text"
      },
      "source": [
        ""
      ]
    },
    {
      "cell_type": "markdown",
      "metadata": {
        "id": "1oz6SczIpZSD",
        "colab_type": "text"
      },
      "source": [
        "## Simple Dataset"
      ]
    },
    {
      "cell_type": "markdown",
      "metadata": {
        "id": "7SsVhwKRpesk",
        "colab_type": "text"
      },
      "source": [
        "### Dataset class and Object"
      ]
    },
    {
      "cell_type": "code",
      "metadata": {
        "id": "ZYKTnxi3yhCF",
        "colab_type": "code",
        "colab": {}
      },
      "source": [
        "from torch.utils.data import Dataset"
      ],
      "execution_count": 0,
      "outputs": []
    },
    {
      "cell_type": "code",
      "metadata": {
        "id": "fwUGFLfzIYdD",
        "colab_type": "code",
        "colab": {}
      },
      "source": [
        "class toy_set(Dataset):\n",
        "\n",
        "    def __init__(self, length = 100, transform = None):\n",
        "        self.len        =   length\n",
        "        self.transform  =   transform\n",
        "        self.x          =   2 * torch.ones(length, 2)\n",
        "        self.y          =   torch.ones(length, 1)\n",
        "\n",
        "    def __getitem__(self, index):\n",
        "        sample = self.x[index], self.y[index]        \n",
        "        if self.transform:\n",
        "            sample = self.transform(sample)        \n",
        "        return(sample)\n",
        "\n",
        "    def __len__(self):\n",
        "        return(self.len)"
      ],
      "execution_count": 0,
      "outputs": []
    },
    {
      "cell_type": "code",
      "metadata": {
        "id": "3i1VxlZ6S4po",
        "colab_type": "code",
        "colab": {}
      },
      "source": [
        "dataset = toy_set()"
      ],
      "execution_count": 0,
      "outputs": []
    },
    {
      "cell_type": "code",
      "metadata": {
        "id": "uXh4j41OTrFv",
        "colab_type": "code",
        "outputId": "186e1f1d-106c-4e61-a97b-8e433821ad53",
        "colab": {
          "base_uri": "https://localhost:8080/",
          "height": 0
        }
      },
      "source": [
        "len(dataset)"
      ],
      "execution_count": 45,
      "outputs": [
        {
          "output_type": "execute_result",
          "data": {
            "text/plain": [
              "100"
            ]
          },
          "metadata": {
            "tags": []
          },
          "execution_count": 45
        }
      ]
    },
    {
      "cell_type": "markdown",
      "metadata": {
        "id": "4P_fgJHqp4aS",
        "colab_type": "text"
      },
      "source": [
        "### Dataset Transform"
      ]
    },
    {
      "cell_type": "code",
      "metadata": {
        "id": "tBX47iLCT9Z7",
        "colab_type": "code",
        "colab": {}
      },
      "source": [
        "class addi(object):\n",
        "    \n",
        "    def __init__(self, add_val = 1):\n",
        "        self.add_val = add_val\n",
        "\n",
        "    def __call__(self, sample):\n",
        "        x = sample[0]\n",
        "        y = sample[1]\n",
        "        x = x + self.add_val\n",
        "        y = y + self.add_val\n",
        "        sample = x,y\n",
        "        return(sample)"
      ],
      "execution_count": 0,
      "outputs": []
    },
    {
      "cell_type": "code",
      "metadata": {
        "id": "ylse4_MeU7u0",
        "colab_type": "code",
        "colab": {}
      },
      "source": [
        "class mult(object):\n",
        "\n",
        "    def __init__(self, mult_val = 1):\n",
        "        self.mult_val = mult_val\n",
        "\n",
        "    def __call__(self, sample):\n",
        "        x = sample[0]\n",
        "        y = sample[1]\n",
        "        x = x * self.mult_val\n",
        "        y = y * self.mult_val\n",
        "        sample = x,y\n",
        "        return(sample)"
      ],
      "execution_count": 0,
      "outputs": []
    },
    {
      "cell_type": "code",
      "metadata": {
        "id": "CQ8jcTBRVyEs",
        "colab_type": "code",
        "outputId": "5e57fd76-0391-4922-dffe-f7252caffca1",
        "colab": {
          "base_uri": "https://localhost:8080/",
          "height": 0
        }
      },
      "source": [
        "obj_add = addi(10)\n",
        "\n",
        "print(dataset[0])\n",
        "\n",
        "print(obj_add(dataset[0]))"
      ],
      "execution_count": 48,
      "outputs": [
        {
          "output_type": "stream",
          "text": [
            "(tensor([2., 2.]), tensor([1.]))\n",
            "(tensor([12., 12.]), tensor([11.]))\n"
          ],
          "name": "stdout"
        }
      ]
    },
    {
      "cell_type": "code",
      "metadata": {
        "id": "hPIbjvKsWHI_",
        "colab_type": "code",
        "outputId": "ba70cb37-7667-448f-81a5-2b03efecb5cf",
        "colab": {
          "base_uri": "https://localhost:8080/",
          "height": 0
        }
      },
      "source": [
        "obj_mult = mult(5)\n",
        "\n",
        "print(dataset[0])\n",
        "\n",
        "print(obj_mult(dataset[0]))"
      ],
      "execution_count": 49,
      "outputs": [
        {
          "output_type": "stream",
          "text": [
            "(tensor([2., 2.]), tensor([1.]))\n",
            "(tensor([10., 10.]), tensor([5.]))\n"
          ],
          "name": "stdout"
        }
      ]
    },
    {
      "cell_type": "code",
      "metadata": {
        "id": "Qb7xBUx3dPIG",
        "colab_type": "code",
        "outputId": "6cbebfef-355c-42ff-9684-f5657e32e008",
        "colab": {
          "base_uri": "https://localhost:8080/",
          "height": 0
        }
      },
      "source": [
        "ds1 = toy_set(transform = obj_add)\n",
        "ds1[0]"
      ],
      "execution_count": 50,
      "outputs": [
        {
          "output_type": "execute_result",
          "data": {
            "text/plain": [
              "(tensor([12., 12.]), tensor([11.]))"
            ]
          },
          "metadata": {
            "tags": []
          },
          "execution_count": 50
        }
      ]
    },
    {
      "cell_type": "markdown",
      "metadata": {
        "id": "o8nD1Akqp97S",
        "colab_type": "text"
      },
      "source": [
        "### Compose Transform"
      ]
    },
    {
      "cell_type": "code",
      "metadata": {
        "id": "_IqNRlaLWUbK",
        "colab_type": "code",
        "colab": {}
      },
      "source": [
        "from torchvision import transforms"
      ],
      "execution_count": 0,
      "outputs": []
    },
    {
      "cell_type": "code",
      "metadata": {
        "id": "mlaSw9NCWdGx",
        "colab_type": "code",
        "colab": {}
      },
      "source": [
        "data_tranforms = transforms.Compose([addi(), mult()])"
      ],
      "execution_count": 0,
      "outputs": []
    },
    {
      "cell_type": "code",
      "metadata": {
        "id": "gAs0fxz8fagq",
        "colab_type": "code",
        "colab": {}
      },
      "source": [
        "data_tranforms = transforms.Compose([obj_add, obj_mult])"
      ],
      "execution_count": 0,
      "outputs": []
    },
    {
      "cell_type": "code",
      "metadata": {
        "id": "4sOIDrbcWorR",
        "colab_type": "code",
        "colab": {}
      },
      "source": [
        "dataset1 = toy_set(transform = data_tranforms)"
      ],
      "execution_count": 0,
      "outputs": []
    },
    {
      "cell_type": "code",
      "metadata": {
        "id": "EMmEKiD0X4Xx",
        "colab_type": "code",
        "outputId": "ed8cff07-8869-4410-e734-414ac16876eb",
        "colab": {
          "base_uri": "https://localhost:8080/",
          "height": 0
        }
      },
      "source": [
        "dataset1[0]"
      ],
      "execution_count": 55,
      "outputs": [
        {
          "output_type": "execute_result",
          "data": {
            "text/plain": [
              "(tensor([60., 60.]), tensor([55.]))"
            ]
          },
          "metadata": {
            "tags": []
          },
          "execution_count": 55
        }
      ]
    },
    {
      "cell_type": "code",
      "metadata": {
        "id": "6gSYjXJmX7mw",
        "colab_type": "code",
        "outputId": "57307f05-c635-4f1f-d813-b52a396cc0db",
        "colab": {
          "base_uri": "https://localhost:8080/",
          "height": 0
        }
      },
      "source": [
        "dataset[0]"
      ],
      "execution_count": 56,
      "outputs": [
        {
          "output_type": "execute_result",
          "data": {
            "text/plain": [
              "(tensor([2., 2.]), tensor([1.]))"
            ]
          },
          "metadata": {
            "tags": []
          },
          "execution_count": 56
        }
      ]
    },
    {
      "cell_type": "markdown",
      "metadata": {
        "id": "kUAERNPuAliT",
        "colab_type": "text"
      },
      "source": [
        "## Dataset Class"
      ]
    },
    {
      "cell_type": "markdown",
      "metadata": {
        "id": "4zeDloQIAqV2",
        "colab_type": "text"
      },
      "source": [
        "### Custom Dataset class for images"
      ]
    },
    {
      "cell_type": "code",
      "metadata": {
        "id": "_OuhwXhEA03D",
        "colab_type": "code",
        "outputId": "9850c533-f854-4d0e-92e4-dce8ff6c17e7",
        "colab": {
          "base_uri": "https://localhost:8080/",
          "height": 0
        }
      },
      "source": [
        "! wget https://s3-api.us-geo.objectstorage.softlayer.net/cf-courses-data/CognitiveClass/DL0110EN/datasets/img.tar.gz -P /resources/data\n",
        "!tar -xf /resources/data/img.tar.gz \n",
        "\n",
        "!wget https://s3-api.us-geo.objectstorage.softlayer.net/cf-courses-data/CognitiveClass/DL0110EN/datasets/index.csv "
      ],
      "execution_count": 57,
      "outputs": [
        {
          "output_type": "stream",
          "text": [
            "--2020-02-18 05:35:12--  https://s3-api.us-geo.objectstorage.softlayer.net/cf-courses-data/CognitiveClass/DL0110EN/datasets/img.tar.gz\n",
            "Resolving s3-api.us-geo.objectstorage.softlayer.net (s3-api.us-geo.objectstorage.softlayer.net)... 67.228.254.196\n",
            "Connecting to s3-api.us-geo.objectstorage.softlayer.net (s3-api.us-geo.objectstorage.softlayer.net)|67.228.254.196|:443... connected.\n",
            "HTTP request sent, awaiting response... 200 OK\n",
            "Length: 50460 (49K) [application/octet-stream]\n",
            "Saving to: ‘/resources/data/img.tar.gz’\n",
            "\n",
            "\rimg.tar.gz            0%[                    ]       0  --.-KB/s               \rimg.tar.gz          100%[===================>]  49.28K  --.-KB/s    in 0.009s  \n",
            "\n",
            "2020-02-18 05:35:13 (5.43 MB/s) - ‘/resources/data/img.tar.gz’ saved [50460/50460]\n",
            "\n",
            "--2020-02-18 05:35:16--  https://s3-api.us-geo.objectstorage.softlayer.net/cf-courses-data/CognitiveClass/DL0110EN/datasets/index.csv\n",
            "Resolving s3-api.us-geo.objectstorage.softlayer.net (s3-api.us-geo.objectstorage.softlayer.net)... 67.228.254.196\n",
            "Connecting to s3-api.us-geo.objectstorage.softlayer.net (s3-api.us-geo.objectstorage.softlayer.net)|67.228.254.196|:443... connected.\n",
            "HTTP request sent, awaiting response... 200 OK\n",
            "Length: 1680905 (1.6M) [text/csv]\n",
            "Saving to: ‘index.csv’\n",
            "\n",
            "index.csv           100%[===================>]   1.60M  --.-KB/s    in 0.1s    \n",
            "\n",
            "2020-02-18 05:35:16 (15.7 MB/s) - ‘index.csv’ saved [1680905/1680905]\n",
            "\n"
          ],
          "name": "stdout"
        }
      ]
    },
    {
      "cell_type": "code",
      "metadata": {
        "id": "kbAgCCEpmZGc",
        "colab_type": "code",
        "outputId": "1fc343fd-0eae-4ea8-8d28-ea8c88a055e1",
        "colab": {
          "base_uri": "https://localhost:8080/",
          "height": 0
        }
      },
      "source": [
        "import torch\n",
        "from torch.utils.data import Dataset, DataLoader\n",
        "torch.manual_seed(0)"
      ],
      "execution_count": 58,
      "outputs": [
        {
          "output_type": "execute_result",
          "data": {
            "text/plain": [
              "<torch._C.Generator at 0x7fa683beabb0>"
            ]
          },
          "metadata": {
            "tags": []
          },
          "execution_count": 58
        }
      ]
    },
    {
      "cell_type": "code",
      "metadata": {
        "id": "FdogI5eImcSD",
        "colab_type": "code",
        "colab": {}
      },
      "source": [
        "from PIL import Image\n",
        "import pandas as pd\n",
        "import os"
      ],
      "execution_count": 0,
      "outputs": []
    },
    {
      "cell_type": "code",
      "metadata": {
        "id": "6VYTCJJVmfFb",
        "colab_type": "code",
        "colab": {}
      },
      "source": [
        "directory = \"\"\n",
        "csv_file = 'index.csv'"
      ],
      "execution_count": 0,
      "outputs": []
    },
    {
      "cell_type": "markdown",
      "metadata": {
        "id": "77VWhAmJVjXS",
        "colab_type": "text"
      },
      "source": [
        "#### Class"
      ]
    },
    {
      "cell_type": "code",
      "metadata": {
        "id": "hyIQUV55mhfb",
        "colab_type": "code",
        "colab": {}
      },
      "source": [
        "class Dataset(Dataset):\n",
        "    def __init__(self, csv_file, directory, transform = None):\n",
        "        self.csv_file = csv_file\n",
        "        self.directory = directory\n",
        "        self.transform = transform\n",
        "\n",
        "        file_path = os.path.join(self.directory, self.csv_file)\n",
        "\n",
        "        self.file_data = pd.read_csv(file_path)\n",
        "        self.len = self.file_data.shape[0]\n",
        "\n",
        "    def __len__(self):\n",
        "        return(self.len)\n",
        "\n",
        "    def __getitem__(self, idx):\n",
        "        img_path = os.path.join(self.directory, self.file_data.iloc[idx, 1])\n",
        "        img_data = Image.open(img_path)\n",
        "\n",
        "        y = self.file_data.iloc[idx,0]\n",
        "\n",
        "        if self.transform:\n",
        "            img_data = self.transform(img_data)\n",
        "        return(img_data, y)\n"
      ],
      "execution_count": 0,
      "outputs": []
    },
    {
      "cell_type": "code",
      "metadata": {
        "id": "cxnHGb0IoAep",
        "colab_type": "code",
        "colab": {}
      },
      "source": [
        "df = Dataset(csv_file = csv_file, directory = directory, transform = None)"
      ],
      "execution_count": 0,
      "outputs": []
    },
    {
      "cell_type": "code",
      "metadata": {
        "id": "gv_R2s3NoKgJ",
        "colab_type": "code",
        "outputId": "c82f3a00-827c-459f-84e2-aa43f40a134f",
        "colab": {
          "base_uri": "https://localhost:8080/",
          "height": 0
        }
      },
      "source": [
        "len(df)"
      ],
      "execution_count": 63,
      "outputs": [
        {
          "output_type": "execute_result",
          "data": {
            "text/plain": [
              "60000"
            ]
          },
          "metadata": {
            "tags": []
          },
          "execution_count": 63
        }
      ]
    },
    {
      "cell_type": "code",
      "metadata": {
        "id": "5_OMGmGHoPYp",
        "colab_type": "code",
        "outputId": "6d67b660-905c-4932-a463-67d20a6231c7",
        "colab": {
          "base_uri": "https://localhost:8080/",
          "height": 0
        }
      },
      "source": [
        "x = df[0][0]\n",
        "y = df[0][1]\n",
        "\n",
        "y"
      ],
      "execution_count": 64,
      "outputs": [
        {
          "output_type": "execute_result",
          "data": {
            "text/plain": [
              "'Ankle boot'"
            ]
          },
          "metadata": {
            "tags": []
          },
          "execution_count": 64
        }
      ]
    },
    {
      "cell_type": "code",
      "metadata": {
        "id": "f30IrTu8oVXh",
        "colab_type": "code",
        "outputId": "2a16b6a4-9ef8-4684-8b55-211eeaf0a7f9",
        "colab": {
          "base_uri": "https://localhost:8080/",
          "height": 0
        }
      },
      "source": [
        "x"
      ],
      "execution_count": 65,
      "outputs": [
        {
          "output_type": "execute_result",
          "data": {
            "image/png": "[encoded data removed]",
            "text/plain": [
              "<PIL.PngImagePlugin.PngImageFile image mode=L size=28x28 at 0x7FA62DCAF1D0>"
            ]
          },
          "metadata": {
            "tags": []
          },
          "execution_count": 65
        }
      ]
    },
    {
      "cell_type": "code",
      "metadata": {
        "id": "7ZYJ83ZloXv4",
        "colab_type": "code",
        "outputId": "3ef1e0e2-1b23-4f38-8ba4-06ee840dc56f",
        "colab": {
          "base_uri": "https://localhost:8080/",
          "height": 0
        }
      },
      "source": [
        "for i in range(5):\n",
        "    print(f'x : {df[i][0]} --- y : {df[i][1]}')"
      ],
      "execution_count": 66,
      "outputs": [
        {
          "output_type": "stream",
          "text": [
            "x : <PIL.PngImagePlugin.PngImageFile image mode=L size=28x28 at 0x7FA62CE24710> --- y : Ankle boot\n",
            "x : <PIL.PngImagePlugin.PngImageFile image mode=L size=28x28 at 0x7FA62CE24748> --- y : T-shirt\n",
            "x : <PIL.PngImagePlugin.PngImageFile image mode=L size=28x28 at 0x7FA62CE24780> --- y : T-shirt\n",
            "x : <PIL.PngImagePlugin.PngImageFile image mode=L size=28x28 at 0x7FA62CE24748> --- y : Dress\n",
            "x : <PIL.PngImagePlugin.PngImageFile image mode=L size=28x28 at 0x7FA62CE24780> --- y : T-shirt\n"
          ],
          "name": "stdout"
        }
      ]
    },
    {
      "cell_type": "code",
      "metadata": {
        "id": "3QOv5m63L0Bl",
        "colab_type": "code",
        "outputId": "9f19ea24-4810-4ddf-dcef-4ac51beada0e",
        "colab": {
          "base_uri": "https://localhost:8080/",
          "height": 0
        }
      },
      "source": [
        "image=df[0][0]\n",
        "y=df[0][1]\n",
        "\n",
        "plt.imshow(image,cmap='gray', vmin=0, vmax=255)\n",
        "plt.title(y)\n",
        "plt.show()"
      ],
      "execution_count": 67,
      "outputs": [
        {
          "output_type": "display_data",
          "data": {
            "image/png": "[encoded data removed]",
            "text/plain": [
              "<Figure size 432x288 with 1 Axes>"
            ]
          },
          "metadata": {
            "tags": []
          }
        }
      ]
    },
    {
      "cell_type": "code",
      "metadata": {
        "id": "7TNE-aZvMA1u",
        "colab_type": "code",
        "outputId": "90bc2f87-7878-4da7-c663-9a6b6d48242d",
        "colab": {
          "base_uri": "https://localhost:8080/",
          "height": 0
        }
      },
      "source": [
        "image=df[9][0]\n",
        "y=df[9][1]\n",
        "\n",
        "plt.imshow(image,cmap='gray', vmin=0, vmax=255)\n",
        "plt.title(y)\n",
        "plt.show()"
      ],
      "execution_count": 68,
      "outputs": [
        {
          "output_type": "display_data",
          "data": {
            "image/png": "[encoded data removed]",
            "text/plain": [
              "<Figure size 432x288 with 1 Axes>"
            ]
          },
          "metadata": {
            "tags": []
          }
        }
      ]
    },
    {
      "cell_type": "markdown",
      "metadata": {
        "id": "HBFRnndlM191",
        "colab_type": "text"
      },
      "source": [
        "### Torchvision Transforms"
      ]
    },
    {
      "cell_type": "code",
      "metadata": {
        "id": "M4ysihn4M462",
        "colab_type": "code",
        "colab": {}
      },
      "source": [
        "from torchvision import transforms"
      ],
      "execution_count": 0,
      "outputs": []
    },
    {
      "cell_type": "markdown",
      "metadata": {
        "id": "EXrJ_9ITQhxX",
        "colab_type": "text"
      },
      "source": [
        "#### Center Crop and To tensor"
      ]
    },
    {
      "cell_type": "code",
      "metadata": {
        "id": "PRh4N9NgM8r0",
        "colab_type": "code",
        "outputId": "728632a8-82ee-4f3d-fd77-f90f3af3bdbb",
        "colab": {
          "base_uri": "https://localhost:8080/",
          "height": 34
        }
      },
      "source": [
        "all_transforms = transforms.Compose([transforms.CenterCrop(20), transforms.ToTensor()])\n",
        "dataset = Dataset(csv_file = csv_file, directory = directory, transform = all_transforms)\n",
        "print(dataset[0][0].shape)"
      ],
      "execution_count": 70,
      "outputs": [
        {
          "output_type": "stream",
          "text": [
            "torch.Size([1, 20, 20])\n"
          ],
          "name": "stdout"
        }
      ]
    },
    {
      "cell_type": "code",
      "metadata": {
        "id": "_It3FHuRNd1E",
        "colab_type": "code",
        "colab": {}
      },
      "source": [
        "def show_data(data_sample, shape = (28, 28)):\n",
        "    plt.imshow(data_sample[0].numpy().reshape(shape), cmap='gray')\n",
        "    plt.title('y = ' + data_sample[1])"
      ],
      "execution_count": 0,
      "outputs": []
    },
    {
      "cell_type": "code",
      "metadata": {
        "id": "6fO1b710OIiI",
        "colab_type": "code",
        "outputId": "63519abe-acdb-4112-9897-824b5d0357f7",
        "colab": {
          "base_uri": "https://localhost:8080/",
          "height": 281
        }
      },
      "source": [
        "show_data(dataset[0],shape = (20, 20))"
      ],
      "execution_count": 72,
      "outputs": [
        {
          "output_type": "display_data",
          "data": {
            "image/png": "[encoded data removed]",
            "text/plain": [
              "<Figure size 432x288 with 1 Axes>"
            ]
          },
          "metadata": {
            "tags": []
          }
        }
      ]
    },
    {
      "cell_type": "code",
      "metadata": {
        "id": "21V0hHkMQEuY",
        "colab_type": "code",
        "outputId": "31a2e041-26e9-46de-b7da-209ec37bcaff",
        "colab": {
          "base_uri": "https://localhost:8080/",
          "height": 121
        }
      },
      "source": [
        "# Image converted to Tensors\n",
        "dataset[0][0][0][0:2]"
      ],
      "execution_count": 73,
      "outputs": [
        {
          "output_type": "execute_result",
          "data": {
            "text/plain": [
              "tensor([[0.0000, 0.0000, 0.0000, 0.0000, 0.0000, 0.0000, 0.0000, 0.0000, 0.0118,\n",
              "         0.0000, 0.1412, 0.5333, 0.4980, 0.2431, 0.2118, 0.0000, 0.0000, 0.0000,\n",
              "         0.0039, 0.0118],\n",
              "        [0.0000, 0.0000, 0.0000, 0.0000, 0.0000, 0.0000, 0.0000, 0.0000, 0.0235,\n",
              "         0.0000, 0.4000, 0.8000, 0.6902, 0.5255, 0.5647, 0.4824, 0.0902, 0.0000,\n",
              "         0.0000, 0.0000]])"
            ]
          },
          "metadata": {
            "tags": []
          },
          "execution_count": 73
        }
      ]
    },
    {
      "cell_type": "code",
      "metadata": {
        "id": "32k_Tky6PEMi",
        "colab_type": "code",
        "outputId": "f9fae27a-e457-48b7-b350-1f96fff3b8c8",
        "colab": {
          "base_uri": "https://localhost:8080/",
          "height": 173
        }
      },
      "source": [
        "dataset[0][0].numpy()[0][0:2]"
      ],
      "execution_count": 74,
      "outputs": [
        {
          "output_type": "execute_result",
          "data": {
            "text/plain": [
              "array([[0.        , 0.        , 0.        , 0.        , 0.        ,\n",
              "        0.        , 0.        , 0.        , 0.01176471, 0.        ,\n",
              "        0.14117648, 0.53333336, 0.49803922, 0.24313726, 0.21176471,\n",
              "        0.        , 0.        , 0.        , 0.00392157, 0.01176471],\n",
              "       [0.        , 0.        , 0.        , 0.        , 0.        ,\n",
              "        0.        , 0.        , 0.        , 0.02352941, 0.        ,\n",
              "        0.4       , 0.8       , 0.6901961 , 0.5254902 , 0.5647059 ,\n",
              "        0.48235294, 0.09019608, 0.        , 0.        , 0.        ]],\n",
              "      dtype=float32)"
            ]
          },
          "metadata": {
            "tags": []
          },
          "execution_count": 74
        }
      ]
    },
    {
      "cell_type": "markdown",
      "metadata": {
        "id": "RQQYhNDGQdyH",
        "colab_type": "text"
      },
      "source": [
        "#### Random vertical Flip and to tensor"
      ]
    },
    {
      "cell_type": "code",
      "metadata": {
        "id": "5-BPZiFIQqXB",
        "colab_type": "code",
        "outputId": "67ae3dfb-14d2-4f30-aa2c-cb3d5cffe615",
        "colab": {
          "base_uri": "https://localhost:8080/",
          "height": 281
        }
      },
      "source": [
        "new_transforms = transforms.Compose([transforms.RandomVerticalFlip(p=1), transforms.ToTensor()])\n",
        "dataset1 = Dataset(csv_file = csv_file, directory = directory, transform=new_transforms)\n",
        "show_data(dataset1[0])"
      ],
      "execution_count": 75,
      "outputs": [
        {
          "output_type": "display_data",
          "data": {
            "image/png": "[encoded data removed]",
            "text/plain": [
              "<Figure size 432x288 with 1 Axes>"
            ]
          },
          "metadata": {
            "tags": []
          }
        }
      ]
    },
    {
      "cell_type": "markdown",
      "metadata": {
        "id": "hYr6umMMVy4Y",
        "colab_type": "text"
      },
      "source": [
        "### PreBuilt Datset and Mnist"
      ]
    },
    {
      "cell_type": "code",
      "metadata": {
        "id": "2H1MRkw6V2hb",
        "colab_type": "code",
        "outputId": "a5bc3392-b033-4fda-d4bb-a1e84d86c41a",
        "colab": {
          "base_uri": "https://localhost:8080/",
          "height": 34
        }
      },
      "source": [
        "import torch\n",
        "import matplotlib.pyplot as plt\n",
        "import numpy as np\n",
        "torch.manual_seed(0)"
      ],
      "execution_count": 76,
      "outputs": [
        {
          "output_type": "execute_result",
          "data": {
            "text/plain": [
              "<torch._C.Generator at 0x7fa683beabb0>"
            ]
          },
          "metadata": {
            "tags": []
          },
          "execution_count": 76
        }
      ]
    },
    {
      "cell_type": "code",
      "metadata": {
        "id": "DyeJ1fGJWDFI",
        "colab_type": "code",
        "colab": {}
      },
      "source": [
        "def plot_data(data_sample, shape = (28, 28)):\n",
        "    plt.imshow(data_sample[0].numpy().reshape(shape), cmap = 'gray')\n",
        "    plt.title(\"Y = \" + str(data_sample[1]))"
      ],
      "execution_count": 0,
      "outputs": []
    },
    {
      "cell_type": "code",
      "metadata": {
        "id": "OeITJHWkWly6",
        "colab_type": "code",
        "colab": {}
      },
      "source": [
        "from torchvision import transforms\n",
        "import torchvision.datasets as dsets"
      ],
      "execution_count": 0,
      "outputs": []
    },
    {
      "cell_type": "code",
      "metadata": {
        "id": "nnv2-AjJX_k1",
        "colab_type": "code",
        "outputId": "c570ad59-7622-4876-b6de-b861ad2144a2",
        "colab": {
          "base_uri": "https://localhost:8080/",
          "height": 388,
          "referenced_widgets": [
            "d6f9f5c4827146fda3ac2d67cec02de5",
            "7b7de2f55c2b49f38b6d8422d752f4ce",
            "96febd2f82e84813b9788d0a702bee66",
            "f4f14833035b4f87b22993a6981b2129",
            "5ecb870e954f47dca3cec0127dd4a02a",
            "f18d044189a34fb497e4bf14595c279d",
            "bf834007e851439ea3f7c8940990dadc",
            "6757c78687ff4e19b36ca66ab9dee42e",
            "a54a9977b4c94a74ae04c6eb50eeb5b0",
            "68d13217fbcc4b7dbaea68563047390e",
            "e0e74fe91f8d47aa900b972bab768e52",
            "413341ea144e43098c3ed2dfaf671f40",
            "96f458540bce45e18dae637f94f4039a",
            "60483674ea8d46e7bd7424d5f6d56dcc",
            "ab032fef05b04fbf8b2759ba41374c9e",
            "2971f9c418c4473db8639d52dca0d1f4",
            "607d206a22734000885494297432dedf",
            "4e507474bbca4534a371d754ffce742d",
            "c79cc5da6ba44c468b6535a4ca8f9abe",
            "10d5b853b75b43c8a458bfb4b1808037",
            "e908ab0286eb46db8c6eff1fc90f5348",
            "de04c17b4cc14a04980b63de20afd045",
            "4ae716188e844ab4b57726a42efbc109",
            "62721b98768e47d5999e8b018df12e59",
            "649ccdc53d7b401a8f3a0196de6664fd",
            "48c77133be49472293b14b24a08df94d",
            "ef8db367b70b4e5a9a791c91138d90f8",
            "0e356a9c4ebd42e2a8f7da0ce4490f56",
            "9f47bc48eb80490783dae91ae0a48c9d",
            "f8886e98f5d14a54b4dc58dc13ef4f7b",
            "9beca1b6b33d4e1b83397d1ddc78fe1b",
            "44914e978ebe43e0a7d2a1f4a78db280"
          ]
        }
      },
      "source": [
        "df = dsets.MNIST(root = './data', \n",
        "                 train = False,\n",
        "                 download = True,\n",
        "                 transform = transforms.ToTensor()\n",
        "                 )"
      ],
      "execution_count": 79,
      "outputs": [
        {
          "output_type": "stream",
          "text": [
            "Downloading http://yann.lecun.com/exdb/mnist/train-images-idx3-ubyte.gz to ./data/MNIST/raw/train-images-idx3-ubyte.gz\n"
          ],
          "name": "stdout"
        },
        {
          "output_type": "display_data",
          "data": {
            "application/vnd.jupyter.widget-view+json": {
              "model_id": "d6f9f5c4827146fda3ac2d67cec02de5",
              "version_minor": 0,
              "version_major": 2
            },
            "text/plain": [
              "HBox(children=(IntProgress(value=1, bar_style='info', max=1), HTML(value='')))"
            ]
          },
          "metadata": {
            "tags": []
          }
        },
        {
          "output_type": "stream",
          "text": [
            "\n",
            "Extracting ./data/MNIST/raw/train-images-idx3-ubyte.gz to ./data/MNIST/raw\n",
            "Downloading http://yann.lecun.com/exdb/mnist/train-labels-idx1-ubyte.gz to ./data/MNIST/raw/train-labels-idx1-ubyte.gz\n"
          ],
          "name": "stdout"
        },
        {
          "output_type": "display_data",
          "data": {
            "application/vnd.jupyter.widget-view+json": {
              "model_id": "a54a9977b4c94a74ae04c6eb50eeb5b0",
              "version_minor": 0,
              "version_major": 2
            },
            "text/plain": [
              "HBox(children=(IntProgress(value=1, bar_style='info', max=1), HTML(value='')))"
            ]
          },
          "metadata": {
            "tags": []
          }
        },
        {
          "output_type": "stream",
          "text": [
            "\n",
            "Extracting ./data/MNIST/raw/train-labels-idx1-ubyte.gz to ./data/MNIST/raw\n",
            "Downloading http://yann.lecun.com/exdb/mnist/t10k-images-idx3-ubyte.gz to ./data/MNIST/raw/t10k-images-idx3-ubyte.gz\n"
          ],
          "name": "stdout"
        },
        {
          "output_type": "display_data",
          "data": {
            "application/vnd.jupyter.widget-view+json": {
              "model_id": "607d206a22734000885494297432dedf",
              "version_minor": 0,
              "version_major": 2
            },
            "text/plain": [
              "HBox(children=(IntProgress(value=1, bar_style='info', max=1), HTML(value='')))"
            ]
          },
          "metadata": {
            "tags": []
          }
        },
        {
          "output_type": "stream",
          "text": [
            "\n",
            "Extracting ./data/MNIST/raw/t10k-images-idx3-ubyte.gz to ./data/MNIST/raw\n",
            "Downloading http://yann.lecun.com/exdb/mnist/t10k-labels-idx1-ubyte.gz to ./data/MNIST/raw/t10k-labels-idx1-ubyte.gz\n"
          ],
          "name": "stdout"
        },
        {
          "output_type": "display_data",
          "data": {
            "application/vnd.jupyter.widget-view+json": {
              "model_id": "649ccdc53d7b401a8f3a0196de6664fd",
              "version_minor": 0,
              "version_major": 2
            },
            "text/plain": [
              "HBox(children=(IntProgress(value=1, bar_style='info', max=1), HTML(value='')))"
            ]
          },
          "metadata": {
            "tags": []
          }
        },
        {
          "output_type": "stream",
          "text": [
            "\n",
            "Extracting ./data/MNIST/raw/t10k-labels-idx1-ubyte.gz to ./data/MNIST/raw\n",
            "Processing...\n",
            "Done!\n"
          ],
          "name": "stdout"
        }
      ]
    },
    {
      "cell_type": "code",
      "metadata": {
        "id": "u5DAoE-kYeLM",
        "colab_type": "code",
        "outputId": "37c2b012-4743-4a06-f727-fd2f433c78e1",
        "colab": {
          "base_uri": "https://localhost:8080/",
          "height": 281
        }
      },
      "source": [
        "plot_data(df[0], shape= (28,28))"
      ],
      "execution_count": 80,
      "outputs": [
        {
          "output_type": "display_data",
          "data": {
            "image/png": "[encoded data removed]",
            "text/plain": [
              "<Figure size 432x288 with 1 Axes>"
            ]
          },
          "metadata": {
            "tags": []
          }
        }
      ]
    },
    {
      "cell_type": "code",
      "metadata": {
        "id": "qFM5BYsXZH1d",
        "colab_type": "code",
        "colab": {}
      },
      "source": [
        "new_transforms1 = transforms.Compose([transforms.RandomVerticalFlip(p=1), transforms.ToTensor()])\n",
        "new_transforms2 = transforms.Compose([transforms.RandomRotation(degrees = 45.0), transforms.ToTensor()])\n",
        "\n",
        "df1 = dsets.MNIST(root = './data', \n",
        "                 train = False,\n",
        "                 download = True,\n",
        "                 transform = new_transforms1\n",
        "                 #transform = transforms.Compose([transforms.RandomRotation(45), transforms.ToTensor()])\n",
        "                 )"
      ],
      "execution_count": 0,
      "outputs": []
    },
    {
      "cell_type": "code",
      "metadata": {
        "id": "P1SLfRu7ZX35",
        "colab_type": "code",
        "outputId": "ae6c32d7-34ef-4df9-b8fc-681296c687d1",
        "colab": {
          "base_uri": "https://localhost:8080/",
          "height": 281
        }
      },
      "source": [
        "plot_data(df1[1], shape= (28,28))"
      ],
      "execution_count": 82,
      "outputs": [
        {
          "output_type": "display_data",
          "data": {
            "image/png": "[encoded data removed]",
            "text/plain": [
              "<Figure size 432x288 with 1 Axes>"
            ]
          },
          "metadata": {
            "tags": []
          }
        }
      ]
    },
    {
      "cell_type": "markdown",
      "metadata": {
        "id": "Yw4GOXfZ1jR5",
        "colab_type": "text"
      },
      "source": [
        "# Linear Regression"
      ]
    },
    {
      "cell_type": "markdown",
      "metadata": {
        "id": "hTg-YBhO1mue",
        "colab_type": "text"
      },
      "source": [
        "## Linear Regression in 1D - Prediction"
      ]
    },
    {
      "cell_type": "code",
      "metadata": {
        "id": "gzNSgEENAY25",
        "colab_type": "code",
        "colab": {}
      },
      "source": [
        "import torch\n",
        "\n",
        "w = torch.tensor(2.0, requires_grad = True)\n",
        "b = torch.tensor(-1.0, requires_grad = True)\n",
        "\n",
        "def forward(x):\n",
        "    y = w*x + b\n",
        "    return(y)"
      ],
      "execution_count": 0,
      "outputs": []
    },
    {
      "cell_type": "code",
      "metadata": {
        "id": "G2yPY9KoAztM",
        "colab_type": "code",
        "outputId": "7f903f6a-3c11-462c-b97e-c4ebe4bf5249",
        "colab": {
          "base_uri": "https://localhost:8080/",
          "height": 0
        }
      },
      "source": [
        "x = torch.tensor([1])\n",
        "\n",
        "yhat = forward(x)\n",
        "print(yhat)"
      ],
      "execution_count": 84,
      "outputs": [
        {
          "output_type": "stream",
          "text": [
            "tensor([1.], grad_fn=<AddBackward0>)\n"
          ],
          "name": "stdout"
        }
      ]
    },
    {
      "cell_type": "code",
      "metadata": {
        "id": "BiZkgot4A20D",
        "colab_type": "code",
        "outputId": "b05102ed-3aaf-45cb-c18d-45cd9f1baace",
        "colab": {
          "base_uri": "https://localhost:8080/",
          "height": 0
        }
      },
      "source": [
        "x = torch.tensor([[1],[2]])\n",
        "\n",
        "yhat = forward(x)\n",
        "print(yhat)"
      ],
      "execution_count": 85,
      "outputs": [
        {
          "output_type": "stream",
          "text": [
            "tensor([[1.],\n",
            "        [3.]], grad_fn=<AddBackward0>)\n"
          ],
          "name": "stdout"
        }
      ]
    },
    {
      "cell_type": "markdown",
      "metadata": {
        "id": "czQxE4K92Ky0",
        "colab_type": "text"
      },
      "source": [
        "### Class Linear\n"
      ]
    },
    {
      "cell_type": "code",
      "metadata": {
        "id": "5U_DlFWCCWY9",
        "colab_type": "code",
        "colab": {}
      },
      "source": [
        "from torch.nn import Linear"
      ],
      "execution_count": 0,
      "outputs": []
    },
    {
      "cell_type": "code",
      "metadata": {
        "id": "qvnbjwB3CkPD",
        "colab_type": "code",
        "colab": {}
      },
      "source": [
        "model = Linear(in_features=1, out_features=1)"
      ],
      "execution_count": 0,
      "outputs": []
    },
    {
      "cell_type": "code",
      "metadata": {
        "id": "cO6iuljvCkWk",
        "colab_type": "code",
        "outputId": "9fdb1972-1269-4f4e-82f3-ae7bca100216",
        "colab": {
          "base_uri": "https://localhost:8080/",
          "height": 0
        }
      },
      "source": [
        "list(model.parameters())"
      ],
      "execution_count": 88,
      "outputs": [
        {
          "output_type": "execute_result",
          "data": {
            "text/plain": [
              "[Parameter containing:\n",
              " tensor([[-0.0075]], requires_grad=True), Parameter containing:\n",
              " tensor([0.5364], requires_grad=True)]"
            ]
          },
          "metadata": {
            "tags": []
          },
          "execution_count": 88
        }
      ]
    },
    {
      "cell_type": "code",
      "metadata": {
        "id": "f-fWpMEaClBD",
        "colab_type": "code",
        "outputId": "6b099d8d-fc2d-4804-fbe1-c060f1bd1768",
        "colab": {
          "base_uri": "https://localhost:8080/",
          "height": 0
        }
      },
      "source": [
        "x = torch.tensor([1.0])\n",
        "yhat = model(x)\n",
        "yhat"
      ],
      "execution_count": 89,
      "outputs": [
        {
          "output_type": "execute_result",
          "data": {
            "text/plain": [
              "tensor([0.5290], grad_fn=<AddBackward0>)"
            ]
          },
          "metadata": {
            "tags": []
          },
          "execution_count": 89
        }
      ]
    },
    {
      "cell_type": "code",
      "metadata": {
        "id": "XLOh9HWNClMz",
        "colab_type": "code",
        "outputId": "076b1831-d94f-4ffa-e0cb-07e97b71f750",
        "colab": {
          "base_uri": "https://localhost:8080/",
          "height": 0
        }
      },
      "source": [
        "x = torch.tensor([[1.0],[2.0]])\n",
        "yhat = model(x)\n",
        "yhat"
      ],
      "execution_count": 90,
      "outputs": [
        {
          "output_type": "execute_result",
          "data": {
            "text/plain": [
              "tensor([[0.5290],\n",
              "        [0.5215]], grad_fn=<AddmmBackward>)"
            ]
          },
          "metadata": {
            "tags": []
          },
          "execution_count": 90
        }
      ]
    },
    {
      "cell_type": "markdown",
      "metadata": {
        "id": "FpUn_eZN2SST",
        "colab_type": "text"
      },
      "source": [
        "### Build Custom Modules using nn.module"
      ]
    },
    {
      "cell_type": "code",
      "metadata": {
        "id": "g1wNjanLT3HX",
        "colab_type": "code",
        "colab": {}
      },
      "source": [
        "import torch.nn as nn"
      ],
      "execution_count": 0,
      "outputs": []
    },
    {
      "cell_type": "code",
      "metadata": {
        "id": "geCAq0uPT5jO",
        "colab_type": "code",
        "colab": {}
      },
      "source": [
        "class LR(nn.Module):\n",
        "    torch.manual_seed(1)\n",
        "    def __init__(self, input_size, output_size):\n",
        "        super(LR, self).__init__()\n",
        "        self.linear = nn.Linear(input_size, output_size)\n",
        "\n",
        "    def forward(self, x):\n",
        "        y = self.linear(x)\n",
        "        return(y)"
      ],
      "execution_count": 0,
      "outputs": []
    },
    {
      "cell_type": "code",
      "metadata": {
        "id": "Ic5tAPUYUge9",
        "colab_type": "code",
        "outputId": "4cf36d4d-21ea-40c1-c2db-4af741c5d365",
        "colab": {
          "base_uri": "https://localhost:8080/",
          "height": 0
        }
      },
      "source": [
        "model = LR(1,1)\n",
        "\n",
        "x = torch.tensor([1.0])\n",
        "\n",
        "yhat = model(x)\n",
        "print(yhat)"
      ],
      "execution_count": 93,
      "outputs": [
        {
          "output_type": "stream",
          "text": [
            "tensor([0.0739], grad_fn=<AddBackward0>)\n"
          ],
          "name": "stdout"
        }
      ]
    },
    {
      "cell_type": "code",
      "metadata": {
        "id": "1xzUBP6Ke-Hy",
        "colab_type": "code",
        "outputId": "66ab8467-8ac0-471a-afac-70a09c75a9a8",
        "colab": {
          "base_uri": "https://localhost:8080/",
          "height": 0
        }
      },
      "source": [
        "print(list(model.parameters()))\n",
        "print('---------------------------------------')\n",
        "print(model.linear)\n",
        "print('---------------------------------------')\n",
        "print(model.state_dict())\n",
        "print('---------------------------------------')\n",
        "print(model.state_dict().keys())\n",
        "print('---------------------------------------')\n",
        "print(model.state_dict().values())"
      ],
      "execution_count": 94,
      "outputs": [
        {
          "output_type": "stream",
          "text": [
            "[Parameter containing:\n",
            "tensor([[0.5153]], requires_grad=True), Parameter containing:\n",
            "tensor([-0.4414], requires_grad=True)]\n",
            "---------------------------------------\n",
            "Linear(in_features=1, out_features=1, bias=True)\n",
            "---------------------------------------\n",
            "OrderedDict([('linear.weight', tensor([[0.5153]])), ('linear.bias', tensor([-0.4414]))])\n",
            "---------------------------------------\n",
            "odict_keys(['linear.weight', 'linear.bias'])\n",
            "---------------------------------------\n",
            "odict_values([tensor([[0.5153]]), tensor([-0.4414])])\n"
          ],
          "name": "stdout"
        }
      ]
    },
    {
      "cell_type": "code",
      "metadata": {
        "id": "BhrApD5GoCYA",
        "colab_type": "code",
        "outputId": "b4419455-a288-46cf-d640-1a6171183035",
        "colab": {
          "base_uri": "https://localhost:8080/",
          "height": 0
        }
      },
      "source": [
        "x = torch.arange(-5,5,1)\n",
        "print(x)\n",
        "print(x.view(-1,1))"
      ],
      "execution_count": 95,
      "outputs": [
        {
          "output_type": "stream",
          "text": [
            "tensor([-5, -4, -3, -2, -1,  0,  1,  2,  3,  4])\n",
            "tensor([[-5],\n",
            "        [-4],\n",
            "        [-3],\n",
            "        [-2],\n",
            "        [-1],\n",
            "        [ 0],\n",
            "        [ 1],\n",
            "        [ 2],\n",
            "        [ 3],\n",
            "        [ 4]])\n"
          ],
          "name": "stdout"
        }
      ]
    },
    {
      "cell_type": "code",
      "metadata": {
        "id": "LFPQv9GIp_Ye",
        "colab_type": "code",
        "outputId": "00a50a5b-817d-4e66-d2e7-6e6cbdeb4b48",
        "colab": {
          "base_uri": "https://localhost:8080/",
          "height": 0
        }
      },
      "source": [
        "print(x.size())\n",
        "noise = torch.randn(x.size())\n",
        "print(noise)"
      ],
      "execution_count": 96,
      "outputs": [
        {
          "output_type": "stream",
          "text": [
            "torch.Size([10])\n",
            "tensor([ 0.1163,  0.7213,  0.5636,  1.1431,  0.8590,  0.7056, -0.3406, -1.2720,\n",
            "        -1.1948,  0.0250])\n"
          ],
          "name": "stdout"
        }
      ]
    },
    {
      "cell_type": "code",
      "metadata": {
        "id": "rJ7ujPTbqHr9",
        "colab_type": "code",
        "outputId": "af610ee3-dcc5-446d-c201-3d01cb19186c",
        "colab": {
          "base_uri": "https://localhost:8080/",
          "height": 0
        }
      },
      "source": [
        "x + noise"
      ],
      "execution_count": 97,
      "outputs": [
        {
          "output_type": "execute_result",
          "data": {
            "text/plain": [
              "tensor([-4.8837, -3.2787, -2.4364, -0.8569, -0.1410,  0.7056,  0.6594,  0.7280,\n",
              "         1.8052,  4.0250])"
            ]
          },
          "metadata": {
            "tags": []
          },
          "execution_count": 97
        }
      ]
    },
    {
      "cell_type": "markdown",
      "metadata": {
        "id": "-BQ2fUm0OEsk",
        "colab_type": "text"
      },
      "source": [
        "## Optimizer"
      ]
    },
    {
      "cell_type": "code",
      "metadata": {
        "id": "fZ1vrgqhOHk4",
        "colab_type": "code",
        "colab": {}
      },
      "source": [
        "from torch.utils.data import Dataset, DataLoader\n",
        "import torch.nn as nn\n",
        "from torch import nn, optim"
      ],
      "execution_count": 0,
      "outputs": []
    },
    {
      "cell_type": "code",
      "metadata": {
        "id": "CrCZYzyUOQpa",
        "colab_type": "code",
        "colab": {}
      },
      "source": [
        "class Data(Dataset):\n",
        "    def __init__(self):\n",
        "        self.x = torch.arange(-3, 3, 0.1).view(-1, 1)\n",
        "        self.f = 1 * self.x - 1\n",
        "        self.y = self.f + 0.1 * torch.randn(self.x.size())\n",
        "        self.len = self.x.shape[0]\n",
        "\n",
        "    def __getitem__(self, index):\n",
        "        return(self.x[index], self.y[index])\n",
        "    \n",
        "    def __len__(self):\n",
        "        return(self.len)"
      ],
      "execution_count": 0,
      "outputs": []
    },
    {
      "cell_type": "code",
      "metadata": {
        "id": "xCjk00QYPgNo",
        "colab_type": "code",
        "colab": {}
      },
      "source": [
        "class LR(nn.Module):\n",
        "    def __init__(self, input_size, output_size):\n",
        "        super(LR,self).__init__()\n",
        "        self.linear = nn.Linear(input_size, output_size)\n",
        "\n",
        "    def __call__(self,x):\n",
        "        out = self.linear(x)\n",
        "        return(out)"
      ],
      "execution_count": 0,
      "outputs": []
    },
    {
      "cell_type": "code",
      "metadata": {
        "id": "OTgIUyPfRhwZ",
        "colab_type": "code",
        "colab": {}
      },
      "source": [
        "df = Data()\n",
        "criterion = nn.MSELoss()\n",
        "trainloader = DataLoader(df, batch_size = 1)\n",
        "model = LR(1,1)\n",
        "optimizer = optim.SGD(model.parameters(), lr = 0.01)"
      ],
      "execution_count": 0,
      "outputs": []
    },
    {
      "cell_type": "code",
      "metadata": {
        "id": "LFq1yqn9P_In",
        "colab_type": "code",
        "colab": {}
      },
      "source": [
        "for ipoch in range(100):\n",
        "    for x,y in trainloader:\n",
        "        yhat = model(x)\n",
        "        loss = criterion(yhat,y)\n",
        "        optimizer.zero_grad()\n",
        "        loss.backward()\n",
        "        optimizer.step()"
      ],
      "execution_count": 0,
      "outputs": []
    },
    {
      "cell_type": "markdown",
      "metadata": {
        "id": "Y-YMbpN_ShyV",
        "colab_type": "text"
      },
      "source": [
        "## Train Test Valid"
      ]
    },
    {
      "cell_type": "code",
      "metadata": {
        "id": "cLlwVCLr4AJt",
        "colab_type": "code",
        "colab": {}
      },
      "source": [
        "# Import libraries we need for this lab, and set the random seed\n",
        "\n",
        "from torch import nn\n",
        "import torch\n",
        "import numpy as np\n",
        "import matplotlib.pyplot as plt\n",
        "from torch import nn,optim"
      ],
      "execution_count": 0,
      "outputs": []
    },
    {
      "cell_type": "code",
      "metadata": {
        "id": "KpUAPXxh4DBu",
        "colab_type": "code",
        "colab": {}
      },
      "source": [
        "# Create Data class\n",
        "\n",
        "from torch.utils.data import Dataset, DataLoader\n",
        "\n",
        "class Data(Dataset):\n",
        "    \n",
        "    # Constructor\n",
        "    def __init__(self, train = True):\n",
        "            self.x = torch.arange(-3, 3, 0.1).view(-1, 1)\n",
        "            self.f = -3 * self.x + 1\n",
        "            self.y = self.f + 0.1 * torch.randn(self.x.size())\n",
        "            self.len = self.x.shape[0]\n",
        "            \n",
        "            #outliers \n",
        "            if train == True:\n",
        "                self.y[0] = 0\n",
        "                self.y[50:55] = 20\n",
        "            else:\n",
        "                pass\n",
        "      \n",
        "    # Getter\n",
        "    def __getitem__(self, index):    \n",
        "        return self.x[index], self.y[index]\n",
        "    \n",
        "    # Get Length\n",
        "    def __len__(self):\n",
        "        return self.len"
      ],
      "execution_count": 0,
      "outputs": []
    },
    {
      "cell_type": "code",
      "metadata": {
        "id": "owZjd8lS4HLh",
        "colab_type": "code",
        "colab": {}
      },
      "source": [
        "# Create training dataset and validation dataset\n",
        "\n",
        "train_data = Data()\n",
        "val_data = Data(train = False)"
      ],
      "execution_count": 0,
      "outputs": []
    },
    {
      "cell_type": "code",
      "metadata": {
        "id": "ec7tIDiz4X5P",
        "colab_type": "code",
        "outputId": "71d66f64-11cc-44bb-f4d0-3cd6e33abe4e",
        "colab": {
          "base_uri": "https://localhost:8080/",
          "height": 278
        }
      },
      "source": [
        "# Plot out training points\n",
        "\n",
        "plt.plot(train_data.x.numpy(), train_data.y.numpy(), 'xr',label=\"training data \")\n",
        "plt.plot(train_data.x.numpy(), train_data.f.numpy(),label=\"true function  \")\n",
        "plt.xlabel('x')\n",
        "plt.ylabel('y')\n",
        "plt.legend()\n",
        "plt.show()"
      ],
      "execution_count": 106,
      "outputs": [
        {
          "output_type": "display_data",
          "data": {
            "image/png": "[encoded data removed]",
            "text/plain": [
              "<Figure size 432x288 with 1 Axes>"
            ]
          },
          "metadata": {
            "tags": []
          }
        }
      ]
    },
    {
      "cell_type": "code",
      "metadata": {
        "id": "X63apFEM4ZvO",
        "colab_type": "code",
        "colab": {}
      },
      "source": [
        "# Create Linear Regression Class\n",
        "\n",
        "from torch import nn\n",
        "\n",
        "class linear_regression(nn.Module):\n",
        "    \n",
        "    # Constructor\n",
        "    def __init__(self, input_size, output_size):\n",
        "        super(linear_regression, self).__init__()\n",
        "        self.linear = nn.Linear(input_size, output_size)\n",
        "    \n",
        "    # Prediction function\n",
        "    def forward(self, x):\n",
        "        yhat = self.linear(x)\n",
        "        return yhat"
      ],
      "execution_count": 0,
      "outputs": []
    },
    {
      "cell_type": "code",
      "metadata": {
        "id": "In5tkUeL4cEM",
        "colab_type": "code",
        "colab": {}
      },
      "source": [
        "# Create MSELoss function and DataLoader\n",
        "\n",
        "criterion = nn.MSELoss()\n",
        "trainloader = DataLoader(dataset = train_data, batch_size = 1)"
      ],
      "execution_count": 0,
      "outputs": []
    },
    {
      "cell_type": "code",
      "metadata": {
        "id": "8FAWTtWQ4ePu",
        "colab_type": "code",
        "colab": {}
      },
      "source": [
        "# Create Learning Rate list, the error lists and the MODELS list\n",
        "\n",
        "learning_rates=[0.0001, 0.001, 0.01, 0.1]\n",
        "\n",
        "train_error=torch.zeros(len(learning_rates))\n",
        "validation_error=torch.zeros(len(learning_rates))\n",
        "\n",
        "MODELS=[]"
      ],
      "execution_count": 0,
      "outputs": []
    },
    {
      "cell_type": "code",
      "metadata": {
        "id": "L4RHO8k_4qBs",
        "colab_type": "code",
        "colab": {}
      },
      "source": [
        "# Define the train model function and train the model\n",
        "\n",
        "def train_model_with_lr (iter, lr_list):\n",
        "    \n",
        "    # iterate through different learning rates \n",
        "    for i, lr in enumerate(lr_list):\n",
        "        model = linear_regression(1, 1)\n",
        "        optimizer = optim.SGD(model.parameters(), lr = lr)\n",
        "        for epoch in range(iter):\n",
        "            for x, y in trainloader:\n",
        "                yhat = model(x)\n",
        "                loss = criterion(yhat, y)\n",
        "                optimizer.zero_grad()\n",
        "                loss.backward()\n",
        "                optimizer.step()\n",
        "                \n",
        "        # train data\n",
        "        Yhat = model(train_data.x)\n",
        "        train_loss = criterion(Yhat, train_data.y)\n",
        "        train_error[i] = train_loss.item()\n",
        "    \n",
        "        # validation data\n",
        "        Yhat = model(val_data.x)\n",
        "        val_loss = criterion(Yhat, val_data.y)\n",
        "        validation_error[i] = val_loss.item()\n",
        "        MODELS.append(model)\n",
        "\n",
        "train_model_with_lr(10, learning_rates)"
      ],
      "execution_count": 0,
      "outputs": []
    },
    {
      "cell_type": "code",
      "metadata": {
        "id": "9goPNwVNBwVk",
        "colab_type": "code",
        "outputId": "7261af09-b2a8-4dda-a998-7df8d426f79f",
        "colab": {
          "base_uri": "https://localhost:8080/",
          "height": 282
        }
      },
      "source": [
        "# Plot the training loss and validation loss\n",
        "\n",
        "plt.semilogx(np.array(learning_rates), train_error.numpy(), label = 'training loss/total Loss')\n",
        "plt.semilogx(np.array(learning_rates), validation_error.numpy(), label = 'validation cost/total Loss')\n",
        "plt.ylabel('Cost\\ Total Loss')\n",
        "plt.xlabel('learning rate')\n",
        "plt.legend()\n",
        "plt.show()"
      ],
      "execution_count": 111,
      "outputs": [
        {
          "output_type": "display_data",
          "data": {
            "image/png": "[encoded data removed]",
            "text/plain": [
              "<Figure size 432x288 with 1 Axes>"
            ]
          },
          "metadata": {
            "tags": []
          }
        }
      ]
    },
    {
      "cell_type": "code",
      "metadata": {
        "id": "pfJC2A0yB2Mj",
        "colab_type": "code",
        "outputId": "c4b23952-1659-4465-adf5-60bdf044b563",
        "colab": {
          "base_uri": "https://localhost:8080/",
          "height": 486
        }
      },
      "source": [
        "# Plot the predictions\n",
        "\n",
        "i = 0\n",
        "for model, learning_rate in zip(MODELS, learning_rates):\n",
        "    yhat = model(val_data.x)\n",
        "    plt.plot(val_data.x.numpy(), yhat.detach().numpy(), label = 'lr:' + str(learning_rate))\n",
        "    print('i', yhat.detach().numpy()[0:3])\n",
        "plt.plot(val_data.x.numpy(), val_data.f.numpy(), 'or', label = 'validation data')\n",
        "plt.xlabel('x')\n",
        "plt.ylabel('y')\n",
        "plt.legend()\n",
        "plt.show()"
      ],
      "execution_count": 112,
      "outputs": [
        {
          "output_type": "stream",
          "text": [
            "i [[-0.6477215 ]\n",
            " [-0.61729264]\n",
            " [-0.58686364]]\n",
            "i [[5.8596334]\n",
            " [5.7447557]\n",
            " [5.629878 ]]\n",
            "i [[6.6195974]\n",
            " [6.4847603]\n",
            " [6.3499227]]\n",
            "i [[14.338146]\n",
            " [13.908081]\n",
            " [13.478016]]\n"
          ],
          "name": "stdout"
        },
        {
          "output_type": "display_data",
          "data": {
            "image/png": "[encoded data removed]",
            "text/plain": [
              "<Figure size 432x288 with 1 Axes>"
            ]
          },
          "metadata": {
            "tags": []
          }
        }
      ]
    },
    {
      "cell_type": "code",
      "metadata": {
        "id": "5lT0b4x25EEg",
        "colab_type": "code",
        "outputId": "b6fa7b87-e56d-46b8-e161-e639385e9473",
        "colab": {
          "base_uri": "https://localhost:8080/",
          "height": 364
        }
      },
      "source": [
        "x = torch.zeros(20,2)\n",
        "x"
      ],
      "execution_count": 113,
      "outputs": [
        {
          "output_type": "execute_result",
          "data": {
            "text/plain": [
              "tensor([[0., 0.],\n",
              "        [0., 0.],\n",
              "        [0., 0.],\n",
              "        [0., 0.],\n",
              "        [0., 0.],\n",
              "        [0., 0.],\n",
              "        [0., 0.],\n",
              "        [0., 0.],\n",
              "        [0., 0.],\n",
              "        [0., 0.],\n",
              "        [0., 0.],\n",
              "        [0., 0.],\n",
              "        [0., 0.],\n",
              "        [0., 0.],\n",
              "        [0., 0.],\n",
              "        [0., 0.],\n",
              "        [0., 0.],\n",
              "        [0., 0.],\n",
              "        [0., 0.],\n",
              "        [0., 0.]])"
            ]
          },
          "metadata": {
            "tags": []
          },
          "execution_count": 113
        }
      ]
    },
    {
      "cell_type": "code",
      "metadata": {
        "id": "H8qrTpVb5LCG",
        "colab_type": "code",
        "outputId": "fcd13d6a-a3c0-45df-cfd7-c75282f9694f",
        "colab": {
          "base_uri": "https://localhost:8080/",
          "height": 86
        }
      },
      "source": [
        "x[:,0] = torch.arange(-1,1,0.1)\n",
        "\n",
        "print(x[:,0])\n",
        "print(x[:,1])"
      ],
      "execution_count": 114,
      "outputs": [
        {
          "output_type": "stream",
          "text": [
            "tensor([-1.0000, -0.9000, -0.8000, -0.7000, -0.6000, -0.5000, -0.4000, -0.3000,\n",
            "        -0.2000, -0.1000,  0.0000,  0.1000,  0.2000,  0.3000,  0.4000,  0.5000,\n",
            "         0.6000,  0.7000,  0.8000,  0.9000])\n",
            "tensor([0., 0., 0., 0., 0., 0., 0., 0., 0., 0., 0., 0., 0., 0., 0., 0., 0., 0., 0., 0.])\n"
          ],
          "name": "stdout"
        }
      ]
    },
    {
      "cell_type": "code",
      "metadata": {
        "id": "5BIXfeIW5kcm",
        "colab_type": "code",
        "outputId": "34edeb71-6b90-43dc-feed-d71c7df8315e",
        "colab": {
          "base_uri": "https://localhost:8080/",
          "height": 34
        }
      },
      "source": [
        "x[2,:]"
      ],
      "execution_count": 115,
      "outputs": [
        {
          "output_type": "execute_result",
          "data": {
            "text/plain": [
              "tensor([-0.8000,  0.0000])"
            ]
          },
          "metadata": {
            "tags": []
          },
          "execution_count": 115
        }
      ]
    },
    {
      "cell_type": "code",
      "metadata": {
        "id": "36zFLLQ2ZNAJ",
        "colab_type": "code",
        "outputId": "efb5f1e5-c6c0-439e-f3b1-8c9bceb167c7",
        "colab": {
          "base_uri": "https://localhost:8080/",
          "height": 69
        }
      },
      "source": [
        "temp = torch.ones(3,3)\n",
        "temp"
      ],
      "execution_count": 116,
      "outputs": [
        {
          "output_type": "execute_result",
          "data": {
            "text/plain": [
              "tensor([[1., 1., 1.],\n",
              "        [1., 1., 1.],\n",
              "        [1., 1., 1.]])"
            ]
          },
          "metadata": {
            "tags": []
          },
          "execution_count": 116
        }
      ]
    },
    {
      "cell_type": "code",
      "metadata": {
        "id": "Bx0-8r0AZX9I",
        "colab_type": "code",
        "outputId": "31e096c6-faed-48c5-8630-c573c5ed0c65",
        "colab": {
          "base_uri": "https://localhost:8080/",
          "height": 69
        }
      },
      "source": [
        "temp[0,:] = torch.arange(-1,2,1)\n",
        "temp[1,:] = torch.arange(1,4,1)\n",
        "temp[2,:] = torch.arange(-1,-4,-1)\n",
        "temp"
      ],
      "execution_count": 117,
      "outputs": [
        {
          "output_type": "execute_result",
          "data": {
            "text/plain": [
              "tensor([[-1.,  0.,  1.],\n",
              "        [ 1.,  2.,  3.],\n",
              "        [-1., -2., -3.]])"
            ]
          },
          "metadata": {
            "tags": []
          },
          "execution_count": 117
        }
      ]
    },
    {
      "cell_type": "code",
      "metadata": {
        "id": "OWTSFkJ6Z3ZS",
        "colab_type": "code",
        "outputId": "3a3316b2-51ba-4b64-bdf3-00b918e171cf",
        "colab": {
          "base_uri": "https://localhost:8080/",
          "height": 52
        }
      },
      "source": [
        "val1, val2 = torch.max(temp,1)\n",
        "print(val1)\n",
        "print(val2)"
      ],
      "execution_count": 118,
      "outputs": [
        {
          "output_type": "stream",
          "text": [
            "tensor([ 1.,  3., -1.])\n",
            "tensor([2, 2, 0])\n"
          ],
          "name": "stdout"
        }
      ]
    },
    {
      "cell_type": "code",
      "metadata": {
        "id": "orVuylylcCAn",
        "colab_type": "code",
        "outputId": "c1c7e05a-6674-4cec-a017-dc7a2535d0a2",
        "colab": {
          "base_uri": "https://localhost:8080/",
          "height": 86
        }
      },
      "source": [
        "arr1 = torch.tensor([1,2,3,4,5])\n",
        "arr2 = torch.tensor([1,2,3,3,5])\n",
        "\n",
        "correct = 0\n",
        "correct = correct + (arr1 == arr2).sum().item()\n",
        "print(arr1 == arr2)\n",
        "print((arr1 == arr2).sum())\n",
        "print((arr1 == arr2).sum().item())\n",
        "print(f'Correct value is {correct}')"
      ],
      "execution_count": 119,
      "outputs": [
        {
          "output_type": "stream",
          "text": [
            "tensor([ True,  True,  True, False,  True])\n",
            "tensor(4)\n",
            "4\n",
            "Correct value is 4\n"
          ],
          "name": "stdout"
        }
      ]
    },
    {
      "cell_type": "code",
      "metadata": {
        "id": "3JmF-oGTcmfE",
        "colab_type": "code",
        "colab": {}
      },
      "source": [
        ""
      ],
      "execution_count": 0,
      "outputs": []
    },
    {
      "cell_type": "markdown",
      "metadata": {
        "id": "nVLhyQ68UI8a",
        "colab_type": "text"
      },
      "source": [
        "# Mnist Prediction"
      ]
    },
    {
      "cell_type": "code",
      "metadata": {
        "id": "JhM-clfUUMdK",
        "colab_type": "code",
        "colab": {}
      },
      "source": [
        "import numpy as np\n",
        "import torch\n",
        "import torch.nn as nn\n",
        "import torchvision.transforms as transforms\n",
        "import torchvision.datasets as dsets\n",
        "import torch.optim as optim\n",
        "import matplotlib.pyplot as plt\n",
        "from torch.utils.data import DataLoader"
      ],
      "execution_count": 0,
      "outputs": []
    },
    {
      "cell_type": "code",
      "metadata": {
        "id": "uSYkpVqkdrcF",
        "colab_type": "code",
        "colab": {}
      },
      "source": [
        "# The function to plot parameters\n",
        "\n",
        "def PlotParameters(model): \n",
        "    W = model.state_dict()['linear.weight'].data\n",
        "    w_min = W.min().item()\n",
        "    w_max = W.max().item()\n",
        "    fig, axes = plt.subplots(2, 5)\n",
        "    fig.subplots_adjust(hspace=0.01, wspace=0.1)\n",
        "    for i, ax in enumerate(axes.flat):\n",
        "        if i < 10:\n",
        "            \n",
        "            # Set the label for the sub-plot.\n",
        "            ax.set_xlabel(\"class: {0}\".format(i))\n",
        "\n",
        "            # Plot the image.\n",
        "            ax.imshow(W[i, :].view(28, 28), vmin=w_min, vmax=w_max, cmap='seismic')\n",
        "\n",
        "            ax.set_xticks([])\n",
        "            ax.set_yticks([])\n",
        "\n",
        "        # Ensure the plot is shown correctly with multiple plots\n",
        "        # in a single Notebook cell.\n",
        "    plt.show()"
      ],
      "execution_count": 0,
      "outputs": []
    },
    {
      "cell_type": "markdown",
      "metadata": {
        "id": "8WQYxcOXXi9Q",
        "colab_type": "text"
      },
      "source": [
        "## Data"
      ]
    },
    {
      "cell_type": "code",
      "metadata": {
        "id": "SPatVeDJUuy4",
        "colab_type": "code",
        "outputId": "82d71e28-cd5b-42e5-a8e6-7f9b85620e32",
        "colab": {
          "base_uri": "https://localhost:8080/",
          "height": 225
        }
      },
      "source": [
        "train_dataset = dsets.MNIST(root='./data', train=True, download=True, transform=transforms.ToTensor())\n",
        "validation_dataset = dsets.MNIST(root='./data', train=False, transform=transforms.ToTensor(), download=True)\n",
        "print(train_dataset)\n",
        "print(validation_dataset)"
      ],
      "execution_count": 122,
      "outputs": [
        {
          "output_type": "stream",
          "text": [
            "Dataset MNIST\n",
            "    Number of datapoints: 60000\n",
            "    Root location: ./data\n",
            "    Split: Train\n",
            "    StandardTransform\n",
            "Transform: ToTensor()\n",
            "Dataset MNIST\n",
            "    Number of datapoints: 10000\n",
            "    Root location: ./data\n",
            "    Split: Test\n",
            "    StandardTransform\n",
            "Transform: ToTensor()\n"
          ],
          "name": "stdout"
        }
      ]
    },
    {
      "cell_type": "markdown",
      "metadata": {
        "id": "KmDwUfmXWJ02",
        "colab_type": "text"
      },
      "source": [
        "## Classifier"
      ]
    },
    {
      "cell_type": "code",
      "metadata": {
        "id": "bMYalLdxXVUr",
        "colab_type": "code",
        "colab": {}
      },
      "source": [
        "class Softmax(nn.Module):\n",
        "    def __init__(self, input_size, output_size):\n",
        "        super(Softmax,self).__init__()\n",
        "        self.linear = nn.Linear(input_size, output_size)\n",
        "\n",
        "    def forward(self, x):\n",
        "        z = self.linear(x)\n",
        "        return(z)"
      ],
      "execution_count": 0,
      "outputs": []
    },
    {
      "cell_type": "code",
      "metadata": {
        "id": "WFiPJmauYx5i",
        "colab_type": "code",
        "colab": {}
      },
      "source": [
        "input_dim = 28*28\n",
        "output_dim = 10"
      ],
      "execution_count": 0,
      "outputs": []
    },
    {
      "cell_type": "code",
      "metadata": {
        "id": "7JWAKkqnY9UF",
        "colab_type": "code",
        "outputId": "1de630c9-ff68-4161-a503-f03e2e4b4b1c",
        "colab": {
          "base_uri": "https://localhost:8080/",
          "height": 121
        }
      },
      "source": [
        "model = Softmax(input_size=input_dim, output_size=output_dim)\n",
        "print(model)\n",
        "print(model.parameters)"
      ],
      "execution_count": 125,
      "outputs": [
        {
          "output_type": "stream",
          "text": [
            "Softmax(\n",
            "  (linear): Linear(in_features=784, out_features=10, bias=True)\n",
            ")\n",
            "<bound method Module.parameters of Softmax(\n",
            "  (linear): Linear(in_features=784, out_features=10, bias=True)\n",
            ")>\n"
          ],
          "name": "stdout"
        }
      ]
    },
    {
      "cell_type": "code",
      "metadata": {
        "id": "W7N7Yt8Fdu1j",
        "colab_type": "code",
        "outputId": "dc9be8c4-092a-4dae-e328-6c174c625d2d",
        "colab": {
          "base_uri": "https://localhost:8080/",
          "height": 216
        }
      },
      "source": [
        "PlotParameters(model)"
      ],
      "execution_count": 126,
      "outputs": [
        {
          "output_type": "display_data",
          "data": {
            "image/png": "[encoded data removed]",
            "text/plain": [
              "<Figure size 432x288 with 10 Axes>"
            ]
          },
          "metadata": {
            "tags": []
          }
        }
      ]
    },
    {
      "cell_type": "markdown",
      "metadata": {
        "id": "uAoics4tYNBz",
        "colab_type": "text"
      },
      "source": [
        "## Parameters"
      ]
    },
    {
      "cell_type": "code",
      "metadata": {
        "id": "gkvbsT_AYeCk",
        "colab_type": "code",
        "colab": {}
      },
      "source": [
        "learning_rate = 0.1\n",
        "\n",
        "optimizer = optim.SGD(model.parameters(), lr= learning_rate)\n",
        "criterion = nn.CrossEntropyLoss()\n",
        "\n",
        "train_loader = DataLoader(dataset=train_dataset, batch_size=100)\n",
        "validation_loader = DataLoader(dataset=validation_dataset, batch_size=5000)"
      ],
      "execution_count": 0,
      "outputs": []
    },
    {
      "cell_type": "markdown",
      "metadata": {
        "id": "4esCFoOpaJ6n",
        "colab_type": "text"
      },
      "source": [
        "## Model Training"
      ]
    },
    {
      "cell_type": "code",
      "metadata": {
        "id": "VKIzwuugaOuD",
        "colab_type": "code",
        "colab": {}
      },
      "source": [
        "n_epochs = 10\n",
        "loss_list = []\n",
        "accuracy_list = []  \n",
        "n_test = len(validation_dataset)"
      ],
      "execution_count": 0,
      "outputs": []
    },
    {
      "cell_type": "code",
      "metadata": {
        "id": "YPERn7traa0g",
        "colab_type": "code",
        "colab": {}
      },
      "source": [
        "def train_model(epochs):\n",
        "    for epoch in range(epochs):\n",
        "        for x,y in train_loader:\n",
        "            optimizer.zero_grad()\n",
        "            z = model(x.view(-1,28*28))\n",
        "            loss = criterion(z,y)\n",
        "            loss.backward()\n",
        "            optimizer.step()\n",
        "        \n",
        "        correct = 0\n",
        "        for x_test, y_test in validation_loader:\n",
        "            z = model(x_test.view(-1,28*28))\n",
        "            _,yhat = torch.max(z.data,1)\n",
        "            correct += (yhat == y_test).sum().item()\n",
        "        \n",
        "        accuracy = correct/n_test        \n",
        "        accuracy_list.append(accuracy)\n",
        "        loss_list.append(loss.data)"
      ],
      "execution_count": 0,
      "outputs": []
    },
    {
      "cell_type": "code",
      "metadata": {
        "id": "V1pp9Jircss1",
        "colab_type": "code",
        "colab": {}
      },
      "source": [
        "train_model(n_epochs)"
      ],
      "execution_count": 0,
      "outputs": []
    },
    {
      "cell_type": "markdown",
      "metadata": {
        "id": "uoXDFnj0lDN-",
        "colab_type": "text"
      },
      "source": [
        "## Results"
      ]
    },
    {
      "cell_type": "code",
      "metadata": {
        "id": "Rf8SBX3_dJXO",
        "colab_type": "code",
        "outputId": "21389828-8562-4058-f0be-b77545b856c1",
        "colab": {
          "base_uri": "https://localhost:8080/",
          "height": 216
        }
      },
      "source": [
        "PlotParameters(model)"
      ],
      "execution_count": 131,
      "outputs": [
        {
          "output_type": "display_data",
          "data": {
            "image/png": "[encoded data removed]",
            "text/plain": [
              "<Figure size 432x288 with 10 Axes>"
            ]
          },
          "metadata": {
            "tags": []
          }
        }
      ]
    },
    {
      "cell_type": "code",
      "metadata": {
        "id": "P4FGH_xjeA7d",
        "colab_type": "code",
        "outputId": "5a03aa22-2503-4b33-8ddf-44d1827428c5",
        "colab": {
          "base_uri": "https://localhost:8080/",
          "height": 297
        }
      },
      "source": [
        "# Plot the loss and accuracy\n",
        "\n",
        "fig, ax1 = plt.subplots()\n",
        "color = 'tab:red'\n",
        "ax1.plot(loss_list,color=color)\n",
        "ax1.set_xlabel('epoch',color=color)\n",
        "ax1.set_ylabel('total loss',color=color)\n",
        "ax1.tick_params(axis='y', color=color)\n",
        "    \n",
        "ax2 = ax1.twinx()  \n",
        "color = 'tab:blue'\n",
        "ax2.set_ylabel('accuracy', color=color)  \n",
        "ax2.plot( accuracy_list, color=color)\n",
        "ax2.tick_params(axis='y', color=color)\n",
        "fig.tight_layout()"
      ],
      "execution_count": 132,
      "outputs": [
        {
          "output_type": "display_data",
          "data": {
            "image/png": "[encoded data removed]",
            "text/plain": [
              "<Figure size 432x288 with 2 Axes>"
            ]
          },
          "metadata": {
            "tags": []
          }
        }
      ]
    },
    {
      "cell_type": "code",
      "metadata": {
        "id": "CNdxgZ_OgxNS",
        "colab_type": "code",
        "outputId": "02d20f02-2d8c-4f38-c634-6de175677dc5",
        "colab": {
          "base_uri": "https://localhost:8080/",
          "height": 190
        }
      },
      "source": [
        "loss_list"
      ],
      "execution_count": 133,
      "outputs": [
        {
          "output_type": "execute_result",
          "data": {
            "text/plain": [
              "[tensor(0.4125),\n",
              " tensor(0.3642),\n",
              " tensor(0.3443),\n",
              " tensor(0.3326),\n",
              " tensor(0.3245),\n",
              " tensor(0.3182),\n",
              " tensor(0.3131),\n",
              " tensor(0.3088),\n",
              " tensor(0.3050),\n",
              " tensor(0.3017)]"
            ]
          },
          "metadata": {
            "tags": []
          },
          "execution_count": 133
        }
      ]
    },
    {
      "cell_type": "code",
      "metadata": {
        "id": "V1RaR2pKguOB",
        "colab_type": "code",
        "outputId": "a37d691d-ebea-406a-f590-a230d90e44ee",
        "colab": {
          "base_uri": "https://localhost:8080/",
          "height": 34
        }
      },
      "source": [
        "accuracy_list"
      ],
      "execution_count": 134,
      "outputs": [
        {
          "output_type": "execute_result",
          "data": {
            "text/plain": [
              "[0.9015, 0.9094, 0.9142, 0.9159, 0.9168, 0.918, 0.9188, 0.9195, 0.9205, 0.9205]"
            ]
          },
          "metadata": {
            "tags": []
          },
          "execution_count": 134
        }
      ]
    },
    {
      "cell_type": "markdown",
      "metadata": {
        "id": "N8iagmVy2jz5",
        "colab_type": "text"
      },
      "source": [
        "## Testing"
      ]
    },
    {
      "cell_type": "code",
      "metadata": {
        "id": "JJWf-wxR2mCB",
        "colab_type": "code",
        "colab": {
          "base_uri": "https://localhost:8080/",
          "height": 69
        },
        "outputId": "2e723e2b-e4c1-46b7-8063-b4739b744dcf"
      },
      "source": [
        "i = 0\n",
        "for test_x, test_y in validation_loader:    \n",
        "    print(test_x.shape)\n",
        "    print('-------------------')\n",
        "    print(\"test_y -- \",test_y)   \n",
        "    i = i + 1\n",
        "    if i > 0:\n",
        "        break"
      ],
      "execution_count": 156,
      "outputs": [
        {
          "output_type": "stream",
          "text": [
            "torch.Size([5000, 1, 28, 28])\n",
            "-------------------\n",
            "test_y --  tensor([7, 2, 1,  ..., 2, 4, 0])\n"
          ],
          "name": "stdout"
        }
      ]
    },
    {
      "cell_type": "code",
      "metadata": {
        "id": "yAxIxVd65gbj",
        "colab_type": "code",
        "colab": {
          "base_uri": "https://localhost:8080/",
          "height": 69
        },
        "outputId": "60c5e769-bbbe-4d89-f9f2-516f12102c87"
      },
      "source": [
        "print(test_x.shape)\n",
        "print(test_x[1].shape)\n",
        "print(test_x.view(-1,28*28).shape)"
      ],
      "execution_count": 183,
      "outputs": [
        {
          "output_type": "stream",
          "text": [
            "torch.Size([5000, 1, 28, 28])\n",
            "torch.Size([1, 28, 28])\n",
            "torch.Size([5000, 784])\n"
          ],
          "name": "stdout"
        }
      ]
    },
    {
      "cell_type": "code",
      "metadata": {
        "id": "6xYYJwVA93md",
        "colab_type": "code",
        "colab": {
          "base_uri": "https://localhost:8080/",
          "height": 34
        },
        "outputId": "4b569fd2-cecc-4475-fbed-f908443f68b6"
      },
      "source": [
        "one_sample = test_x[1]\n",
        "print(one_sample.shape)"
      ],
      "execution_count": 193,
      "outputs": [
        {
          "output_type": "stream",
          "text": [
            "torch.Size([1, 28, 28])\n"
          ],
          "name": "stdout"
        }
      ]
    },
    {
      "cell_type": "code",
      "metadata": {
        "id": "zeRuRkSF-clN",
        "colab_type": "code",
        "colab": {
          "base_uri": "https://localhost:8080/",
          "height": 282
        },
        "outputId": "1bc9dc30-efb7-4040-e036-7d5176e84920"
      },
      "source": [
        "plt.imshow(one_sample.numpy().reshape(28, 28), cmap = 'gray')"
      ],
      "execution_count": 194,
      "outputs": [
        {
          "output_type": "execute_result",
          "data": {
            "text/plain": [
              "<matplotlib.image.AxesImage at 0x7fa62c938ac8>"
            ]
          },
          "metadata": {
            "tags": []
          },
          "execution_count": 194
        },
        {
          "output_type": "display_data",
          "data": {
            "image/png": "[encoded data removed]",
            "text/plain": [
              "<Figure size 432x288 with 1 Axes>"
            ]
          },
          "metadata": {
            "tags": []
          }
        }
      ]
    },
    {
      "cell_type": "code",
      "metadata": {
        "id": "2FCwqtS755n1",
        "colab_type": "code",
        "colab": {
          "base_uri": "https://localhost:8080/",
          "height": 86
        },
        "outputId": "0660935b-e6ff-441f-86e0-f3982f0ac79e"
      },
      "source": [
        "z_new = model(one_sample.view(-1,28*28))\n",
        "print(z_new)\n",
        "print(z_new.data)"
      ],
      "execution_count": 195,
      "outputs": [
        {
          "output_type": "stream",
          "text": [
            "tensor([[  4.3724,  -0.8697,   9.7056,   4.7256, -11.2029,   5.5818,   6.0988,\n",
            "         -14.1195,   3.8203,  -8.3072]], grad_fn=<AddmmBackward>)\n",
            "tensor([[  4.3724,  -0.8697,   9.7056,   4.7256, -11.2029,   5.5818,   6.0988,\n",
            "         -14.1195,   3.8203,  -8.3072]])\n"
          ],
          "name": "stdout"
        }
      ]
    },
    {
      "cell_type": "code",
      "metadata": {
        "id": "Om-8ecRB58l1",
        "colab_type": "code",
        "colab": {
          "base_uri": "https://localhost:8080/",
          "height": 34
        },
        "outputId": "f4b7a2c5-b0a9-4f38-d794-5f73d518f999"
      },
      "source": [
        "_, y_hat = torch.max(z_new.data, 1)\n",
        "y_hat\n",
        "# Predicted correctly as 2"
      ],
      "execution_count": 197,
      "outputs": [
        {
          "output_type": "execute_result",
          "data": {
            "text/plain": [
              "tensor([2])"
            ]
          },
          "metadata": {
            "tags": []
          },
          "execution_count": 197
        }
      ]
    },
    {
      "cell_type": "markdown",
      "metadata": {
        "id": "9Mas0UP8B8Pp",
        "colab_type": "text"
      },
      "source": [
        "# Neural Networks"
      ]
    }
  ]
}