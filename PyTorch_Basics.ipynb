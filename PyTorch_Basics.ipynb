{
  "nbformat": 4,
  "nbformat_minor": 0,
  "metadata": {
    "colab": {
      "name": "PyTorch Basics.ipynb",
      "provenance": [],
      "collapsed_sections": [
        "ilI3RUUzyoix",
        "5H9_SdxhtUEs",
        "3TanRvmOqbG2",
        "nUJjzTynrpK-",
        "AdshI_rAqUbw",
        "tm4LiK0rz1tQ",
        "zcJKI0IG747_",
        "5ZAmTa75bEqd",
        "-VA_dyGwbLNT",
        "mBDk6hBjGjFg",
        "1oz6SczIpZSD",
        "7SsVhwKRpesk",
        "EXrJ_9ITQhxX"
      ],
      "toc_visible": true,
      "authorship_tag": "ABX9TyMW6SVwA/KZuywlkqq6tWm2",
      "include_colab_link": true
    },
    "kernelspec": {
      "name": "python3",
      "display_name": "Python 3"
    },
    "accelerator": "GPU",
    "widgets": {
      "application/vnd.jupyter.widget-state+json": {
        "279afc1aa6934797aa1197c21a8d59c6": {
          "model_module": "@jupyter-widgets/controls",
          "model_name": "HBoxModel",
          "state": {
            "_view_name": "HBoxView",
            "_dom_classes": [],
            "_model_name": "HBoxModel",
            "_view_module": "@jupyter-widgets/controls",
            "_model_module_version": "1.5.0",
            "_view_count": null,
            "_view_module_version": "1.5.0",
            "box_style": "",
            "layout": "IPY_MODEL_136956730e7d4cd083925486f51b426e",
            "_model_module": "@jupyter-widgets/controls",
            "children": [
              "IPY_MODEL_ec9a0d8d627841bb9e016ab1492c6ca9",
              "IPY_MODEL_f83254399e2b412a8b4c0f423f36ca18"
            ]
          }
        },
        "136956730e7d4cd083925486f51b426e": {
          "model_module": "@jupyter-widgets/base",
          "model_name": "LayoutModel",
          "state": {
            "_view_name": "LayoutView",
            "grid_template_rows": null,
            "right": null,
            "justify_content": null,
            "_view_module": "@jupyter-widgets/base",
            "overflow": null,
            "_model_module_version": "1.2.0",
            "_view_count": null,
            "flex_flow": null,
            "width": null,
            "min_width": null,
            "border": null,
            "align_items": null,
            "bottom": null,
            "_model_module": "@jupyter-widgets/base",
            "top": null,
            "grid_column": null,
            "overflow_y": null,
            "overflow_x": null,
            "grid_auto_flow": null,
            "grid_area": null,
            "grid_template_columns": null,
            "flex": null,
            "_model_name": "LayoutModel",
            "justify_items": null,
            "grid_row": null,
            "max_height": null,
            "align_content": null,
            "visibility": null,
            "align_self": null,
            "height": null,
            "min_height": null,
            "padding": null,
            "grid_auto_rows": null,
            "grid_gap": null,
            "max_width": null,
            "order": null,
            "_view_module_version": "1.2.0",
            "grid_template_areas": null,
            "object_position": null,
            "object_fit": null,
            "grid_auto_columns": null,
            "margin": null,
            "display": null,
            "left": null
          }
        },
        "ec9a0d8d627841bb9e016ab1492c6ca9": {
          "model_module": "@jupyter-widgets/controls",
          "model_name": "IntProgressModel",
          "state": {
            "_view_name": "ProgressView",
            "style": "IPY_MODEL_6cefc31f6aa54473adcdbc110dffc54b",
            "_dom_classes": [],
            "description": "",
            "_model_name": "IntProgressModel",
            "bar_style": "success",
            "max": 1,
            "_view_module": "@jupyter-widgets/controls",
            "_model_module_version": "1.5.0",
            "value": 1,
            "_view_count": null,
            "_view_module_version": "1.5.0",
            "orientation": "horizontal",
            "min": 0,
            "description_tooltip": null,
            "_model_module": "@jupyter-widgets/controls",
            "layout": "IPY_MODEL_087497abaf434b5898569527a92a2c7f"
          }
        },
        "f83254399e2b412a8b4c0f423f36ca18": {
          "model_module": "@jupyter-widgets/controls",
          "model_name": "HTMLModel",
          "state": {
            "_view_name": "HTMLView",
            "style": "IPY_MODEL_a5cb24a09f2e4cf1bdffba9ba77cd219",
            "_dom_classes": [],
            "description": "",
            "_model_name": "HTMLModel",
            "placeholder": "​",
            "_view_module": "@jupyter-widgets/controls",
            "_model_module_version": "1.5.0",
            "value": "9920512it [00:01, 8489885.74it/s]",
            "_view_count": null,
            "_view_module_version": "1.5.0",
            "description_tooltip": null,
            "_model_module": "@jupyter-widgets/controls",
            "layout": "IPY_MODEL_587c9a8a04e341189dc5a9777944daef"
          }
        },
        "6cefc31f6aa54473adcdbc110dffc54b": {
          "model_module": "@jupyter-widgets/controls",
          "model_name": "ProgressStyleModel",
          "state": {
            "_view_name": "StyleView",
            "_model_name": "ProgressStyleModel",
            "description_width": "",
            "_view_module": "@jupyter-widgets/base",
            "_model_module_version": "1.5.0",
            "_view_count": null,
            "_view_module_version": "1.2.0",
            "bar_color": null,
            "_model_module": "@jupyter-widgets/controls"
          }
        },
        "087497abaf434b5898569527a92a2c7f": {
          "model_module": "@jupyter-widgets/base",
          "model_name": "LayoutModel",
          "state": {
            "_view_name": "LayoutView",
            "grid_template_rows": null,
            "right": null,
            "justify_content": null,
            "_view_module": "@jupyter-widgets/base",
            "overflow": null,
            "_model_module_version": "1.2.0",
            "_view_count": null,
            "flex_flow": null,
            "width": null,
            "min_width": null,
            "border": null,
            "align_items": null,
            "bottom": null,
            "_model_module": "@jupyter-widgets/base",
            "top": null,
            "grid_column": null,
            "overflow_y": null,
            "overflow_x": null,
            "grid_auto_flow": null,
            "grid_area": null,
            "grid_template_columns": null,
            "flex": null,
            "_model_name": "LayoutModel",
            "justify_items": null,
            "grid_row": null,
            "max_height": null,
            "align_content": null,
            "visibility": null,
            "align_self": null,
            "height": null,
            "min_height": null,
            "padding": null,
            "grid_auto_rows": null,
            "grid_gap": null,
            "max_width": null,
            "order": null,
            "_view_module_version": "1.2.0",
            "grid_template_areas": null,
            "object_position": null,
            "object_fit": null,
            "grid_auto_columns": null,
            "margin": null,
            "display": null,
            "left": null
          }
        },
        "a5cb24a09f2e4cf1bdffba9ba77cd219": {
          "model_module": "@jupyter-widgets/controls",
          "model_name": "DescriptionStyleModel",
          "state": {
            "_view_name": "StyleView",
            "_model_name": "DescriptionStyleModel",
            "description_width": "",
            "_view_module": "@jupyter-widgets/base",
            "_model_module_version": "1.5.0",
            "_view_count": null,
            "_view_module_version": "1.2.0",
            "_model_module": "@jupyter-widgets/controls"
          }
        },
        "587c9a8a04e341189dc5a9777944daef": {
          "model_module": "@jupyter-widgets/base",
          "model_name": "LayoutModel",
          "state": {
            "_view_name": "LayoutView",
            "grid_template_rows": null,
            "right": null,
            "justify_content": null,
            "_view_module": "@jupyter-widgets/base",
            "overflow": null,
            "_model_module_version": "1.2.0",
            "_view_count": null,
            "flex_flow": null,
            "width": null,
            "min_width": null,
            "border": null,
            "align_items": null,
            "bottom": null,
            "_model_module": "@jupyter-widgets/base",
            "top": null,
            "grid_column": null,
            "overflow_y": null,
            "overflow_x": null,
            "grid_auto_flow": null,
            "grid_area": null,
            "grid_template_columns": null,
            "flex": null,
            "_model_name": "LayoutModel",
            "justify_items": null,
            "grid_row": null,
            "max_height": null,
            "align_content": null,
            "visibility": null,
            "align_self": null,
            "height": null,
            "min_height": null,
            "padding": null,
            "grid_auto_rows": null,
            "grid_gap": null,
            "max_width": null,
            "order": null,
            "_view_module_version": "1.2.0",
            "grid_template_areas": null,
            "object_position": null,
            "object_fit": null,
            "grid_auto_columns": null,
            "margin": null,
            "display": null,
            "left": null
          }
        },
        "6735d31e03fd4cb8b976407e53f79367": {
          "model_module": "@jupyter-widgets/controls",
          "model_name": "HBoxModel",
          "state": {
            "_view_name": "HBoxView",
            "_dom_classes": [],
            "_model_name": "HBoxModel",
            "_view_module": "@jupyter-widgets/controls",
            "_model_module_version": "1.5.0",
            "_view_count": null,
            "_view_module_version": "1.5.0",
            "box_style": "",
            "layout": "IPY_MODEL_50f8299e109e45c492fd326ffb0ed973",
            "_model_module": "@jupyter-widgets/controls",
            "children": [
              "IPY_MODEL_e7f647f7ed8b40b396178cc7802d46d2",
              "IPY_MODEL_b62176ed6fe941aaad616b353a8fd0f6"
            ]
          }
        },
        "50f8299e109e45c492fd326ffb0ed973": {
          "model_module": "@jupyter-widgets/base",
          "model_name": "LayoutModel",
          "state": {
            "_view_name": "LayoutView",
            "grid_template_rows": null,
            "right": null,
            "justify_content": null,
            "_view_module": "@jupyter-widgets/base",
            "overflow": null,
            "_model_module_version": "1.2.0",
            "_view_count": null,
            "flex_flow": null,
            "width": null,
            "min_width": null,
            "border": null,
            "align_items": null,
            "bottom": null,
            "_model_module": "@jupyter-widgets/base",
            "top": null,
            "grid_column": null,
            "overflow_y": null,
            "overflow_x": null,
            "grid_auto_flow": null,
            "grid_area": null,
            "grid_template_columns": null,
            "flex": null,
            "_model_name": "LayoutModel",
            "justify_items": null,
            "grid_row": null,
            "max_height": null,
            "align_content": null,
            "visibility": null,
            "align_self": null,
            "height": null,
            "min_height": null,
            "padding": null,
            "grid_auto_rows": null,
            "grid_gap": null,
            "max_width": null,
            "order": null,
            "_view_module_version": "1.2.0",
            "grid_template_areas": null,
            "object_position": null,
            "object_fit": null,
            "grid_auto_columns": null,
            "margin": null,
            "display": null,
            "left": null
          }
        },
        "e7f647f7ed8b40b396178cc7802d46d2": {
          "model_module": "@jupyter-widgets/controls",
          "model_name": "IntProgressModel",
          "state": {
            "_view_name": "ProgressView",
            "style": "IPY_MODEL_6859bec6f6d94fb5bc8177bab5e7d2a0",
            "_dom_classes": [],
            "description": "",
            "_model_name": "IntProgressModel",
            "bar_style": "success",
            "max": 1,
            "_view_module": "@jupyter-widgets/controls",
            "_model_module_version": "1.5.0",
            "value": 1,
            "_view_count": null,
            "_view_module_version": "1.5.0",
            "orientation": "horizontal",
            "min": 0,
            "description_tooltip": null,
            "_model_module": "@jupyter-widgets/controls",
            "layout": "IPY_MODEL_2ee17e456cff4b69b9ab301b4a5478cb"
          }
        },
        "b62176ed6fe941aaad616b353a8fd0f6": {
          "model_module": "@jupyter-widgets/controls",
          "model_name": "HTMLModel",
          "state": {
            "_view_name": "HTMLView",
            "style": "IPY_MODEL_e765f226a6e647ac94c36e337a26c853",
            "_dom_classes": [],
            "description": "",
            "_model_name": "HTMLModel",
            "placeholder": "​",
            "_view_module": "@jupyter-widgets/controls",
            "_model_module_version": "1.5.0",
            "value": "32768it [00:00, 127729.94it/s]",
            "_view_count": null,
            "_view_module_version": "1.5.0",
            "description_tooltip": null,
            "_model_module": "@jupyter-widgets/controls",
            "layout": "IPY_MODEL_70d4fd45814c4dbe8a8b7e83adc0c8dc"
          }
        },
        "6859bec6f6d94fb5bc8177bab5e7d2a0": {
          "model_module": "@jupyter-widgets/controls",
          "model_name": "ProgressStyleModel",
          "state": {
            "_view_name": "StyleView",
            "_model_name": "ProgressStyleModel",
            "description_width": "",
            "_view_module": "@jupyter-widgets/base",
            "_model_module_version": "1.5.0",
            "_view_count": null,
            "_view_module_version": "1.2.0",
            "bar_color": null,
            "_model_module": "@jupyter-widgets/controls"
          }
        },
        "2ee17e456cff4b69b9ab301b4a5478cb": {
          "model_module": "@jupyter-widgets/base",
          "model_name": "LayoutModel",
          "state": {
            "_view_name": "LayoutView",
            "grid_template_rows": null,
            "right": null,
            "justify_content": null,
            "_view_module": "@jupyter-widgets/base",
            "overflow": null,
            "_model_module_version": "1.2.0",
            "_view_count": null,
            "flex_flow": null,
            "width": null,
            "min_width": null,
            "border": null,
            "align_items": null,
            "bottom": null,
            "_model_module": "@jupyter-widgets/base",
            "top": null,
            "grid_column": null,
            "overflow_y": null,
            "overflow_x": null,
            "grid_auto_flow": null,
            "grid_area": null,
            "grid_template_columns": null,
            "flex": null,
            "_model_name": "LayoutModel",
            "justify_items": null,
            "grid_row": null,
            "max_height": null,
            "align_content": null,
            "visibility": null,
            "align_self": null,
            "height": null,
            "min_height": null,
            "padding": null,
            "grid_auto_rows": null,
            "grid_gap": null,
            "max_width": null,
            "order": null,
            "_view_module_version": "1.2.0",
            "grid_template_areas": null,
            "object_position": null,
            "object_fit": null,
            "grid_auto_columns": null,
            "margin": null,
            "display": null,
            "left": null
          }
        },
        "e765f226a6e647ac94c36e337a26c853": {
          "model_module": "@jupyter-widgets/controls",
          "model_name": "DescriptionStyleModel",
          "state": {
            "_view_name": "StyleView",
            "_model_name": "DescriptionStyleModel",
            "description_width": "",
            "_view_module": "@jupyter-widgets/base",
            "_model_module_version": "1.5.0",
            "_view_count": null,
            "_view_module_version": "1.2.0",
            "_model_module": "@jupyter-widgets/controls"
          }
        },
        "70d4fd45814c4dbe8a8b7e83adc0c8dc": {
          "model_module": "@jupyter-widgets/base",
          "model_name": "LayoutModel",
          "state": {
            "_view_name": "LayoutView",
            "grid_template_rows": null,
            "right": null,
            "justify_content": null,
            "_view_module": "@jupyter-widgets/base",
            "overflow": null,
            "_model_module_version": "1.2.0",
            "_view_count": null,
            "flex_flow": null,
            "width": null,
            "min_width": null,
            "border": null,
            "align_items": null,
            "bottom": null,
            "_model_module": "@jupyter-widgets/base",
            "top": null,
            "grid_column": null,
            "overflow_y": null,
            "overflow_x": null,
            "grid_auto_flow": null,
            "grid_area": null,
            "grid_template_columns": null,
            "flex": null,
            "_model_name": "LayoutModel",
            "justify_items": null,
            "grid_row": null,
            "max_height": null,
            "align_content": null,
            "visibility": null,
            "align_self": null,
            "height": null,
            "min_height": null,
            "padding": null,
            "grid_auto_rows": null,
            "grid_gap": null,
            "max_width": null,
            "order": null,
            "_view_module_version": "1.2.0",
            "grid_template_areas": null,
            "object_position": null,
            "object_fit": null,
            "grid_auto_columns": null,
            "margin": null,
            "display": null,
            "left": null
          }
        },
        "33b74d7e1c4c4518b6a6049b8fa1f747": {
          "model_module": "@jupyter-widgets/controls",
          "model_name": "HBoxModel",
          "state": {
            "_view_name": "HBoxView",
            "_dom_classes": [],
            "_model_name": "HBoxModel",
            "_view_module": "@jupyter-widgets/controls",
            "_model_module_version": "1.5.0",
            "_view_count": null,
            "_view_module_version": "1.5.0",
            "box_style": "",
            "layout": "IPY_MODEL_09f4cea6f7a0438889047acd1cfa19f8",
            "_model_module": "@jupyter-widgets/controls",
            "children": [
              "IPY_MODEL_81e12cff511a4453931293fd6a1bb227",
              "IPY_MODEL_135c101a7b3e4ef7a1f5f180181c2140"
            ]
          }
        },
        "09f4cea6f7a0438889047acd1cfa19f8": {
          "model_module": "@jupyter-widgets/base",
          "model_name": "LayoutModel",
          "state": {
            "_view_name": "LayoutView",
            "grid_template_rows": null,
            "right": null,
            "justify_content": null,
            "_view_module": "@jupyter-widgets/base",
            "overflow": null,
            "_model_module_version": "1.2.0",
            "_view_count": null,
            "flex_flow": null,
            "width": null,
            "min_width": null,
            "border": null,
            "align_items": null,
            "bottom": null,
            "_model_module": "@jupyter-widgets/base",
            "top": null,
            "grid_column": null,
            "overflow_y": null,
            "overflow_x": null,
            "grid_auto_flow": null,
            "grid_area": null,
            "grid_template_columns": null,
            "flex": null,
            "_model_name": "LayoutModel",
            "justify_items": null,
            "grid_row": null,
            "max_height": null,
            "align_content": null,
            "visibility": null,
            "align_self": null,
            "height": null,
            "min_height": null,
            "padding": null,
            "grid_auto_rows": null,
            "grid_gap": null,
            "max_width": null,
            "order": null,
            "_view_module_version": "1.2.0",
            "grid_template_areas": null,
            "object_position": null,
            "object_fit": null,
            "grid_auto_columns": null,
            "margin": null,
            "display": null,
            "left": null
          }
        },
        "81e12cff511a4453931293fd6a1bb227": {
          "model_module": "@jupyter-widgets/controls",
          "model_name": "IntProgressModel",
          "state": {
            "_view_name": "ProgressView",
            "style": "IPY_MODEL_c9bed9b57fdc4a6d826d5bf895714a39",
            "_dom_classes": [],
            "description": "",
            "_model_name": "IntProgressModel",
            "bar_style": "success",
            "max": 1,
            "_view_module": "@jupyter-widgets/controls",
            "_model_module_version": "1.5.0",
            "value": 1,
            "_view_count": null,
            "_view_module_version": "1.5.0",
            "orientation": "horizontal",
            "min": 0,
            "description_tooltip": null,
            "_model_module": "@jupyter-widgets/controls",
            "layout": "IPY_MODEL_00791b1aeda44b26ba09a42b9d736146"
          }
        },
        "135c101a7b3e4ef7a1f5f180181c2140": {
          "model_module": "@jupyter-widgets/controls",
          "model_name": "HTMLModel",
          "state": {
            "_view_name": "HTMLView",
            "style": "IPY_MODEL_993e7e14a04b4c929f46db375b177165",
            "_dom_classes": [],
            "description": "",
            "_model_name": "HTMLModel",
            "placeholder": "​",
            "_view_module": "@jupyter-widgets/controls",
            "_model_module_version": "1.5.0",
            "value": "1654784it [00:00, 2193069.92it/s]",
            "_view_count": null,
            "_view_module_version": "1.5.0",
            "description_tooltip": null,
            "_model_module": "@jupyter-widgets/controls",
            "layout": "IPY_MODEL_b21b0c4580384a0bb6edd3fbc44098e7"
          }
        },
        "c9bed9b57fdc4a6d826d5bf895714a39": {
          "model_module": "@jupyter-widgets/controls",
          "model_name": "ProgressStyleModel",
          "state": {
            "_view_name": "StyleView",
            "_model_name": "ProgressStyleModel",
            "description_width": "",
            "_view_module": "@jupyter-widgets/base",
            "_model_module_version": "1.5.0",
            "_view_count": null,
            "_view_module_version": "1.2.0",
            "bar_color": null,
            "_model_module": "@jupyter-widgets/controls"
          }
        },
        "00791b1aeda44b26ba09a42b9d736146": {
          "model_module": "@jupyter-widgets/base",
          "model_name": "LayoutModel",
          "state": {
            "_view_name": "LayoutView",
            "grid_template_rows": null,
            "right": null,
            "justify_content": null,
            "_view_module": "@jupyter-widgets/base",
            "overflow": null,
            "_model_module_version": "1.2.0",
            "_view_count": null,
            "flex_flow": null,
            "width": null,
            "min_width": null,
            "border": null,
            "align_items": null,
            "bottom": null,
            "_model_module": "@jupyter-widgets/base",
            "top": null,
            "grid_column": null,
            "overflow_y": null,
            "overflow_x": null,
            "grid_auto_flow": null,
            "grid_area": null,
            "grid_template_columns": null,
            "flex": null,
            "_model_name": "LayoutModel",
            "justify_items": null,
            "grid_row": null,
            "max_height": null,
            "align_content": null,
            "visibility": null,
            "align_self": null,
            "height": null,
            "min_height": null,
            "padding": null,
            "grid_auto_rows": null,
            "grid_gap": null,
            "max_width": null,
            "order": null,
            "_view_module_version": "1.2.0",
            "grid_template_areas": null,
            "object_position": null,
            "object_fit": null,
            "grid_auto_columns": null,
            "margin": null,
            "display": null,
            "left": null
          }
        },
        "993e7e14a04b4c929f46db375b177165": {
          "model_module": "@jupyter-widgets/controls",
          "model_name": "DescriptionStyleModel",
          "state": {
            "_view_name": "StyleView",
            "_model_name": "DescriptionStyleModel",
            "description_width": "",
            "_view_module": "@jupyter-widgets/base",
            "_model_module_version": "1.5.0",
            "_view_count": null,
            "_view_module_version": "1.2.0",
            "_model_module": "@jupyter-widgets/controls"
          }
        },
        "b21b0c4580384a0bb6edd3fbc44098e7": {
          "model_module": "@jupyter-widgets/base",
          "model_name": "LayoutModel",
          "state": {
            "_view_name": "LayoutView",
            "grid_template_rows": null,
            "right": null,
            "justify_content": null,
            "_view_module": "@jupyter-widgets/base",
            "overflow": null,
            "_model_module_version": "1.2.0",
            "_view_count": null,
            "flex_flow": null,
            "width": null,
            "min_width": null,
            "border": null,
            "align_items": null,
            "bottom": null,
            "_model_module": "@jupyter-widgets/base",
            "top": null,
            "grid_column": null,
            "overflow_y": null,
            "overflow_x": null,
            "grid_auto_flow": null,
            "grid_area": null,
            "grid_template_columns": null,
            "flex": null,
            "_model_name": "LayoutModel",
            "justify_items": null,
            "grid_row": null,
            "max_height": null,
            "align_content": null,
            "visibility": null,
            "align_self": null,
            "height": null,
            "min_height": null,
            "padding": null,
            "grid_auto_rows": null,
            "grid_gap": null,
            "max_width": null,
            "order": null,
            "_view_module_version": "1.2.0",
            "grid_template_areas": null,
            "object_position": null,
            "object_fit": null,
            "grid_auto_columns": null,
            "margin": null,
            "display": null,
            "left": null
          }
        },
        "5a9fc91a149f4452957a6d7529ba1263": {
          "model_module": "@jupyter-widgets/controls",
          "model_name": "HBoxModel",
          "state": {
            "_view_name": "HBoxView",
            "_dom_classes": [],
            "_model_name": "HBoxModel",
            "_view_module": "@jupyter-widgets/controls",
            "_model_module_version": "1.5.0",
            "_view_count": null,
            "_view_module_version": "1.5.0",
            "box_style": "",
            "layout": "IPY_MODEL_00c11a8ffe0e4fcebeced0219031a193",
            "_model_module": "@jupyter-widgets/controls",
            "children": [
              "IPY_MODEL_23834f2f0da9490c8a935a0881f271aa",
              "IPY_MODEL_0bd8dea4114c4682bdf386f9c963bb28"
            ]
          }
        },
        "00c11a8ffe0e4fcebeced0219031a193": {
          "model_module": "@jupyter-widgets/base",
          "model_name": "LayoutModel",
          "state": {
            "_view_name": "LayoutView",
            "grid_template_rows": null,
            "right": null,
            "justify_content": null,
            "_view_module": "@jupyter-widgets/base",
            "overflow": null,
            "_model_module_version": "1.2.0",
            "_view_count": null,
            "flex_flow": null,
            "width": null,
            "min_width": null,
            "border": null,
            "align_items": null,
            "bottom": null,
            "_model_module": "@jupyter-widgets/base",
            "top": null,
            "grid_column": null,
            "overflow_y": null,
            "overflow_x": null,
            "grid_auto_flow": null,
            "grid_area": null,
            "grid_template_columns": null,
            "flex": null,
            "_model_name": "LayoutModel",
            "justify_items": null,
            "grid_row": null,
            "max_height": null,
            "align_content": null,
            "visibility": null,
            "align_self": null,
            "height": null,
            "min_height": null,
            "padding": null,
            "grid_auto_rows": null,
            "grid_gap": null,
            "max_width": null,
            "order": null,
            "_view_module_version": "1.2.0",
            "grid_template_areas": null,
            "object_position": null,
            "object_fit": null,
            "grid_auto_columns": null,
            "margin": null,
            "display": null,
            "left": null
          }
        },
        "23834f2f0da9490c8a935a0881f271aa": {
          "model_module": "@jupyter-widgets/controls",
          "model_name": "IntProgressModel",
          "state": {
            "_view_name": "ProgressView",
            "style": "IPY_MODEL_2a7acc58d7fb46e7803f669be1ff1567",
            "_dom_classes": [],
            "description": "",
            "_model_name": "IntProgressModel",
            "bar_style": "success",
            "max": 1,
            "_view_module": "@jupyter-widgets/controls",
            "_model_module_version": "1.5.0",
            "value": 1,
            "_view_count": null,
            "_view_module_version": "1.5.0",
            "orientation": "horizontal",
            "min": 0,
            "description_tooltip": null,
            "_model_module": "@jupyter-widgets/controls",
            "layout": "IPY_MODEL_78eadbc4a2ea4fe795b539b9b3423d9c"
          }
        },
        "0bd8dea4114c4682bdf386f9c963bb28": {
          "model_module": "@jupyter-widgets/controls",
          "model_name": "HTMLModel",
          "state": {
            "_view_name": "HTMLView",
            "style": "IPY_MODEL_ca3c6f7e3921406ab3f1ad745a5f9c51",
            "_dom_classes": [],
            "description": "",
            "_model_name": "HTMLModel",
            "placeholder": "​",
            "_view_module": "@jupyter-widgets/controls",
            "_model_module_version": "1.5.0",
            "value": "8192it [00:00, 47173.21it/s]",
            "_view_count": null,
            "_view_module_version": "1.5.0",
            "description_tooltip": null,
            "_model_module": "@jupyter-widgets/controls",
            "layout": "IPY_MODEL_51531fae76854511b8497e950e90dfc4"
          }
        },
        "2a7acc58d7fb46e7803f669be1ff1567": {
          "model_module": "@jupyter-widgets/controls",
          "model_name": "ProgressStyleModel",
          "state": {
            "_view_name": "StyleView",
            "_model_name": "ProgressStyleModel",
            "description_width": "",
            "_view_module": "@jupyter-widgets/base",
            "_model_module_version": "1.5.0",
            "_view_count": null,
            "_view_module_version": "1.2.0",
            "bar_color": null,
            "_model_module": "@jupyter-widgets/controls"
          }
        },
        "78eadbc4a2ea4fe795b539b9b3423d9c": {
          "model_module": "@jupyter-widgets/base",
          "model_name": "LayoutModel",
          "state": {
            "_view_name": "LayoutView",
            "grid_template_rows": null,
            "right": null,
            "justify_content": null,
            "_view_module": "@jupyter-widgets/base",
            "overflow": null,
            "_model_module_version": "1.2.0",
            "_view_count": null,
            "flex_flow": null,
            "width": null,
            "min_width": null,
            "border": null,
            "align_items": null,
            "bottom": null,
            "_model_module": "@jupyter-widgets/base",
            "top": null,
            "grid_column": null,
            "overflow_y": null,
            "overflow_x": null,
            "grid_auto_flow": null,
            "grid_area": null,
            "grid_template_columns": null,
            "flex": null,
            "_model_name": "LayoutModel",
            "justify_items": null,
            "grid_row": null,
            "max_height": null,
            "align_content": null,
            "visibility": null,
            "align_self": null,
            "height": null,
            "min_height": null,
            "padding": null,
            "grid_auto_rows": null,
            "grid_gap": null,
            "max_width": null,
            "order": null,
            "_view_module_version": "1.2.0",
            "grid_template_areas": null,
            "object_position": null,
            "object_fit": null,
            "grid_auto_columns": null,
            "margin": null,
            "display": null,
            "left": null
          }
        },
        "ca3c6f7e3921406ab3f1ad745a5f9c51": {
          "model_module": "@jupyter-widgets/controls",
          "model_name": "DescriptionStyleModel",
          "state": {
            "_view_name": "StyleView",
            "_model_name": "DescriptionStyleModel",
            "description_width": "",
            "_view_module": "@jupyter-widgets/base",
            "_model_module_version": "1.5.0",
            "_view_count": null,
            "_view_module_version": "1.2.0",
            "_model_module": "@jupyter-widgets/controls"
          }
        },
        "51531fae76854511b8497e950e90dfc4": {
          "model_module": "@jupyter-widgets/base",
          "model_name": "LayoutModel",
          "state": {
            "_view_name": "LayoutView",
            "grid_template_rows": null,
            "right": null,
            "justify_content": null,
            "_view_module": "@jupyter-widgets/base",
            "overflow": null,
            "_model_module_version": "1.2.0",
            "_view_count": null,
            "flex_flow": null,
            "width": null,
            "min_width": null,
            "border": null,
            "align_items": null,
            "bottom": null,
            "_model_module": "@jupyter-widgets/base",
            "top": null,
            "grid_column": null,
            "overflow_y": null,
            "overflow_x": null,
            "grid_auto_flow": null,
            "grid_area": null,
            "grid_template_columns": null,
            "flex": null,
            "_model_name": "LayoutModel",
            "justify_items": null,
            "grid_row": null,
            "max_height": null,
            "align_content": null,
            "visibility": null,
            "align_self": null,
            "height": null,
            "min_height": null,
            "padding": null,
            "grid_auto_rows": null,
            "grid_gap": null,
            "max_width": null,
            "order": null,
            "_view_module_version": "1.2.0",
            "grid_template_areas": null,
            "object_position": null,
            "object_fit": null,
            "grid_auto_columns": null,
            "margin": null,
            "display": null,
            "left": null
          }
        }
      }
    }
  },
  "cells": [
    {
      "cell_type": "markdown",
      "metadata": {
        "id": "view-in-github",
        "colab_type": "text"
      },
      "source": [
        "<a href=\"https://colab.research.google.com/github/ramkumarr02/PyTorch-Basics/blob/master/PyTorch_Basics.ipynb\" target=\"_parent\"><img src=\"https://colab.research.google.com/assets/colab-badge.svg\" alt=\"Open In Colab\"/></a>"
      ]
    },
    {
      "cell_type": "markdown",
      "metadata": {
        "id": "6ch1lBvT1alm",
        "colab_type": "text"
      },
      "source": [
        "# Tensor and datasets\n"
      ]
    },
    {
      "cell_type": "markdown",
      "metadata": {
        "id": "FR6cAmFhqZPm",
        "colab_type": "text"
      },
      "source": [
        "## CUDA"
      ]
    },
    {
      "cell_type": "code",
      "metadata": {
        "id": "Z6vW6Y7dcCND",
        "colab_type": "code",
        "outputId": "328ff88d-37c0-4769-c787-bad887b1810d",
        "colab": {
          "base_uri": "https://localhost:8080/"
        }
      },
      "source": [
        "import torch\n",
        "if torch.cuda.is_available():\n",
        "    print(torch.cuda)\n",
        "else:\n",
        "    print(\"NO\")"
      ],
      "execution_count": 0,
      "outputs": [
        {
          "output_type": "stream",
          "text": [
            "<module 'torch.cuda' from '/usr/local/lib/python3.6/dist-packages/torch/cuda/__init__.py'>\n"
          ],
          "name": "stdout"
        }
      ]
    },
    {
      "cell_type": "markdown",
      "metadata": {
        "id": "qKI6uefppxLQ",
        "colab_type": "text"
      },
      "source": [
        "## 1D Tensors\n"
      ]
    },
    {
      "cell_type": "markdown",
      "metadata": {
        "id": "ilI3RUUzyoix",
        "colab_type": "text"
      },
      "source": [
        "### Torch"
      ]
    },
    {
      "cell_type": "code",
      "metadata": {
        "id": "5V23s40yIL4S",
        "colab_type": "code",
        "colab": {}
      },
      "source": [
        "import torch"
      ],
      "execution_count": 0,
      "outputs": []
    },
    {
      "cell_type": "code",
      "metadata": {
        "id": "vhJBvWR1IX7T",
        "colab_type": "code",
        "colab": {}
      },
      "source": [
        "x = torch.empty(3,3)"
      ],
      "execution_count": 0,
      "outputs": []
    },
    {
      "cell_type": "code",
      "metadata": {
        "id": "2mJe5qGUIcbP",
        "colab_type": "code",
        "outputId": "158ca5e9-07e2-4c41-e3b5-63e58722ae4a",
        "colab": {
          "base_uri": "https://localhost:8080/"
        }
      },
      "source": [
        "torch.tensor(x)"
      ],
      "execution_count": 0,
      "outputs": [
        {
          "output_type": "stream",
          "text": [
            "/usr/local/lib/python3.6/dist-packages/ipykernel_launcher.py:1: UserWarning: To copy construct from a tensor, it is recommended to use sourceTensor.clone().detach() or sourceTensor.clone().detach().requires_grad_(True), rather than torch.tensor(sourceTensor).\n",
            "  \"\"\"Entry point for launching an IPython kernel.\n"
          ],
          "name": "stderr"
        },
        {
          "output_type": "execute_result",
          "data": {
            "text/plain": [
              "tensor([[5.3743e-36, 0.0000e+00, 0.0000e+00],\n",
              "        [0.0000e+00, 0.0000e+00, 0.0000e+00],\n",
              "        [0.0000e+00, 0.0000e+00, 2.8026e-45]])"
            ]
          },
          "metadata": {
            "tags": []
          },
          "execution_count": 4
        }
      ]
    },
    {
      "cell_type": "code",
      "metadata": {
        "id": "TUahpXdBIqTz",
        "colab_type": "code",
        "colab": {}
      },
      "source": [
        "x = torch.ones(5,5)"
      ],
      "execution_count": 0,
      "outputs": []
    },
    {
      "cell_type": "markdown",
      "metadata": {
        "id": "5H9_SdxhtUEs",
        "colab_type": "text"
      },
      "source": [
        "### Numpy & Tensor\n"
      ]
    },
    {
      "cell_type": "code",
      "metadata": {
        "id": "4iCVx9TLwVN1",
        "colab_type": "code",
        "outputId": "06291437-dd7f-47e0-c504-fe056c56f413",
        "colab": {
          "base_uri": "https://localhost:8080/"
        }
      },
      "source": [
        "import numpy as np\n",
        "narr = np.array([1,2,3,4])\n",
        "narr"
      ],
      "execution_count": 0,
      "outputs": [
        {
          "output_type": "execute_result",
          "data": {
            "text/plain": [
              "array([1, 2, 3, 4])"
            ]
          },
          "metadata": {
            "tags": []
          },
          "execution_count": 6
        }
      ]
    },
    {
      "cell_type": "code",
      "metadata": {
        "id": "e0E8tWMqwldb",
        "colab_type": "code",
        "outputId": "7b718ad8-049c-4fec-f275-55df4d2a69b3",
        "colab": {
          "base_uri": "https://localhost:8080/"
        }
      },
      "source": [
        "tens = torch.from_numpy(narr)\n",
        "tens"
      ],
      "execution_count": 0,
      "outputs": [
        {
          "output_type": "execute_result",
          "data": {
            "text/plain": [
              "tensor([1, 2, 3, 4])"
            ]
          },
          "metadata": {
            "tags": []
          },
          "execution_count": 7
        }
      ]
    },
    {
      "cell_type": "code",
      "metadata": {
        "id": "5AjnwMJVwqeh",
        "colab_type": "code",
        "outputId": "033a8223-abc7-445d-abc9-11cd172bafd3",
        "colab": {
          "base_uri": "https://localhost:8080/"
        }
      },
      "source": [
        "narr1 = tens.numpy()\n",
        "narr1"
      ],
      "execution_count": 0,
      "outputs": [
        {
          "output_type": "execute_result",
          "data": {
            "text/plain": [
              "array([1, 2, 3, 4])"
            ]
          },
          "metadata": {
            "tags": []
          },
          "execution_count": 8
        }
      ]
    },
    {
      "cell_type": "code",
      "metadata": {
        "id": "byAQ1hjXxG-A",
        "colab_type": "code",
        "outputId": "e48c1760-a318-4fce-fde9-0acbabce2a00",
        "colab": {
          "base_uri": "https://localhost:8080/"
        }
      },
      "source": [
        "print(tens[0], type(tens[0]))\n",
        "print(tens[0].item(), type(tens[0].item()))"
      ],
      "execution_count": 0,
      "outputs": [
        {
          "output_type": "stream",
          "text": [
            "tensor(1) <class 'torch.Tensor'>\n",
            "1 <class 'int'>\n"
          ],
          "name": "stdout"
        }
      ]
    },
    {
      "cell_type": "markdown",
      "metadata": {
        "id": "afKnkH-5zjbY",
        "colab_type": "text"
      },
      "source": [
        "### Data manipulation"
      ]
    },
    {
      "cell_type": "markdown",
      "metadata": {
        "id": "3TanRvmOqbG2",
        "colab_type": "text"
      },
      "source": [
        "#### Data type"
      ]
    },
    {
      "cell_type": "code",
      "metadata": {
        "id": "tugU8k3tp5OX",
        "colab_type": "code",
        "outputId": "03016b87-6b23-44d8-ecf8-938f8c5d35e1",
        "colab": {
          "base_uri": "https://localhost:8080/"
        }
      },
      "source": [
        "a = torch.tensor([1,2,3])\n",
        "print(a.dtype)\n",
        "print(a.type())"
      ],
      "execution_count": 0,
      "outputs": [
        {
          "output_type": "stream",
          "text": [
            "torch.int64\n",
            "torch.LongTensor\n"
          ],
          "name": "stdout"
        }
      ]
    },
    {
      "cell_type": "code",
      "metadata": {
        "id": "46nlGU6QqjkO",
        "colab_type": "code",
        "outputId": "e1a8d7d7-b3dc-4ec0-d7b8-decca0fbcbff",
        "colab": {
          "base_uri": "https://localhost:8080/"
        }
      },
      "source": [
        "a = torch.tensor([1,2,3], dtype = torch.float)\n",
        "print(a.dtype)\n",
        "print(a)\n",
        "print(a.type())"
      ],
      "execution_count": 0,
      "outputs": [
        {
          "output_type": "stream",
          "text": [
            "torch.float32\n",
            "tensor([1., 2., 3.])\n",
            "torch.FloatTensor\n"
          ],
          "name": "stdout"
        }
      ]
    },
    {
      "cell_type": "markdown",
      "metadata": {
        "id": "nUJjzTynrpK-",
        "colab_type": "text"
      },
      "source": [
        "#### Dimensions\n"
      ]
    },
    {
      "cell_type": "code",
      "metadata": {
        "id": "nOaZfdrbrrgH",
        "colab_type": "code",
        "outputId": "e3162122-098f-48d4-b941-276a098da73a",
        "colab": {
          "base_uri": "https://localhost:8080/"
        }
      },
      "source": [
        "a = torch.tensor([1,2,3,4])\n",
        "print(a.size())\n",
        "print(a.ndimension())"
      ],
      "execution_count": 0,
      "outputs": [
        {
          "output_type": "stream",
          "text": [
            "torch.Size([4])\n",
            "1\n"
          ],
          "name": "stdout"
        }
      ]
    },
    {
      "cell_type": "code",
      "metadata": {
        "id": "yCUvD-ypsgal",
        "colab_type": "code",
        "outputId": "4c451314-a758-4fbc-8848-d927cc4b1e6c",
        "colab": {
          "base_uri": "https://localhost:8080/"
        }
      },
      "source": [
        "a = torch.tensor([1,2,3,4,5,6])\n",
        "#a.view(row_num, col_num)\n",
        "print(a.view(2,-1))\n",
        "print('---------------------------')\n",
        "print(a.view(-1,2))\n",
        "print('---------------------------')\n",
        "print(a.view(1,-1))\n",
        "print('---------------------------')\n",
        "print(a.view(-1,1))"
      ],
      "execution_count": 0,
      "outputs": [
        {
          "output_type": "stream",
          "text": [
            "tensor([[1, 2, 3],\n",
            "        [4, 5, 6]])\n",
            "---------------------------\n",
            "tensor([[1, 2],\n",
            "        [3, 4],\n",
            "        [5, 6]])\n",
            "---------------------------\n",
            "tensor([[1, 2, 3, 4, 5, 6]])\n",
            "---------------------------\n",
            "tensor([[1],\n",
            "        [2],\n",
            "        [3],\n",
            "        [4],\n",
            "        [5],\n",
            "        [6]])\n"
          ],
          "name": "stdout"
        }
      ]
    },
    {
      "cell_type": "markdown",
      "metadata": {
        "id": "AdshI_rAqUbw",
        "colab_type": "text"
      },
      "source": [
        "#### Addition & Multiplication"
      ]
    },
    {
      "cell_type": "code",
      "metadata": {
        "id": "OBNCtUWlI9hS",
        "colab_type": "code",
        "outputId": "247b5fc9-b047-4e0b-d84e-e0a4cc7b8623",
        "colab": {
          "base_uri": "https://localhost:8080/"
        }
      },
      "source": [
        "y =  torch.ones(5,5) * 2\n",
        "y"
      ],
      "execution_count": 0,
      "outputs": [
        {
          "output_type": "execute_result",
          "data": {
            "text/plain": [
              "tensor([[2., 2., 2., 2., 2.],\n",
              "        [2., 2., 2., 2., 2.],\n",
              "        [2., 2., 2., 2., 2.],\n",
              "        [2., 2., 2., 2., 2.],\n",
              "        [2., 2., 2., 2., 2.]])"
            ]
          },
          "metadata": {
            "tags": []
          },
          "execution_count": 14
        }
      ]
    },
    {
      "cell_type": "code",
      "metadata": {
        "id": "1q0F1a2nJJTM",
        "colab_type": "code",
        "outputId": "7870b17f-019f-4633-81bf-0c7e1e6030ca",
        "colab": {
          "base_uri": "https://localhost:8080/"
        }
      },
      "source": [
        "x + y"
      ],
      "execution_count": 0,
      "outputs": [
        {
          "output_type": "execute_result",
          "data": {
            "text/plain": [
              "tensor([[3., 3., 3., 3., 3.],\n",
              "        [3., 3., 3., 3., 3.],\n",
              "        [3., 3., 3., 3., 3.],\n",
              "        [3., 3., 3., 3., 3.],\n",
              "        [3., 3., 3., 3., 3.]])"
            ]
          },
          "metadata": {
            "tags": []
          },
          "execution_count": 15
        }
      ]
    },
    {
      "cell_type": "code",
      "metadata": {
        "id": "YdVH6Qd-J7C2",
        "colab_type": "code",
        "outputId": "6f45f817-5cce-40ab-98f8-f58fc8d4fc82",
        "colab": {
          "base_uri": "https://localhost:8080/"
        }
      },
      "source": [
        "y.add(x)"
      ],
      "execution_count": 0,
      "outputs": [
        {
          "output_type": "execute_result",
          "data": {
            "text/plain": [
              "tensor([[3., 3., 3., 3., 3.],\n",
              "        [3., 3., 3., 3., 3.],\n",
              "        [3., 3., 3., 3., 3.],\n",
              "        [3., 3., 3., 3., 3.],\n",
              "        [3., 3., 3., 3., 3.]])"
            ]
          },
          "metadata": {
            "tags": []
          },
          "execution_count": 16
        }
      ]
    },
    {
      "cell_type": "code",
      "metadata": {
        "id": "TuHOOy2hJ9Cv",
        "colab_type": "code",
        "outputId": "1a277a7e-5fb3-4fe7-a08f-f62d37a7869a",
        "colab": {
          "base_uri": "https://localhost:8080/"
        }
      },
      "source": [
        "y"
      ],
      "execution_count": 0,
      "outputs": [
        {
          "output_type": "execute_result",
          "data": {
            "text/plain": [
              "tensor([[2., 2., 2., 2., 2.],\n",
              "        [2., 2., 2., 2., 2.],\n",
              "        [2., 2., 2., 2., 2.],\n",
              "        [2., 2., 2., 2., 2.],\n",
              "        [2., 2., 2., 2., 2.]])"
            ]
          },
          "metadata": {
            "tags": []
          },
          "execution_count": 17
        }
      ]
    },
    {
      "cell_type": "code",
      "metadata": {
        "id": "bQ8Fs4qSJ-CZ",
        "colab_type": "code",
        "outputId": "39976db2-7d00-4884-e4ef-f785923c9d9b",
        "colab": {
          "base_uri": "https://localhost:8080/"
        }
      },
      "source": [
        "y.add_(x)"
      ],
      "execution_count": 0,
      "outputs": [
        {
          "output_type": "execute_result",
          "data": {
            "text/plain": [
              "tensor([[3., 3., 3., 3., 3.],\n",
              "        [3., 3., 3., 3., 3.],\n",
              "        [3., 3., 3., 3., 3.],\n",
              "        [3., 3., 3., 3., 3.],\n",
              "        [3., 3., 3., 3., 3.]])"
            ]
          },
          "metadata": {
            "tags": []
          },
          "execution_count": 18
        }
      ]
    },
    {
      "cell_type": "code",
      "metadata": {
        "id": "sXLNVeVFKAwC",
        "colab_type": "code",
        "outputId": "a82b60ef-cd4f-426e-ae91-992f9c9c5e61",
        "colab": {
          "base_uri": "https://localhost:8080/"
        }
      },
      "source": [
        "y"
      ],
      "execution_count": 0,
      "outputs": [
        {
          "output_type": "execute_result",
          "data": {
            "text/plain": [
              "tensor([[3., 3., 3., 3., 3.],\n",
              "        [3., 3., 3., 3., 3.],\n",
              "        [3., 3., 3., 3., 3.],\n",
              "        [3., 3., 3., 3., 3.],\n",
              "        [3., 3., 3., 3., 3.]])"
            ]
          },
          "metadata": {
            "tags": []
          },
          "execution_count": 19
        }
      ]
    },
    {
      "cell_type": "code",
      "metadata": {
        "id": "RdUpM6sKPa7E",
        "colab_type": "code",
        "outputId": "53e5e5d4-4a61-4ab6-fc79-2eca6a4bd6ae",
        "colab": {
          "base_uri": "https://localhost:8080/"
        }
      },
      "source": [
        "y.view(-1,25)"
      ],
      "execution_count": 0,
      "outputs": [
        {
          "output_type": "execute_result",
          "data": {
            "text/plain": [
              "tensor([[3., 3., 3., 3., 3., 3., 3., 3., 3., 3., 3., 3., 3., 3., 3., 3., 3., 3.,\n",
              "         3., 3., 3., 3., 3., 3., 3.]])"
            ]
          },
          "metadata": {
            "tags": []
          },
          "execution_count": 20
        }
      ]
    },
    {
      "cell_type": "markdown",
      "metadata": {
        "id": "tm4LiK0rz1tQ",
        "colab_type": "text"
      },
      "source": [
        "#### Vector manipulation"
      ]
    },
    {
      "cell_type": "code",
      "metadata": {
        "id": "jH6XGEMez37g",
        "colab_type": "code",
        "outputId": "f20b3a40-44c0-443d-a57f-886c74940387",
        "colab": {
          "base_uri": "https://localhost:8080/"
        }
      },
      "source": [
        "u = torch.tensor([1,2,3])\n",
        "v = torch.tensor([1.0,2.0,3.0])\n",
        "\n",
        "z = u + v\n",
        "print(z)\n",
        "\n",
        "z = u * 2\n",
        "print(z)"
      ],
      "execution_count": 0,
      "outputs": [
        {
          "output_type": "stream",
          "text": [
            "tensor([2., 4., 6.])\n",
            "tensor([2, 4, 6])\n"
          ],
          "name": "stdout"
        }
      ]
    },
    {
      "cell_type": "code",
      "metadata": {
        "id": "S33LnFH60Jc1",
        "colab_type": "code",
        "outputId": "c0d70f1f-e573-44ea-f0d4-37c0bc0e6876",
        "colab": {
          "base_uri": "https://localhost:8080/"
        }
      },
      "source": [
        "# Hadamard Product\n",
        "z = u * v\n",
        "print(z)\n",
        "\n",
        "\n",
        "# Dot Product\n",
        "u = torch.tensor([1,2,3])\n",
        "v = torch.tensor([1,2,3])\n",
        "z = torch.dot(u,v)\n",
        "print(z)"
      ],
      "execution_count": 0,
      "outputs": [
        {
          "output_type": "stream",
          "text": [
            "tensor([1., 4., 9.])\n",
            "tensor(14)\n"
          ],
          "name": "stdout"
        }
      ]
    },
    {
      "cell_type": "markdown",
      "metadata": {
        "id": "zcJKI0IG747_",
        "colab_type": "text"
      },
      "source": [
        "#### Tensor functions"
      ]
    },
    {
      "cell_type": "code",
      "metadata": {
        "id": "9xYma9lQ1ASv",
        "colab_type": "code",
        "outputId": "d4905d28-18ad-4c62-887c-a0d211be349c",
        "colab": {
          "base_uri": "https://localhost:8080/"
        }
      },
      "source": [
        "print(u.type())\n",
        "u = u.float()\n",
        "print(u.type())\n",
        "\n",
        "print(u.mean()),x.numpy()\n",
        "print(u.max())"
      ],
      "execution_count": 0,
      "outputs": [
        {
          "output_type": "stream",
          "text": [
            "torch.LongTensor\n",
            "torch.FloatTensor\n",
            "tensor(2.)\n",
            "tensor(3.)\n"
          ],
          "name": "stdout"
        }
      ]
    },
    {
      "cell_type": "code",
      "metadata": {
        "id": "vMexQJKo5TNn",
        "colab_type": "code",
        "outputId": "a7a9e31b-9c09-47a6-c4dd-6aa0a0565cf0",
        "colab": {
          "base_uri": "https://localhost:8080/"
        }
      },
      "source": [
        "torch.linspace(start = 0, end = 10, steps = 6)"
      ],
      "execution_count": 0,
      "outputs": [
        {
          "output_type": "execute_result",
          "data": {
            "text/plain": [
              "tensor([ 0.,  2.,  4.,  6.,  8., 10.])"
            ]
          },
          "metadata": {
            "tags": []
          },
          "execution_count": 24
        }
      ]
    },
    {
      "cell_type": "code",
      "metadata": {
        "id": "g_78Pobg7IgY",
        "colab_type": "code",
        "colab": {}
      },
      "source": [
        "pi_val = np.pi\n",
        "\n",
        "x = torch.linspace(0, 2*np.pi, 100)\n",
        "y = torch.sin(x)"
      ],
      "execution_count": 0,
      "outputs": []
    },
    {
      "cell_type": "code",
      "metadata": {
        "id": "rA5H1QxI7g23",
        "colab_type": "code",
        "colab": {}
      },
      "source": [
        "import matplotlib.pyplot as plt\n",
        "% matplotlib inline"
      ],
      "execution_count": 0,
      "outputs": []
    },
    {
      "cell_type": "code",
      "metadata": {
        "id": "NsRDTr9m7ogW",
        "colab_type": "code",
        "outputId": "b682eb6c-1991-487f-abbe-13c20c8c9c30",
        "colab": {
          "base_uri": "https://localhost:8080/"
        }
      },
      "source": [
        "plt.plot(x.numpy(), y.numpy())"
      ],
      "execution_count": 0,
      "outputs": [
        {
          "output_type": "execute_result",
          "data": {
            "text/plain": [
              "[<matplotlib.lines.Line2D at 0x7f9a92fe5e48>]"
            ]
          },
          "metadata": {
            "tags": []
          },
          "execution_count": 27
        },
        {
          "output_type": "display_data",
          "data": {
            "image/png": "[encoded data removed]",
            "text/plain": [
              "<Figure size 432x288 with 1 Axes>"
            ]
          },
          "metadata": {
            "tags": []
          }
        }
      ]
    },
    {
      "cell_type": "markdown",
      "metadata": {
        "id": "5ZAmTa75bEqd",
        "colab_type": "text"
      },
      "source": [
        "## 2D Tensors"
      ]
    },
    {
      "cell_type": "markdown",
      "metadata": {
        "id": "-VA_dyGwbLNT",
        "colab_type": "text"
      },
      "source": [
        "### Create 2D Tensors\n"
      ]
    },
    {
      "cell_type": "code",
      "metadata": {
        "id": "tAV2RXZ1dQvj",
        "colab_type": "code",
        "outputId": "bd44fe3f-ef17-4f70-a237-577ac5f8aecd",
        "colab": {
          "base_uri": "https://localhost:8080/"
        }
      },
      "source": [
        "a = [[1,2,3],[4,5,6],[7,8,9]]\n",
        "a = torch.tensor(a)\n",
        "a"
      ],
      "execution_count": 0,
      "outputs": [
        {
          "output_type": "execute_result",
          "data": {
            "text/plain": [
              "tensor([[1, 2, 3],\n",
              "        [4, 5, 6],\n",
              "        [7, 8, 9]])"
            ]
          },
          "metadata": {
            "tags": []
          },
          "execution_count": 28
        }
      ]
    },
    {
      "cell_type": "code",
      "metadata": {
        "id": "CTAFJSSRdoT6",
        "colab_type": "code",
        "outputId": "8d73ff53-6af9-4f35-e241-2fabe221c5a0",
        "colab": {
          "base_uri": "https://localhost:8080/"
        }
      },
      "source": [
        "print(a.size())\n",
        "print(a.shape)\n",
        "print(a.numel())"
      ],
      "execution_count": 0,
      "outputs": [
        {
          "output_type": "stream",
          "text": [
            "torch.Size([3, 3])\n",
            "torch.Size([3, 3])\n",
            "9\n"
          ],
          "name": "stdout"
        }
      ]
    },
    {
      "cell_type": "markdown",
      "metadata": {
        "id": "83fh9zkMbxki",
        "colab_type": "text"
      },
      "source": [
        "### Indexing and Slicing"
      ]
    },
    {
      "cell_type": "code",
      "metadata": {
        "id": "uxkNegUNd92R",
        "colab_type": "code",
        "outputId": "5d619b7f-bc4f-4788-9a4e-38f95c282988",
        "colab": {
          "base_uri": "https://localhost:8080/"
        }
      },
      "source": [
        "print(a[0][0])\n",
        "print(a[0,0])\n",
        "\n",
        "print(a[0][0:2])\n",
        "print(a[0,0:2])"
      ],
      "execution_count": 0,
      "outputs": [
        {
          "output_type": "stream",
          "text": [
            "tensor(1)\n",
            "tensor(1)\n",
            "tensor([1, 2])\n",
            "tensor([1, 2])\n"
          ],
          "name": "stdout"
        }
      ]
    },
    {
      "cell_type": "code",
      "metadata": {
        "id": "tEUrdlIspyHI",
        "colab_type": "code",
        "outputId": "0bb45c0b-31e9-41ce-f295-ff1341a0e96d",
        "colab": {
          "base_uri": "https://localhost:8080/"
        }
      },
      "source": [
        "print(a)\n",
        "\n",
        "print(\"-----------------\")\n",
        "print(\"Print middle row\")\n",
        "print(a[1,0:3])\n",
        "\n",
        "print(\"-----------------\")\n",
        "print(\"Print middle col\")\n",
        "print(a[0:3,1])"
      ],
      "execution_count": 0,
      "outputs": [
        {
          "output_type": "stream",
          "text": [
            "tensor([[1, 2, 3],\n",
            "        [4, 5, 6],\n",
            "        [7, 8, 9]])\n",
            "-----------------\n",
            "Print middle row\n",
            "tensor([4, 5, 6])\n",
            "-----------------\n",
            "Print middle col\n",
            "tensor([2, 5, 8])\n"
          ],
          "name": "stdout"
        }
      ]
    },
    {
      "cell_type": "markdown",
      "metadata": {
        "id": "sZ6mSdk6b1vs",
        "colab_type": "text"
      },
      "source": [
        "### Basic Operations"
      ]
    },
    {
      "cell_type": "code",
      "metadata": {
        "id": "OkGsiN1JefNB",
        "colab_type": "code",
        "outputId": "e92d333d-aefa-4c6f-e282-b64b0efc45c0",
        "colab": {
          "base_uri": "https://localhost:8080/"
        }
      },
      "source": [
        "b = a * 2\n",
        "b"
      ],
      "execution_count": 0,
      "outputs": [
        {
          "output_type": "execute_result",
          "data": {
            "text/plain": [
              "tensor([[ 2,  4,  6],\n",
              "        [ 8, 10, 12],\n",
              "        [14, 16, 18]])"
            ]
          },
          "metadata": {
            "tags": []
          },
          "execution_count": 32
        }
      ]
    },
    {
      "cell_type": "code",
      "metadata": {
        "id": "2NPrhj-flVKU",
        "colab_type": "code",
        "outputId": "8e89c192-3ec3-46f3-f7ef-b3bc62f84a58",
        "colab": {
          "base_uri": "https://localhost:8080/"
        }
      },
      "source": [
        "print(a + b)\n",
        "print(a * b)"
      ],
      "execution_count": 0,
      "outputs": [
        {
          "output_type": "stream",
          "text": [
            "tensor([[ 3,  6,  9],\n",
            "        [12, 15, 18],\n",
            "        [21, 24, 27]])\n",
            "tensor([[  2,   8,  18],\n",
            "        [ 32,  50,  72],\n",
            "        [ 98, 128, 162]])\n"
          ],
          "name": "stdout"
        }
      ]
    },
    {
      "cell_type": "code",
      "metadata": {
        "id": "xPy223wNlpwC",
        "colab_type": "code",
        "outputId": "63b12440-d5f6-4139-f120-a0fbb320330e",
        "colab": {
          "base_uri": "https://localhost:8080/"
        }
      },
      "source": [
        "try:\n",
        "    c = torch.dot(a,b)\n",
        "    print(c)\n",
        "except:\n",
        "    print(\"torch.dot is only for 1D tensors\")\n",
        "    c = torch.mm(a,b)\n",
        "    print(c)"
      ],
      "execution_count": 0,
      "outputs": [
        {
          "output_type": "stream",
          "text": [
            "torch.dot is only for 1D tensors\n",
            "tensor([[ 60,  72,  84],\n",
            "        [132, 162, 192],\n",
            "        [204, 252, 300]])\n"
          ],
          "name": "stdout"
        }
      ]
    },
    {
      "cell_type": "markdown",
      "metadata": {
        "id": "mBDk6hBjGjFg",
        "colab_type": "text"
      },
      "source": [
        "## Diff Calculus"
      ]
    },
    {
      "cell_type": "markdown",
      "metadata": {
        "id": "WEMA9QCjmFqq",
        "colab_type": "text"
      },
      "source": [
        "### Derivatives in PyTorch"
      ]
    },
    {
      "cell_type": "code",
      "metadata": {
        "id": "o2gEYdSlCu69",
        "colab_type": "code",
        "outputId": "ed3509ff-2cb9-4e93-bcd0-546f393040fc",
        "colab": {
          "base_uri": "https://localhost:8080/"
        }
      },
      "source": [
        "# set value of x and enable gradient\n",
        "x = torch.tensor(2.0, requires_grad = True)\n",
        "\n",
        "# Function\n",
        "y = x**2\n",
        "\n",
        "# Calculate derivative equations\n",
        "y.backward()\n",
        "\n",
        "# Find the gradient(dy/dx) at x = 2\n",
        "x.grad"
      ],
      "execution_count": 0,
      "outputs": [
        {
          "output_type": "execute_result",
          "data": {
            "text/plain": [
              "tensor(4.)"
            ]
          },
          "metadata": {
            "tags": []
          },
          "execution_count": 35
        }
      ]
    },
    {
      "cell_type": "code",
      "metadata": {
        "id": "wjImoAA5FBBw",
        "colab_type": "code",
        "outputId": "aae69ad3-1009-4cf1-dec2-43719b4037a7",
        "colab": {
          "base_uri": "https://localhost:8080/"
        }
      },
      "source": [
        "x = torch.tensor(2.0, requires_grad = True)\n",
        "y = x**2 + 2*x + 1\n",
        "\n",
        "y.backward()\n",
        "\n",
        "x.grad"
      ],
      "execution_count": 0,
      "outputs": [
        {
          "output_type": "execute_result",
          "data": {
            "text/plain": [
              "tensor(6.)"
            ]
          },
          "metadata": {
            "tags": []
          },
          "execution_count": 36
        }
      ]
    },
    {
      "cell_type": "markdown",
      "metadata": {
        "id": "YYbbElSiGy6A",
        "colab_type": "text"
      },
      "source": [
        "### Partial Derivatives in Pytorch"
      ]
    },
    {
      "cell_type": "code",
      "metadata": {
        "id": "PFnWbO9NG2X4",
        "colab_type": "code",
        "outputId": "4c03f91a-256d-405a-9788-10615b7acc0e",
        "colab": {
          "base_uri": "https://localhost:8080/"
        }
      },
      "source": [
        "u = torch.tensor(1.0, requires_grad = True)\n",
        "v = torch.tensor(2.0, requires_grad = True)\n",
        "\n",
        "f = u*v + u**2\n",
        "\n",
        "f.backward()\n",
        "\n",
        "print(u.grad)\n",
        "print(v.grad)"
      ],
      "execution_count": 0,
      "outputs": [
        {
          "output_type": "stream",
          "text": [
            "tensor(4.)\n",
            "tensor(1.)\n"
          ],
          "name": "stdout"
        }
      ]
    },
    {
      "cell_type": "markdown",
      "metadata": {
        "id": "TNF0gea2irA0",
        "colab_type": "text"
      },
      "source": [
        "### Subclass Autograd function"
      ]
    },
    {
      "cell_type": "code",
      "metadata": {
        "id": "bLnrFIefikE2",
        "colab_type": "code",
        "colab": {}
      },
      "source": [
        "class SQ(torch.autograd.Function):\n",
        "\n",
        "\n",
        "    @staticmethod\n",
        "    def forward(ctx,i):\n",
        "        \"\"\"\n",
        "        In the forward pass we receive a Tensor containing the input and return\n",
        "        a Tensor containing the output. ctx is a context object that can be used\n",
        "        to stash information for backward computation. You can cache arbitrary\n",
        "        objects for use in the backward pass using the ctx.save_for_backward method.\n",
        "        \"\"\"\n",
        "        result=i**2\n",
        "        ctx.save_for_backward(i)        \n",
        "        return result\n",
        "\n",
        "    @staticmethod\n",
        "    def backward(ctx, grad_output):\n",
        "        \"\"\"\n",
        "        In the backward pass we receive a Tensor containing the gradient of the loss\n",
        "        with respect to the output, and we need to compute the gradient of the loss\n",
        "        with respect to the input.\n",
        "        \"\"\"\n",
        "        i, = ctx.saved_tensors\n",
        "        grad_output = 2*i\n",
        "        return grad_output"
      ],
      "execution_count": 0,
      "outputs": []
    },
    {
      "cell_type": "code",
      "metadata": {
        "id": "xVOjKE4oik80",
        "colab_type": "code",
        "outputId": "8d9bdf29-e3e4-4b88-8c8d-5a11a2c44bf1",
        "colab": {
          "base_uri": "https://localhost:8080/"
        }
      },
      "source": [
        "x=torch.tensor(2.0,requires_grad=True )\n",
        "sq=SQ.apply\n",
        "\n",
        "y=sq(x)\n",
        "y\n",
        "print(y.grad_fn)\n",
        "y.backward()\n",
        "x.grad"
      ],
      "execution_count": 0,
      "outputs": [
        {
          "output_type": "stream",
          "text": [
            "<torch.autograd.function.SQBackward object at 0x7f9b082db048>\n"
          ],
          "name": "stdout"
        },
        {
          "output_type": "execute_result",
          "data": {
            "text/plain": [
              "tensor(4.)"
            ]
          },
          "metadata": {
            "tags": []
          },
          "execution_count": 39
        }
      ]
    },
    {
      "cell_type": "markdown",
      "metadata": {
        "id": "I91uVqE1izl8",
        "colab_type": "text"
      },
      "source": [
        "### X**2 graph"
      ]
    },
    {
      "cell_type": "code",
      "metadata": {
        "id": "VJu39p2ti4b7",
        "colab_type": "code",
        "outputId": "287d19be-5537-49e4-d23e-10bea2bc34ca",
        "colab": {
          "base_uri": "https://localhost:8080/"
        }
      },
      "source": [
        "# Calculate the derivative with multiple values\n",
        "\n",
        "x = torch.linspace(-10, 10, 10, requires_grad = True)\n",
        "Y = x ** 2\n",
        "y = torch.sum(x ** 2)\n",
        "\n",
        "# Take the derivative with respect to multiple value. Plot out the function and its derivative\n",
        "\n",
        "y.backward()\n",
        "\n",
        "plt.plot(x.detach().numpy(), Y.detach().numpy(), label = 'function')\n",
        "plt.plot(x.detach().numpy(), x.grad.detach().numpy(), label = 'derivative')\n",
        "plt.xlabel('x')\n",
        "plt.legend()\n",
        "plt.show()"
      ],
      "execution_count": 0,
      "outputs": [
        {
          "output_type": "display_data",
          "data": {
            "image/png": "[encoded data removed]",
            "text/plain": [
              "<Figure size 432x288 with 1 Axes>"
            ]
          },
          "metadata": {
            "tags": []
          }
        }
      ]
    },
    {
      "cell_type": "markdown",
      "metadata": {
        "id": "_ZD9FRTxi8Dr",
        "colab_type": "text"
      },
      "source": [
        "### Relu Graph"
      ]
    },
    {
      "cell_type": "code",
      "metadata": {
        "id": "Cp1eSfffjAD2",
        "colab_type": "code",
        "outputId": "02399bcb-97f2-4959-9f3d-82e9b1531e94",
        "colab": {
          "base_uri": "https://localhost:8080/"
        }
      },
      "source": [
        "# Take the derivative of Relu with respect to multiple value. Plot out the function and its derivative\n",
        "\n",
        "x = torch.linspace(-10, 10, 1000, requires_grad = True)\n",
        "Y = torch.relu(x)\n",
        "y = Y.sum()\n",
        "y.backward()\n",
        "plt.plot(x.detach().numpy(), Y.detach().numpy(), label = 'function')\n",
        "plt.plot(x.detach().numpy(), x.grad.detach().numpy(), label = 'derivative')\n",
        "plt.xlabel('x')\n",
        "plt.legend()\n",
        "plt.show()"
      ],
      "execution_count": 0,
      "outputs": [
        {
          "output_type": "display_data",
          "data": {
            "image/png": "[encoded data removed]",
            "text/plain": [
              "<Figure size 432x288 with 1 Axes>"
            ]
          },
          "metadata": {
            "tags": []
          }
        }
      ]
    },
    {
      "cell_type": "markdown",
      "metadata": {
        "id": "I5tL9sW-pYL9",
        "colab_type": "text"
      },
      "source": [
        ""
      ]
    },
    {
      "cell_type": "markdown",
      "metadata": {
        "id": "1oz6SczIpZSD",
        "colab_type": "text"
      },
      "source": [
        "## Simple Dataset"
      ]
    },
    {
      "cell_type": "markdown",
      "metadata": {
        "id": "7SsVhwKRpesk",
        "colab_type": "text"
      },
      "source": [
        "### Dataset class and Object"
      ]
    },
    {
      "cell_type": "code",
      "metadata": {
        "id": "ZYKTnxi3yhCF",
        "colab_type": "code",
        "colab": {}
      },
      "source": [
        "from torch.utils.data import Dataset"
      ],
      "execution_count": 0,
      "outputs": []
    },
    {
      "cell_type": "code",
      "metadata": {
        "id": "fwUGFLfzIYdD",
        "colab_type": "code",
        "colab": {}
      },
      "source": [
        "class toy_set(Dataset):\n",
        "\n",
        "    def __init__(self, length = 100, transform = None):\n",
        "        self.len        =   length\n",
        "        self.transform  =   transform\n",
        "        self.x          =   2 * torch.ones(length, 2)\n",
        "        self.y          =   torch.ones(length, 1)\n",
        "\n",
        "    def __getitem__(self, index):\n",
        "        sample = self.x[index], self.y[index]        \n",
        "        if self.transform:\n",
        "            sample = self.transform(sample)        \n",
        "        return(sample)\n",
        "\n",
        "    def __len__(self):\n",
        "        return(self.len)"
      ],
      "execution_count": 0,
      "outputs": []
    },
    {
      "cell_type": "code",
      "metadata": {
        "id": "3i1VxlZ6S4po",
        "colab_type": "code",
        "colab": {}
      },
      "source": [
        "dataset = toy_set()"
      ],
      "execution_count": 0,
      "outputs": []
    },
    {
      "cell_type": "code",
      "metadata": {
        "id": "uXh4j41OTrFv",
        "colab_type": "code",
        "outputId": "853e4702-06e1-4490-9085-703f0669adaa",
        "colab": {
          "base_uri": "https://localhost:8080/"
        }
      },
      "source": [
        "len(dataset)"
      ],
      "execution_count": 0,
      "outputs": [
        {
          "output_type": "execute_result",
          "data": {
            "text/plain": [
              "100"
            ]
          },
          "metadata": {
            "tags": []
          },
          "execution_count": 45
        }
      ]
    },
    {
      "cell_type": "markdown",
      "metadata": {
        "id": "4P_fgJHqp4aS",
        "colab_type": "text"
      },
      "source": [
        "### Dataset Transform"
      ]
    },
    {
      "cell_type": "code",
      "metadata": {
        "id": "tBX47iLCT9Z7",
        "colab_type": "code",
        "colab": {}
      },
      "source": [
        "class addi(object):\n",
        "    \n",
        "    def __init__(self, add_val = 1):\n",
        "        self.add_val = add_val\n",
        "\n",
        "    def __call__(self, sample):\n",
        "        x = sample[0]\n",
        "        y = sample[1]\n",
        "        x = x + self.add_val\n",
        "        y = y + self.add_val\n",
        "        sample = x,y\n",
        "        return(sample)"
      ],
      "execution_count": 0,
      "outputs": []
    },
    {
      "cell_type": "code",
      "metadata": {
        "id": "ylse4_MeU7u0",
        "colab_type": "code",
        "colab": {}
      },
      "source": [
        "class mult(object):\n",
        "\n",
        "    def __init__(self, mult_val = 1):\n",
        "        self.mult_val = mult_val\n",
        "\n",
        "    def __call__(self, sample):\n",
        "        x = sample[0]\n",
        "        y = sample[1]\n",
        "        x = x * self.mult_val\n",
        "        y = y * self.mult_val\n",
        "        sample = x,y\n",
        "        return(sample)"
      ],
      "execution_count": 0,
      "outputs": []
    },
    {
      "cell_type": "code",
      "metadata": {
        "id": "CQ8jcTBRVyEs",
        "colab_type": "code",
        "outputId": "c96800da-35e5-424d-9039-1f9784be4986",
        "colab": {
          "base_uri": "https://localhost:8080/"
        }
      },
      "source": [
        "obj_add = addi(10)\n",
        "\n",
        "print(dataset[0])\n",
        "\n",
        "print(obj_add(dataset[0]))"
      ],
      "execution_count": 0,
      "outputs": [
        {
          "output_type": "stream",
          "text": [
            "(tensor([2., 2.]), tensor([1.]))\n",
            "(tensor([12., 12.]), tensor([11.]))\n"
          ],
          "name": "stdout"
        }
      ]
    },
    {
      "cell_type": "code",
      "metadata": {
        "id": "hPIbjvKsWHI_",
        "colab_type": "code",
        "outputId": "abe1cbc0-a9b2-44ac-c7c9-5ef5502e4c12",
        "colab": {
          "base_uri": "https://localhost:8080/"
        }
      },
      "source": [
        "obj_mult = mult(5)\n",
        "\n",
        "print(dataset[0])\n",
        "\n",
        "print(obj_mult(dataset[0]))"
      ],
      "execution_count": 0,
      "outputs": [
        {
          "output_type": "stream",
          "text": [
            "(tensor([2., 2.]), tensor([1.]))\n",
            "(tensor([10., 10.]), tensor([5.]))\n"
          ],
          "name": "stdout"
        }
      ]
    },
    {
      "cell_type": "code",
      "metadata": {
        "id": "Qb7xBUx3dPIG",
        "colab_type": "code",
        "outputId": "d92b98d5-32d3-4843-ef95-fa70a155144d",
        "colab": {
          "base_uri": "https://localhost:8080/"
        }
      },
      "source": [
        "ds1 = toy_set(transform = obj_add)\n",
        "ds1[0]"
      ],
      "execution_count": 0,
      "outputs": [
        {
          "output_type": "execute_result",
          "data": {
            "text/plain": [
              "(tensor([12., 12.]), tensor([11.]))"
            ]
          },
          "metadata": {
            "tags": []
          },
          "execution_count": 50
        }
      ]
    },
    {
      "cell_type": "markdown",
      "metadata": {
        "id": "o8nD1Akqp97S",
        "colab_type": "text"
      },
      "source": [
        "### Compose Transform"
      ]
    },
    {
      "cell_type": "code",
      "metadata": {
        "id": "_IqNRlaLWUbK",
        "colab_type": "code",
        "colab": {}
      },
      "source": [
        "from torchvision import transforms"
      ],
      "execution_count": 0,
      "outputs": []
    },
    {
      "cell_type": "code",
      "metadata": {
        "id": "mlaSw9NCWdGx",
        "colab_type": "code",
        "colab": {}
      },
      "source": [
        "data_tranforms = transforms.Compose([addi(), mult()])"
      ],
      "execution_count": 0,
      "outputs": []
    },
    {
      "cell_type": "code",
      "metadata": {
        "id": "gAs0fxz8fagq",
        "colab_type": "code",
        "colab": {}
      },
      "source": [
        "data_tranforms = transforms.Compose([obj_add, obj_mult])"
      ],
      "execution_count": 0,
      "outputs": []
    },
    {
      "cell_type": "code",
      "metadata": {
        "id": "4sOIDrbcWorR",
        "colab_type": "code",
        "colab": {}
      },
      "source": [
        "dataset1 = toy_set(transform = data_tranforms)"
      ],
      "execution_count": 0,
      "outputs": []
    },
    {
      "cell_type": "code",
      "metadata": {
        "id": "EMmEKiD0X4Xx",
        "colab_type": "code",
        "outputId": "d22e9401-6801-4dc4-c018-4d3af612e4fb",
        "colab": {
          "base_uri": "https://localhost:8080/"
        }
      },
      "source": [
        "dataset1[0]"
      ],
      "execution_count": 0,
      "outputs": [
        {
          "output_type": "execute_result",
          "data": {
            "text/plain": [
              "(tensor([60., 60.]), tensor([55.]))"
            ]
          },
          "metadata": {
            "tags": []
          },
          "execution_count": 55
        }
      ]
    },
    {
      "cell_type": "code",
      "metadata": {
        "id": "6gSYjXJmX7mw",
        "colab_type": "code",
        "outputId": "95f50b50-b716-4cdd-83c3-00d2de69da11",
        "colab": {
          "base_uri": "https://localhost:8080/"
        }
      },
      "source": [
        "dataset[0]"
      ],
      "execution_count": 0,
      "outputs": [
        {
          "output_type": "execute_result",
          "data": {
            "text/plain": [
              "(tensor([2., 2.]), tensor([1.]))"
            ]
          },
          "metadata": {
            "tags": []
          },
          "execution_count": 56
        }
      ]
    },
    {
      "cell_type": "markdown",
      "metadata": {
        "id": "kUAERNPuAliT",
        "colab_type": "text"
      },
      "source": [
        "## Dataset Class"
      ]
    },
    {
      "cell_type": "markdown",
      "metadata": {
        "id": "4zeDloQIAqV2",
        "colab_type": "text"
      },
      "source": [
        "### Custom Dataset class for images"
      ]
    },
    {
      "cell_type": "code",
      "metadata": {
        "id": "_OuhwXhEA03D",
        "colab_type": "code",
        "outputId": "3e537d24-6d48-43f7-e53f-32e3c52326b0",
        "colab": {
          "base_uri": "https://localhost:8080/"
        }
      },
      "source": [
        "! wget https://s3-api.us-geo.objectstorage.softlayer.net/cf-courses-data/CognitiveClass/DL0110EN/datasets/img.tar.gz -P /resources/data\n",
        "!tar -xf /resources/data/img.tar.gz \n",
        "\n",
        "!wget https://s3-api.us-geo.objectstorage.softlayer.net/cf-courses-data/CognitiveClass/DL0110EN/datasets/index.csv "
      ],
      "execution_count": 0,
      "outputs": [
        {
          "output_type": "stream",
          "text": [
            "--2020-02-08 13:42:11--  https://s3-api.us-geo.objectstorage.softlayer.net/cf-courses-data/CognitiveClass/DL0110EN/datasets/img.tar.gz\n",
            "Resolving s3-api.us-geo.objectstorage.softlayer.net (s3-api.us-geo.objectstorage.softlayer.net)... 67.228.254.196\n",
            "Connecting to s3-api.us-geo.objectstorage.softlayer.net (s3-api.us-geo.objectstorage.softlayer.net)|67.228.254.196|:443... connected.\n",
            "HTTP request sent, awaiting response... 200 OK\n",
            "Length: 50460 (49K) [application/octet-stream]\n",
            "Saving to: ‘/resources/data/img.tar.gz’\n",
            "\n",
            "\rimg.tar.gz            0%[                    ]       0  --.-KB/s               \rimg.tar.gz          100%[===================>]  49.28K  --.-KB/s    in 0.02s   \n",
            "\n",
            "2020-02-08 13:42:11 (2.22 MB/s) - ‘/resources/data/img.tar.gz’ saved [50460/50460]\n",
            "\n",
            "--2020-02-08 13:42:15--  https://s3-api.us-geo.objectstorage.softlayer.net/cf-courses-data/CognitiveClass/DL0110EN/datasets/index.csv\n",
            "Resolving s3-api.us-geo.objectstorage.softlayer.net (s3-api.us-geo.objectstorage.softlayer.net)... 67.228.254.196\n",
            "Connecting to s3-api.us-geo.objectstorage.softlayer.net (s3-api.us-geo.objectstorage.softlayer.net)|67.228.254.196|:443... connected.\n",
            "HTTP request sent, awaiting response... 200 OK\n",
            "Length: 1680905 (1.6M) [text/csv]\n",
            "Saving to: ‘index.csv’\n",
            "\n",
            "index.csv           100%[===================>]   1.60M  1.31MB/s    in 1.2s    \n",
            "\n",
            "2020-02-08 13:42:16 (1.31 MB/s) - ‘index.csv’ saved [1680905/1680905]\n",
            "\n"
          ],
          "name": "stdout"
        }
      ]
    },
    {
      "cell_type": "code",
      "metadata": {
        "id": "kbAgCCEpmZGc",
        "colab_type": "code",
        "outputId": "c4583d15-5be0-4e84-dc36-9af5abe5bfe8",
        "colab": {
          "base_uri": "https://localhost:8080/"
        }
      },
      "source": [
        "import torch\n",
        "from torch.utils.data import Dataset, DataLoader\n",
        "torch.manual_seed(0)"
      ],
      "execution_count": 0,
      "outputs": [
        {
          "output_type": "execute_result",
          "data": {
            "text/plain": [
              "<torch._C.Generator at 0x7f9a9b1264f0>"
            ]
          },
          "metadata": {
            "tags": []
          },
          "execution_count": 58
        }
      ]
    },
    {
      "cell_type": "code",
      "metadata": {
        "id": "FdogI5eImcSD",
        "colab_type": "code",
        "colab": {}
      },
      "source": [
        "from PIL import Image\n",
        "import pandas as pd\n",
        "import os"
      ],
      "execution_count": 0,
      "outputs": []
    },
    {
      "cell_type": "code",
      "metadata": {
        "id": "6VYTCJJVmfFb",
        "colab_type": "code",
        "colab": {}
      },
      "source": [
        "directory = \"\"\n",
        "csv_file = 'index.csv'"
      ],
      "execution_count": 0,
      "outputs": []
    },
    {
      "cell_type": "markdown",
      "metadata": {
        "id": "77VWhAmJVjXS",
        "colab_type": "text"
      },
      "source": [
        "#### Class"
      ]
    },
    {
      "cell_type": "code",
      "metadata": {
        "id": "hyIQUV55mhfb",
        "colab_type": "code",
        "colab": {}
      },
      "source": [
        "class Dataset(Dataset):\n",
        "    def __init__(self, csv_file, directory, transform = None):\n",
        "        self.csv_file = csv_file\n",
        "        self.directory = directory\n",
        "        self.transform = transform\n",
        "\n",
        "        file_path = os.path.join(self.directory, self.csv_file)\n",
        "\n",
        "        self.file_data = pd.read_csv(file_path)\n",
        "        self.len = self.file_data.shape[0]\n",
        "\n",
        "    def __len__(self):\n",
        "        return(self.len)\n",
        "\n",
        "    def __getitem__(self, idx):\n",
        "        img_path = os.path.join(self.directory, self.file_data.iloc[idx, 1])\n",
        "        img_data = Image.open(img_path)\n",
        "\n",
        "        y = self.file_data.iloc[idx,0]\n",
        "\n",
        "        if self.transform:\n",
        "            img_data = self.transform(img_data)\n",
        "        return(img_data, y)\n"
      ],
      "execution_count": 0,
      "outputs": []
    },
    {
      "cell_type": "code",
      "metadata": {
        "id": "cxnHGb0IoAep",
        "colab_type": "code",
        "colab": {}
      },
      "source": [
        "df = Dataset(csv_file = csv_file, directory = directory, transform = None)"
      ],
      "execution_count": 0,
      "outputs": []
    },
    {
      "cell_type": "code",
      "metadata": {
        "id": "gv_R2s3NoKgJ",
        "colab_type": "code",
        "outputId": "f6ddf0da-5756-42d1-806d-5a85d9a1209b",
        "colab": {
          "base_uri": "https://localhost:8080/"
        }
      },
      "source": [
        "len(df)"
      ],
      "execution_count": 0,
      "outputs": [
        {
          "output_type": "execute_result",
          "data": {
            "text/plain": [
              "60000"
            ]
          },
          "metadata": {
            "tags": []
          },
          "execution_count": 63
        }
      ]
    },
    {
      "cell_type": "code",
      "metadata": {
        "id": "5_OMGmGHoPYp",
        "colab_type": "code",
        "outputId": "00275c47-89a8-43fe-da26-c4dd749ae5f1",
        "colab": {
          "base_uri": "https://localhost:8080/"
        }
      },
      "source": [
        "x = df[0][0]\n",
        "y = df[0][1]\n",
        "\n",
        "y"
      ],
      "execution_count": 0,
      "outputs": [
        {
          "output_type": "execute_result",
          "data": {
            "text/plain": [
              "'Ankle boot'"
            ]
          },
          "metadata": {
            "tags": []
          },
          "execution_count": 64
        }
      ]
    },
    {
      "cell_type": "code",
      "metadata": {
        "id": "f30IrTu8oVXh",
        "colab_type": "code",
        "outputId": "aa64e9f0-551e-41e5-83a8-25ff5aaddcd3",
        "colab": {
          "base_uri": "https://localhost:8080/"
        }
      },
      "source": [
        "x"
      ],
      "execution_count": 0,
      "outputs": [
        {
          "output_type": "execute_result",
          "data": {
            "image/png": "[encoded data removed]",
            "text/plain": [
              "<PIL.PngImagePlugin.PngImageFile image mode=L size=28x28 at 0x7F9A90DDB128>"
            ]
          },
          "metadata": {
            "tags": []
          },
          "execution_count": 65
        }
      ]
    },
    {
      "cell_type": "code",
      "metadata": {
        "id": "7ZYJ83ZloXv4",
        "colab_type": "code",
        "outputId": "fcb64e59-52fb-4ce9-ad70-b01dc9f5774f",
        "colab": {
          "base_uri": "https://localhost:8080/"
        }
      },
      "source": [
        "for i in range(5):\n",
        "    print(f'x : {df[i][0]} --- y : {df[i][1]}')"
      ],
      "execution_count": 0,
      "outputs": [
        {
          "output_type": "stream",
          "text": [
            "x : <PIL.PngImagePlugin.PngImageFile image mode=L size=28x28 at 0x7F9A90912278> --- y : Ankle boot\n",
            "x : <PIL.PngImagePlugin.PngImageFile image mode=L size=28x28 at 0x7F9A90912278> --- y : T-shirt\n",
            "x : <PIL.PngImagePlugin.PngImageFile image mode=L size=28x28 at 0x7F9A90912208> --- y : T-shirt\n",
            "x : <PIL.PngImagePlugin.PngImageFile image mode=L size=28x28 at 0x7F9A90912278> --- y : Dress\n",
            "x : <PIL.PngImagePlugin.PngImageFile image mode=L size=28x28 at 0x7F9A90912208> --- y : T-shirt\n"
          ],
          "name": "stdout"
        }
      ]
    },
    {
      "cell_type": "code",
      "metadata": {
        "id": "3QOv5m63L0Bl",
        "colab_type": "code",
        "outputId": "f9969d47-6346-460e-ac0a-51d741dba360",
        "colab": {
          "base_uri": "https://localhost:8080/"
        }
      },
      "source": [
        "image=df[0][0]\n",
        "y=df[0][1]\n",
        "\n",
        "plt.imshow(image,cmap='gray', vmin=0, vmax=255)\n",
        "plt.title(y)\n",
        "plt.show()"
      ],
      "execution_count": 0,
      "outputs": [
        {
          "output_type": "display_data",
          "data": {
            "image/png": "[encoded data removed]",
            "text/plain": [
              "<Figure size 432x288 with 1 Axes>"
            ]
          },
          "metadata": {
            "tags": []
          }
        }
      ]
    },
    {
      "cell_type": "code",
      "metadata": {
        "id": "7TNE-aZvMA1u",
        "colab_type": "code",
        "outputId": "a189dbca-f49f-48d2-ddd2-6cca076b8225",
        "colab": {
          "base_uri": "https://localhost:8080/"
        }
      },
      "source": [
        "image=df[9][0]\n",
        "y=df[9][1]\n",
        "\n",
        "plt.imshow(image,cmap='gray', vmin=0, vmax=255)\n",
        "plt.title(y)\n",
        "plt.show()"
      ],
      "execution_count": 0,
      "outputs": [
        {
          "output_type": "display_data",
          "data": {
            "image/png": "[encoded data removed]",
            "text/plain": [
              "<Figure size 432x288 with 1 Axes>"
            ]
          },
          "metadata": {
            "tags": []
          }
        }
      ]
    },
    {
      "cell_type": "markdown",
      "metadata": {
        "id": "HBFRnndlM191",
        "colab_type": "text"
      },
      "source": [
        "### Torchvision Transforms"
      ]
    },
    {
      "cell_type": "code",
      "metadata": {
        "id": "M4ysihn4M462",
        "colab_type": "code",
        "colab": {}
      },
      "source": [
        "from torchvision import transforms"
      ],
      "execution_count": 0,
      "outputs": []
    },
    {
      "cell_type": "markdown",
      "metadata": {
        "id": "EXrJ_9ITQhxX",
        "colab_type": "text"
      },
      "source": [
        "#### Center Crop and To tensor"
      ]
    },
    {
      "cell_type": "code",
      "metadata": {
        "id": "PRh4N9NgM8r0",
        "colab_type": "code",
        "outputId": "e0e8f176-9bd0-430b-ac04-8dba8e33a356",
        "colab": {
          "base_uri": "https://localhost:8080/"
        }
      },
      "source": [
        "all_transforms = transforms.Compose([transforms.CenterCrop(20), transforms.ToTensor()])\n",
        "dataset = Dataset(csv_file = csv_file, directory = directory, transform = all_transforms)\n",
        "print(dataset[0][0].shape)"
      ],
      "execution_count": 0,
      "outputs": [
        {
          "output_type": "stream",
          "text": [
            "torch.Size([1, 20, 20])\n"
          ],
          "name": "stdout"
        }
      ]
    },
    {
      "cell_type": "code",
      "metadata": {
        "id": "_It3FHuRNd1E",
        "colab_type": "code",
        "colab": {}
      },
      "source": [
        "def show_data(data_sample, shape = (28, 28)):\n",
        "    plt.imshow(data_sample[0].numpy().reshape(shape), cmap='gray')\n",
        "    plt.title('y = ' + data_sample[1])"
      ],
      "execution_count": 0,
      "outputs": []
    },
    {
      "cell_type": "code",
      "metadata": {
        "id": "6fO1b710OIiI",
        "colab_type": "code",
        "outputId": "987ef0ad-ab76-4dbb-ed69-ddbac7d10433",
        "colab": {
          "base_uri": "https://localhost:8080/"
        }
      },
      "source": [
        "show_data(dataset[0],shape = (20, 20))"
      ],
      "execution_count": 0,
      "outputs": [
        {
          "output_type": "display_data",
          "data": {
            "image/png": "[encoded data removed]",
            "text/plain": [
              "<Figure size 432x288 with 1 Axes>"
            ]
          },
          "metadata": {
            "tags": []
          }
        }
      ]
    },
    {
      "cell_type": "code",
      "metadata": {
        "id": "21V0hHkMQEuY",
        "colab_type": "code",
        "outputId": "67b0e737-d376-4402-816b-c5ba6b535a77",
        "colab": {
          "base_uri": "https://localhost:8080/"
        }
      },
      "source": [
        "# Image converted to Tensors\n",
        "dataset[0][0][0][0:2]"
      ],
      "execution_count": 0,
      "outputs": [
        {
          "output_type": "execute_result",
          "data": {
            "text/plain": [
              "tensor([[0.0000, 0.0000, 0.0000, 0.0000, 0.0000, 0.0000, 0.0000, 0.0000, 0.0118,\n",
              "         0.0000, 0.1412, 0.5333, 0.4980, 0.2431, 0.2118, 0.0000, 0.0000, 0.0000,\n",
              "         0.0039, 0.0118],\n",
              "        [0.0000, 0.0000, 0.0000, 0.0000, 0.0000, 0.0000, 0.0000, 0.0000, 0.0235,\n",
              "         0.0000, 0.4000, 0.8000, 0.6902, 0.5255, 0.5647, 0.4824, 0.0902, 0.0000,\n",
              "         0.0000, 0.0000]])"
            ]
          },
          "metadata": {
            "tags": []
          },
          "execution_count": 73
        }
      ]
    },
    {
      "cell_type": "code",
      "metadata": {
        "id": "32k_Tky6PEMi",
        "colab_type": "code",
        "outputId": "eb9f6b4f-3420-4b3d-e6f0-8eede2635cfe",
        "colab": {
          "base_uri": "https://localhost:8080/"
        }
      },
      "source": [
        "dataset[0][0].numpy()[0][0:2]"
      ],
      "execution_count": 0,
      "outputs": [
        {
          "output_type": "execute_result",
          "data": {
            "text/plain": [
              "array([[0.        , 0.        , 0.        , 0.        , 0.        ,\n",
              "        0.        , 0.        , 0.        , 0.01176471, 0.        ,\n",
              "        0.14117648, 0.53333336, 0.49803922, 0.24313726, 0.21176471,\n",
              "        0.        , 0.        , 0.        , 0.00392157, 0.01176471],\n",
              "       [0.        , 0.        , 0.        , 0.        , 0.        ,\n",
              "        0.        , 0.        , 0.        , 0.02352941, 0.        ,\n",
              "        0.4       , 0.8       , 0.6901961 , 0.5254902 , 0.5647059 ,\n",
              "        0.48235294, 0.09019608, 0.        , 0.        , 0.        ]],\n",
              "      dtype=float32)"
            ]
          },
          "metadata": {
            "tags": []
          },
          "execution_count": 74
        }
      ]
    },
    {
      "cell_type": "markdown",
      "metadata": {
        "id": "RQQYhNDGQdyH",
        "colab_type": "text"
      },
      "source": [
        "#### Random vertical Flip and to tensor"
      ]
    },
    {
      "cell_type": "code",
      "metadata": {
        "id": "5-BPZiFIQqXB",
        "colab_type": "code",
        "outputId": "db817ba7-a41b-4b9d-9cbb-da0f4b4d47ef",
        "colab": {
          "base_uri": "https://localhost:8080/"
        }
      },
      "source": [
        "new_transforms = transforms.Compose([transforms.RandomVerticalFlip(p=1), transforms.ToTensor()])\n",
        "dataset1 = Dataset(csv_file = csv_file, directory = directory, transform=new_transforms)\n",
        "show_data(dataset1[0])"
      ],
      "execution_count": 0,
      "outputs": [
        {
          "output_type": "display_data",
          "data": {
            "image/png": "[encoded data removed]",
            "text/plain": [
              "<Figure size 432x288 with 1 Axes>"
            ]
          },
          "metadata": {
            "tags": []
          }
        }
      ]
    },
    {
      "cell_type": "markdown",
      "metadata": {
        "id": "hYr6umMMVy4Y",
        "colab_type": "text"
      },
      "source": [
        "### PreBuilt Datset and Mnist"
      ]
    },
    {
      "cell_type": "code",
      "metadata": {
        "id": "2H1MRkw6V2hb",
        "colab_type": "code",
        "outputId": "1b787a2a-72e3-4ccd-c3c0-c4511755b5af",
        "colab": {
          "base_uri": "https://localhost:8080/"
        }
      },
      "source": [
        "import torch\n",
        "import matplotlib.pyplot as plt\n",
        "import numpy as np\n",
        "torch.manual_seed(0)"
      ],
      "execution_count": 0,
      "outputs": [
        {
          "output_type": "execute_result",
          "data": {
            "text/plain": [
              "<torch._C.Generator at 0x7f9a9b1264f0>"
            ]
          },
          "metadata": {
            "tags": []
          },
          "execution_count": 76
        }
      ]
    },
    {
      "cell_type": "code",
      "metadata": {
        "id": "DyeJ1fGJWDFI",
        "colab_type": "code",
        "colab": {}
      },
      "source": [
        "def plot_data(data_sample, shape = (28, 28)):\n",
        "    plt.imshow(data_sample[0].numpy().reshape(shape), cmap = 'gray')\n",
        "    plt.title(\"Y = \" + str(data_sample[1]))"
      ],
      "execution_count": 0,
      "outputs": []
    },
    {
      "cell_type": "code",
      "metadata": {
        "id": "OeITJHWkWly6",
        "colab_type": "code",
        "colab": {}
      },
      "source": [
        "from torchvision import transforms\n",
        "import torchvision.datasets as dsets"
      ],
      "execution_count": 0,
      "outputs": []
    },
    {
      "cell_type": "code",
      "metadata": {
        "id": "nnv2-AjJX_k1",
        "colab_type": "code",
        "outputId": "d4905b5a-fb5c-4ade-9554-ea0377183aec",
        "colab": {
          "base_uri": "https://localhost:8080/",
          "referenced_widgets": [
            "279afc1aa6934797aa1197c21a8d59c6",
            "136956730e7d4cd083925486f51b426e",
            "ec9a0d8d627841bb9e016ab1492c6ca9",
            "f83254399e2b412a8b4c0f423f36ca18",
            "6cefc31f6aa54473adcdbc110dffc54b",
            "087497abaf434b5898569527a92a2c7f",
            "a5cb24a09f2e4cf1bdffba9ba77cd219",
            "587c9a8a04e341189dc5a9777944daef",
            "6735d31e03fd4cb8b976407e53f79367",
            "50f8299e109e45c492fd326ffb0ed973",
            "e7f647f7ed8b40b396178cc7802d46d2",
            "b62176ed6fe941aaad616b353a8fd0f6",
            "6859bec6f6d94fb5bc8177bab5e7d2a0",
            "2ee17e456cff4b69b9ab301b4a5478cb",
            "e765f226a6e647ac94c36e337a26c853",
            "70d4fd45814c4dbe8a8b7e83adc0c8dc",
            "33b74d7e1c4c4518b6a6049b8fa1f747",
            "09f4cea6f7a0438889047acd1cfa19f8",
            "81e12cff511a4453931293fd6a1bb227",
            "135c101a7b3e4ef7a1f5f180181c2140",
            "c9bed9b57fdc4a6d826d5bf895714a39",
            "00791b1aeda44b26ba09a42b9d736146",
            "993e7e14a04b4c929f46db375b177165",
            "b21b0c4580384a0bb6edd3fbc44098e7",
            "5a9fc91a149f4452957a6d7529ba1263",
            "00c11a8ffe0e4fcebeced0219031a193",
            "23834f2f0da9490c8a935a0881f271aa",
            "0bd8dea4114c4682bdf386f9c963bb28",
            "2a7acc58d7fb46e7803f669be1ff1567",
            "78eadbc4a2ea4fe795b539b9b3423d9c",
            "ca3c6f7e3921406ab3f1ad745a5f9c51",
            "51531fae76854511b8497e950e90dfc4"
          ]
        }
      },
      "source": [
        "df = dsets.MNIST(root = './data', \n",
        "                 train = False,\n",
        "                 download = True,\n",
        "                 transform = transforms.ToTensor()\n",
        "                 )"
      ],
      "execution_count": 0,
      "outputs": [
        {
          "output_type": "stream",
          "text": [
            "Downloading http://yann.lecun.com/exdb/mnist/train-images-idx3-ubyte.gz to ./data/MNIST/raw/train-images-idx3-ubyte.gz\n"
          ],
          "name": "stdout"
        },
        {
          "output_type": "display_data",
          "data": {
            "application/vnd.jupyter.widget-view+json": {
              "model_id": "279afc1aa6934797aa1197c21a8d59c6",
              "version_minor": 0,
              "version_major": 2
            },
            "text/plain": [
              "HBox(children=(IntProgress(value=1, bar_style='info', max=1), HTML(value='')))"
            ]
          },
          "metadata": {
            "tags": []
          }
        },
        {
          "output_type": "stream",
          "text": [
            "\n",
            "Extracting ./data/MNIST/raw/train-images-idx3-ubyte.gz to ./data/MNIST/raw\n",
            "Downloading http://yann.lecun.com/exdb/mnist/train-labels-idx1-ubyte.gz to ./data/MNIST/raw/train-labels-idx1-ubyte.gz\n"
          ],
          "name": "stdout"
        },
        {
          "output_type": "display_data",
          "data": {
            "application/vnd.jupyter.widget-view+json": {
              "model_id": "6735d31e03fd4cb8b976407e53f79367",
              "version_minor": 0,
              "version_major": 2
            },
            "text/plain": [
              "HBox(children=(IntProgress(value=1, bar_style='info', max=1), HTML(value='')))"
            ]
          },
          "metadata": {
            "tags": []
          }
        },
        {
          "output_type": "stream",
          "text": [
            "\n",
            "Extracting ./data/MNIST/raw/train-labels-idx1-ubyte.gz to ./data/MNIST/raw\n",
            "Downloading http://yann.lecun.com/exdb/mnist/t10k-images-idx3-ubyte.gz to ./data/MNIST/raw/t10k-images-idx3-ubyte.gz\n"
          ],
          "name": "stdout"
        },
        {
          "output_type": "display_data",
          "data": {
            "application/vnd.jupyter.widget-view+json": {
              "model_id": "33b74d7e1c4c4518b6a6049b8fa1f747",
              "version_minor": 0,
              "version_major": 2
            },
            "text/plain": [
              "HBox(children=(IntProgress(value=1, bar_style='info', max=1), HTML(value='')))"
            ]
          },
          "metadata": {
            "tags": []
          }
        },
        {
          "output_type": "stream",
          "text": [
            "\n",
            "Extracting ./data/MNIST/raw/t10k-images-idx3-ubyte.gz to ./data/MNIST/raw\n",
            "Downloading http://yann.lecun.com/exdb/mnist/t10k-labels-idx1-ubyte.gz to ./data/MNIST/raw/t10k-labels-idx1-ubyte.gz\n"
          ],
          "name": "stdout"
        },
        {
          "output_type": "display_data",
          "data": {
            "application/vnd.jupyter.widget-view+json": {
              "model_id": "5a9fc91a149f4452957a6d7529ba1263",
              "version_minor": 0,
              "version_major": 2
            },
            "text/plain": [
              "HBox(children=(IntProgress(value=1, bar_style='info', max=1), HTML(value='')))"
            ]
          },
          "metadata": {
            "tags": []
          }
        },
        {
          "output_type": "stream",
          "text": [
            "\n",
            "Extracting ./data/MNIST/raw/t10k-labels-idx1-ubyte.gz to ./data/MNIST/raw\n",
            "Processing...\n",
            "Done!\n"
          ],
          "name": "stdout"
        }
      ]
    },
    {
      "cell_type": "code",
      "metadata": {
        "id": "u5DAoE-kYeLM",
        "colab_type": "code",
        "outputId": "c5b06309-cc52-486d-a8df-1401abeb12a3",
        "colab": {
          "base_uri": "https://localhost:8080/"
        }
      },
      "source": [
        "plot_data(df[0], shape= (28,28))"
      ],
      "execution_count": 0,
      "outputs": [
        {
          "output_type": "display_data",
          "data": {
            "image/png": "[encoded data removed]",
            "text/plain": [
              "<Figure size 432x288 with 1 Axes>"
            ]
          },
          "metadata": {
            "tags": []
          }
        }
      ]
    },
    {
      "cell_type": "code",
      "metadata": {
        "id": "qFM5BYsXZH1d",
        "colab_type": "code",
        "colab": {}
      },
      "source": [
        "new_transforms1 = transforms.Compose([transforms.RandomVerticalFlip(p=1), transforms.ToTensor()])\n",
        "new_transforms2 = transforms.Compose([transforms.RandomRotation(degrees = 45.0), transforms.ToTensor()])\n",
        "\n",
        "df1 = dsets.MNIST(root = './data', \n",
        "                 train = False,\n",
        "                 download = True,\n",
        "                 transform = new_transforms1\n",
        "                 #transform = transforms.Compose([transforms.RandomRotation(45), transforms.ToTensor()])\n",
        "                 )"
      ],
      "execution_count": 0,
      "outputs": []
    },
    {
      "cell_type": "code",
      "metadata": {
        "id": "P1SLfRu7ZX35",
        "colab_type": "code",
        "outputId": "76741ef0-0686-4087-a7d3-04b3d84cfb54",
        "colab": {
          "base_uri": "https://localhost:8080/"
        }
      },
      "source": [
        "plot_data(df1[1], shape= (28,28))"
      ],
      "execution_count": 0,
      "outputs": [
        {
          "output_type": "display_data",
          "data": {
            "image/png": "[encoded data removed]",
            "text/plain": [
              "<Figure size 432x288 with 1 Axes>"
            ]
          },
          "metadata": {
            "tags": []
          }
        }
      ]
    },
    {
      "cell_type": "markdown",
      "metadata": {
        "id": "Yw4GOXfZ1jR5",
        "colab_type": "text"
      },
      "source": [
        "# Linear Regression"
      ]
    },
    {
      "cell_type": "markdown",
      "metadata": {
        "id": "hTg-YBhO1mue",
        "colab_type": "text"
      },
      "source": [
        "## Linear Regression in 1D - Prediction"
      ]
    },
    {
      "cell_type": "code",
      "metadata": {
        "id": "gzNSgEENAY25",
        "colab_type": "code",
        "colab": {}
      },
      "source": [
        "import torch\n",
        "\n",
        "w = torch.tensor(2.0, requires_grad = True)\n",
        "b = torch.tensor(-1.0, requires_grad = True)\n",
        "\n",
        "def forward(x):\n",
        "    y = w*x + b\n",
        "    return(y)"
      ],
      "execution_count": 0,
      "outputs": []
    },
    {
      "cell_type": "code",
      "metadata": {
        "id": "G2yPY9KoAztM",
        "colab_type": "code",
        "outputId": "46357a70-4c6d-4662-da1c-177b6c323bd5",
        "colab": {
          "base_uri": "https://localhost:8080/",
          "height": 35
        }
      },
      "source": [
        "x = torch.tensor([1])\n",
        "\n",
        "yhat = forward(x)\n",
        "print(yhat)"
      ],
      "execution_count": 0,
      "outputs": [
        {
          "output_type": "stream",
          "text": [
            "tensor([1.], grad_fn=<AddBackward0>)\n"
          ],
          "name": "stdout"
        }
      ]
    },
    {
      "cell_type": "code",
      "metadata": {
        "id": "BiZkgot4A20D",
        "colab_type": "code",
        "outputId": "74381bf2-6dd8-4a1a-dcb4-70e22fea0906",
        "colab": {
          "base_uri": "https://localhost:8080/",
          "height": 54
        }
      },
      "source": [
        "x = torch.tensor([[1],[2]])\n",
        "\n",
        "yhat = forward(x)\n",
        "print(yhat)"
      ],
      "execution_count": 0,
      "outputs": [
        {
          "output_type": "stream",
          "text": [
            "tensor([[1.],\n",
            "        [3.]], grad_fn=<AddBackward0>)\n"
          ],
          "name": "stdout"
        }
      ]
    },
    {
      "cell_type": "markdown",
      "metadata": {
        "id": "czQxE4K92Ky0",
        "colab_type": "text"
      },
      "source": [
        "### Class Linear\n"
      ]
    },
    {
      "cell_type": "code",
      "metadata": {
        "id": "5U_DlFWCCWY9",
        "colab_type": "code",
        "colab": {}
      },
      "source": [
        "from torch.nn import Linear"
      ],
      "execution_count": 0,
      "outputs": []
    },
    {
      "cell_type": "code",
      "metadata": {
        "id": "qvnbjwB3CkPD",
        "colab_type": "code",
        "colab": {}
      },
      "source": [
        "model = Linear(in_features=1, out_features=1)"
      ],
      "execution_count": 0,
      "outputs": []
    },
    {
      "cell_type": "code",
      "metadata": {
        "id": "cO6iuljvCkWk",
        "colab_type": "code",
        "outputId": "858e8b71-efa2-4052-d764-259e953c88fc",
        "colab": {
          "base_uri": "https://localhost:8080/",
          "height": 72
        }
      },
      "source": [
        "list(model.parameters())"
      ],
      "execution_count": 0,
      "outputs": [
        {
          "output_type": "execute_result",
          "data": {
            "text/plain": [
              "[Parameter containing:\n",
              " tensor([[-0.0075]], requires_grad=True), Parameter containing:\n",
              " tensor([0.5364], requires_grad=True)]"
            ]
          },
          "metadata": {
            "tags": []
          },
          "execution_count": 88
        }
      ]
    },
    {
      "cell_type": "code",
      "metadata": {
        "id": "f-fWpMEaClBD",
        "colab_type": "code",
        "outputId": "10da3c00-a6e1-4de8-a2ad-7e7022069891",
        "colab": {
          "base_uri": "https://localhost:8080/",
          "height": 35
        }
      },
      "source": [
        "x = torch.tensor([1.0])\n",
        "yhat = model(x)\n",
        "yhat"
      ],
      "execution_count": 0,
      "outputs": [
        {
          "output_type": "execute_result",
          "data": {
            "text/plain": [
              "tensor([0.5290], grad_fn=<AddBackward0>)"
            ]
          },
          "metadata": {
            "tags": []
          },
          "execution_count": 89
        }
      ]
    },
    {
      "cell_type": "code",
      "metadata": {
        "id": "XLOh9HWNClMz",
        "colab_type": "code",
        "outputId": "7c9b843a-73b4-405c-94f7-765edb350eef",
        "colab": {
          "base_uri": "https://localhost:8080/",
          "height": 54
        }
      },
      "source": [
        "x = torch.tensor([[1.0],[2.0]])\n",
        "yhat = model(x)\n",
        "yhat"
      ],
      "execution_count": 0,
      "outputs": [
        {
          "output_type": "execute_result",
          "data": {
            "text/plain": [
              "tensor([[0.5290],\n",
              "        [0.5215]], grad_fn=<AddmmBackward>)"
            ]
          },
          "metadata": {
            "tags": []
          },
          "execution_count": 90
        }
      ]
    },
    {
      "cell_type": "markdown",
      "metadata": {
        "id": "FpUn_eZN2SST",
        "colab_type": "text"
      },
      "source": [
        "### Build Custom Modules using nn.module"
      ]
    },
    {
      "cell_type": "code",
      "metadata": {
        "id": "g1wNjanLT3HX",
        "colab_type": "code",
        "colab": {}
      },
      "source": [
        "import torch.nn as nn"
      ],
      "execution_count": 0,
      "outputs": []
    },
    {
      "cell_type": "code",
      "metadata": {
        "id": "geCAq0uPT5jO",
        "colab_type": "code",
        "colab": {}
      },
      "source": [
        "class LR(nn.Module):\n",
        "    torch.manual_seed(1)\n",
        "    def __init__(self, input_size, output_size):\n",
        "        super(LR, self).__init__()\n",
        "        self.linear = nn.Linear(input_size, output_size)\n",
        "\n",
        "    def forward(self, x):\n",
        "        y = self.linear(x)\n",
        "        return(y)"
      ],
      "execution_count": 0,
      "outputs": []
    },
    {
      "cell_type": "code",
      "metadata": {
        "id": "Ic5tAPUYUge9",
        "colab_type": "code",
        "outputId": "3647566e-f26c-4ce0-d393-3fb24a6ecbc3",
        "colab": {
          "base_uri": "https://localhost:8080/",
          "height": 35
        }
      },
      "source": [
        "model = LR(1,1)\n",
        "\n",
        "x = torch.tensor([1.0])\n",
        "\n",
        "yhat = model(x)\n",
        "print(yhat)"
      ],
      "execution_count": 0,
      "outputs": [
        {
          "output_type": "stream",
          "text": [
            "tensor([0.0739], grad_fn=<AddBackward0>)\n"
          ],
          "name": "stdout"
        }
      ]
    },
    {
      "cell_type": "code",
      "metadata": {
        "id": "1xzUBP6Ke-Hy",
        "colab_type": "code",
        "outputId": "6ecbb4e3-4637-4eca-ef6d-b6cb1dc9501f",
        "colab": {
          "base_uri": "https://localhost:8080/",
          "height": 217
        }
      },
      "source": [
        "print(list(model.parameters()))\n",
        "print('---------------------------------------')\n",
        "print(model.linear)\n",
        "print('---------------------------------------')\n",
        "print(model.state_dict())\n",
        "print('---------------------------------------')\n",
        "print(model.state_dict().keys())\n",
        "print('---------------------------------------')\n",
        "print(model.state_dict().values())"
      ],
      "execution_count": 0,
      "outputs": [
        {
          "output_type": "stream",
          "text": [
            "[Parameter containing:\n",
            "tensor([[0.5153]], requires_grad=True), Parameter containing:\n",
            "tensor([-0.4414], requires_grad=True)]\n",
            "---------------------------------------\n",
            "Linear(in_features=1, out_features=1, bias=True)\n",
            "---------------------------------------\n",
            "OrderedDict([('linear.weight', tensor([[0.5153]])), ('linear.bias', tensor([-0.4414]))])\n",
            "---------------------------------------\n",
            "odict_keys(['linear.weight', 'linear.bias'])\n",
            "---------------------------------------\n",
            "odict_values([tensor([[0.5153]]), tensor([-0.4414])])\n"
          ],
          "name": "stdout"
        }
      ]
    }
  ]
}